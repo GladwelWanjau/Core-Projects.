{
  "nbformat": 4,
  "nbformat_minor": 0,
  "metadata": {
    "colab": {
      "name": "Moringa_School_Datascience_Core_Week_2_Independent_Project_Gladwel _Wanjau",
      "provenance": [],
      "collapsed_sections": [],
      "authorship_tag": "ABX9TyNKnx/meOgEqhu7TpwbuXjz",
      "include_colab_link": true
    },
    "kernelspec": {
      "name": "python3",
      "display_name": "Python 3"
    }
  },
  "cells": [
    {
      "cell_type": "markdown",
      "metadata": {
        "id": "view-in-github",
        "colab_type": "text"
      },
      "source": [
        "<a href=\"https://colab.research.google.com/github/GladwelWanjau/Core-Projects./blob/master/Moringa_School_Datascience_Core_Week_2_Independent_Project_Gladwel__Wanjau_Final.ipynb\" target=\"_parent\"><img src=\"https://colab.research.google.com/assets/colab-badge.svg\" alt=\"Open In Colab\"/></a>"
      ]
    },
    {
      "cell_type": "code",
      "metadata": {
        "id": "GfmBCjsARx1V",
        "colab_type": "code",
        "colab": {
          "base_uri": "https://localhost:8080/",
          "height": 51
        },
        "outputId": "645aebf8-713c-46e4-84fc-705528170f59"
      },
      "source": [
        "# Importing Numpy\n",
        "import numpy as np\n",
        "\n",
        "# Importing Pandas\n",
        "import pandas as pd\n",
        "\n",
        "# Importing Matplotlib\n",
        "import matplotlib.pyplot as plt\n",
        "\n",
        "# Importing Seaborn\n",
        "import seaborn as sns\n"
      ],
      "execution_count": null,
      "outputs": [
        {
          "output_type": "stream",
          "text": [
            "/usr/local/lib/python3.6/dist-packages/statsmodels/tools/_testing.py:19: FutureWarning: pandas.util.testing is deprecated. Use the functions in the public API at pandas.testing instead.\n",
            "  import pandas.util.testing as tm\n"
          ],
          "name": "stderr"
        }
      ]
    },
    {
      "cell_type": "code",
      "metadata": {
        "id": "HsEyQ6djd2o3",
        "colab_type": "code",
        "colab": {
          "base_uri": "https://localhost:8080/",
          "height": 1000
        },
        "outputId": "713cf5f4-5150-47fc-d9d8-0daaae00aacb"
      },
      "source": [
        "#Importing the Data\n",
        "Fin_df = pd.read_csv(\"http://bit.ly/FinancialDataset\")\n",
        "Fin_df\n",
        "# Previewing the dataset\n",
        "Fin_df.head(20)\n",
        "\n"
      ],
      "execution_count": null,
      "outputs": [
        {
          "output_type": "execute_result",
          "data": {
            "text/html": [
              "<div>\n",
              "<style scoped>\n",
              "    .dataframe tbody tr th:only-of-type {\n",
              "        vertical-align: middle;\n",
              "    }\n",
              "\n",
              "    .dataframe tbody tr th {\n",
              "        vertical-align: top;\n",
              "    }\n",
              "\n",
              "    .dataframe thead th {\n",
              "        text-align: right;\n",
              "    }\n",
              "</style>\n",
              "<table border=\"1\" class=\"dataframe\">\n",
              "  <thead>\n",
              "    <tr style=\"text-align: right;\">\n",
              "      <th></th>\n",
              "      <th>country</th>\n",
              "      <th>year</th>\n",
              "      <th>uniqueid</th>\n",
              "      <th>Has a Bank account</th>\n",
              "      <th>Type of Location</th>\n",
              "      <th>Cell Phone Access</th>\n",
              "      <th>household_size</th>\n",
              "      <th>Respondent Age</th>\n",
              "      <th>gender_of_respondent</th>\n",
              "      <th>The relathip with head</th>\n",
              "      <th>marital_status</th>\n",
              "      <th>Level of Educuation</th>\n",
              "      <th>Type of Job</th>\n",
              "    </tr>\n",
              "  </thead>\n",
              "  <tbody>\n",
              "    <tr>\n",
              "      <th>0</th>\n",
              "      <td>Kenya</td>\n",
              "      <td>2018</td>\n",
              "      <td>uniqueid_1</td>\n",
              "      <td>Yes</td>\n",
              "      <td>Rural</td>\n",
              "      <td>Yes</td>\n",
              "      <td>3.0</td>\n",
              "      <td>24.0</td>\n",
              "      <td>Female</td>\n",
              "      <td>Spouse</td>\n",
              "      <td>Married/Living together</td>\n",
              "      <td>Secondary education</td>\n",
              "      <td>Self employed</td>\n",
              "    </tr>\n",
              "    <tr>\n",
              "      <th>1</th>\n",
              "      <td>Kenya</td>\n",
              "      <td>2018</td>\n",
              "      <td>uniqueid_2</td>\n",
              "      <td>No</td>\n",
              "      <td>Rural</td>\n",
              "      <td>No</td>\n",
              "      <td>5.0</td>\n",
              "      <td>70.0</td>\n",
              "      <td>Female</td>\n",
              "      <td>Head of Household</td>\n",
              "      <td>Widowed</td>\n",
              "      <td>No formal education</td>\n",
              "      <td>Government Dependent</td>\n",
              "    </tr>\n",
              "    <tr>\n",
              "      <th>2</th>\n",
              "      <td>Kenya</td>\n",
              "      <td>2018</td>\n",
              "      <td>uniqueid_3</td>\n",
              "      <td>Yes</td>\n",
              "      <td>Urban</td>\n",
              "      <td>Yes</td>\n",
              "      <td>5.0</td>\n",
              "      <td>26.0</td>\n",
              "      <td>Male</td>\n",
              "      <td>Other relative</td>\n",
              "      <td>Single/Never Married</td>\n",
              "      <td>Vocational/Specialised training</td>\n",
              "      <td>Self employed</td>\n",
              "    </tr>\n",
              "    <tr>\n",
              "      <th>3</th>\n",
              "      <td>Kenya</td>\n",
              "      <td>2018</td>\n",
              "      <td>uniqueid_4</td>\n",
              "      <td>No</td>\n",
              "      <td>Rural</td>\n",
              "      <td>Yes</td>\n",
              "      <td>5.0</td>\n",
              "      <td>34.0</td>\n",
              "      <td>Female</td>\n",
              "      <td>Head of Household</td>\n",
              "      <td>Married/Living together</td>\n",
              "      <td>Primary education</td>\n",
              "      <td>Formally employed Private</td>\n",
              "    </tr>\n",
              "    <tr>\n",
              "      <th>4</th>\n",
              "      <td>Kenya</td>\n",
              "      <td>2018</td>\n",
              "      <td>uniqueid_5</td>\n",
              "      <td>No</td>\n",
              "      <td>Urban</td>\n",
              "      <td>No</td>\n",
              "      <td>8.0</td>\n",
              "      <td>26.0</td>\n",
              "      <td>Male</td>\n",
              "      <td>Child</td>\n",
              "      <td>Single/Never Married</td>\n",
              "      <td>Primary education</td>\n",
              "      <td>Informally employed</td>\n",
              "    </tr>\n",
              "    <tr>\n",
              "      <th>5</th>\n",
              "      <td>Kenya</td>\n",
              "      <td>2018</td>\n",
              "      <td>uniqueid_6</td>\n",
              "      <td>No</td>\n",
              "      <td>Rural</td>\n",
              "      <td>No</td>\n",
              "      <td>7.0</td>\n",
              "      <td>26.0</td>\n",
              "      <td>Female</td>\n",
              "      <td>Spouse</td>\n",
              "      <td>Married/Living together</td>\n",
              "      <td>Primary education</td>\n",
              "      <td>Informally employed</td>\n",
              "    </tr>\n",
              "    <tr>\n",
              "      <th>6</th>\n",
              "      <td>Kenya</td>\n",
              "      <td>2018</td>\n",
              "      <td>uniqueid_7</td>\n",
              "      <td>No</td>\n",
              "      <td>Rural</td>\n",
              "      <td>Yes</td>\n",
              "      <td>7.0</td>\n",
              "      <td>32.0</td>\n",
              "      <td>Female</td>\n",
              "      <td>Spouse</td>\n",
              "      <td>Married/Living together</td>\n",
              "      <td>Primary education</td>\n",
              "      <td>Self employed</td>\n",
              "    </tr>\n",
              "    <tr>\n",
              "      <th>7</th>\n",
              "      <td>Kenya</td>\n",
              "      <td>2018</td>\n",
              "      <td>uniqueid_8</td>\n",
              "      <td>No</td>\n",
              "      <td>Rural</td>\n",
              "      <td>Yes</td>\n",
              "      <td>1.0</td>\n",
              "      <td>42.0</td>\n",
              "      <td>Female</td>\n",
              "      <td>Head of Household</td>\n",
              "      <td>Married/Living together</td>\n",
              "      <td>Tertiary education</td>\n",
              "      <td>Formally employed Government</td>\n",
              "    </tr>\n",
              "    <tr>\n",
              "      <th>8</th>\n",
              "      <td>Kenya</td>\n",
              "      <td>2018</td>\n",
              "      <td>uniqueid_9</td>\n",
              "      <td>Yes</td>\n",
              "      <td>Rural</td>\n",
              "      <td>Yes</td>\n",
              "      <td>3.0</td>\n",
              "      <td>54.0</td>\n",
              "      <td>Male</td>\n",
              "      <td>Head of Household</td>\n",
              "      <td>Married/Living together</td>\n",
              "      <td>Secondary education</td>\n",
              "      <td>Farming and Fishing</td>\n",
              "    </tr>\n",
              "    <tr>\n",
              "      <th>9</th>\n",
              "      <td>Kenya</td>\n",
              "      <td>2018</td>\n",
              "      <td>uniqueid_10</td>\n",
              "      <td>No</td>\n",
              "      <td>Urban</td>\n",
              "      <td>Yes</td>\n",
              "      <td>3.0</td>\n",
              "      <td>76.0</td>\n",
              "      <td>Female</td>\n",
              "      <td>Head of Household</td>\n",
              "      <td>Divorced/Seperated</td>\n",
              "      <td>No formal education</td>\n",
              "      <td>Remittance Dependent</td>\n",
              "    </tr>\n",
              "    <tr>\n",
              "      <th>10</th>\n",
              "      <td>Kenya</td>\n",
              "      <td>2018</td>\n",
              "      <td>uniqueid_11</td>\n",
              "      <td>No</td>\n",
              "      <td>Rural</td>\n",
              "      <td>Yes</td>\n",
              "      <td>5.0</td>\n",
              "      <td>40.0</td>\n",
              "      <td>Female</td>\n",
              "      <td>Head of Household</td>\n",
              "      <td>Married/Living together</td>\n",
              "      <td>Secondary education</td>\n",
              "      <td>Farming and Fishing</td>\n",
              "    </tr>\n",
              "    <tr>\n",
              "      <th>11</th>\n",
              "      <td>Kenya</td>\n",
              "      <td>2018</td>\n",
              "      <td>uniqueid_12</td>\n",
              "      <td>Yes</td>\n",
              "      <td>Rural</td>\n",
              "      <td>Yes</td>\n",
              "      <td>3.0</td>\n",
              "      <td>69.0</td>\n",
              "      <td>Male</td>\n",
              "      <td>Head of Household</td>\n",
              "      <td>Married/Living together</td>\n",
              "      <td>Secondary education</td>\n",
              "      <td>Other Income</td>\n",
              "    </tr>\n",
              "    <tr>\n",
              "      <th>12</th>\n",
              "      <td>Kenya</td>\n",
              "      <td>2018</td>\n",
              "      <td>uniqueid_13</td>\n",
              "      <td>No</td>\n",
              "      <td>Rural</td>\n",
              "      <td>No</td>\n",
              "      <td>6.0</td>\n",
              "      <td>64.0</td>\n",
              "      <td>Female</td>\n",
              "      <td>Head of Household</td>\n",
              "      <td>Widowed</td>\n",
              "      <td>No formal education</td>\n",
              "      <td>Farming and Fishing</td>\n",
              "    </tr>\n",
              "    <tr>\n",
              "      <th>13</th>\n",
              "      <td>Kenya</td>\n",
              "      <td>2018</td>\n",
              "      <td>uniqueid_14</td>\n",
              "      <td>No</td>\n",
              "      <td>Rural</td>\n",
              "      <td>No</td>\n",
              "      <td>8.0</td>\n",
              "      <td>31.0</td>\n",
              "      <td>Female</td>\n",
              "      <td>Spouse</td>\n",
              "      <td>Married/Living together</td>\n",
              "      <td>Primary education</td>\n",
              "      <td>Self employed</td>\n",
              "    </tr>\n",
              "    <tr>\n",
              "      <th>14</th>\n",
              "      <td>Kenya</td>\n",
              "      <td>2018</td>\n",
              "      <td>uniqueid_15</td>\n",
              "      <td>No</td>\n",
              "      <td>Urban</td>\n",
              "      <td>Yes</td>\n",
              "      <td>4.0</td>\n",
              "      <td>26.0</td>\n",
              "      <td>Male</td>\n",
              "      <td>Head of Household</td>\n",
              "      <td>Married/Living together</td>\n",
              "      <td>Primary education</td>\n",
              "      <td>Informally employed</td>\n",
              "    </tr>\n",
              "    <tr>\n",
              "      <th>15</th>\n",
              "      <td>Kenya</td>\n",
              "      <td>2018</td>\n",
              "      <td>uniqueid_16</td>\n",
              "      <td>No</td>\n",
              "      <td>Rural</td>\n",
              "      <td>Yes</td>\n",
              "      <td>7.0</td>\n",
              "      <td>38.0</td>\n",
              "      <td>Male</td>\n",
              "      <td>Head of Household</td>\n",
              "      <td>Married/Living together</td>\n",
              "      <td>Primary education</td>\n",
              "      <td>Informally employed</td>\n",
              "    </tr>\n",
              "    <tr>\n",
              "      <th>16</th>\n",
              "      <td>Kenya</td>\n",
              "      <td>2018</td>\n",
              "      <td>uniqueid_17</td>\n",
              "      <td>No</td>\n",
              "      <td>Urban</td>\n",
              "      <td>Yes</td>\n",
              "      <td>1.0</td>\n",
              "      <td>47.0</td>\n",
              "      <td>Female</td>\n",
              "      <td>Head of Household</td>\n",
              "      <td>Married/Living together</td>\n",
              "      <td>Secondary education</td>\n",
              "      <td>Self employed</td>\n",
              "    </tr>\n",
              "    <tr>\n",
              "      <th>17</th>\n",
              "      <td>Kenya</td>\n",
              "      <td>2018</td>\n",
              "      <td>uniqueid_18</td>\n",
              "      <td>Yes</td>\n",
              "      <td>Rural</td>\n",
              "      <td>Yes</td>\n",
              "      <td>6.0</td>\n",
              "      <td>27.0</td>\n",
              "      <td>Female</td>\n",
              "      <td>Head of Household</td>\n",
              "      <td>Married/Living together</td>\n",
              "      <td>Secondary education</td>\n",
              "      <td>Self employed</td>\n",
              "    </tr>\n",
              "    <tr>\n",
              "      <th>18</th>\n",
              "      <td>Kenya</td>\n",
              "      <td>2018</td>\n",
              "      <td>uniqueid_19</td>\n",
              "      <td>No</td>\n",
              "      <td>Urban</td>\n",
              "      <td>Yes</td>\n",
              "      <td>1.0</td>\n",
              "      <td>48.0</td>\n",
              "      <td>Female</td>\n",
              "      <td>Head of Household</td>\n",
              "      <td>Single/Never Married</td>\n",
              "      <td>Vocational/Specialised training</td>\n",
              "      <td>Formally employed Private</td>\n",
              "    </tr>\n",
              "    <tr>\n",
              "      <th>19</th>\n",
              "      <td>Kenya</td>\n",
              "      <td>2018</td>\n",
              "      <td>uniqueid_20</td>\n",
              "      <td>No</td>\n",
              "      <td>Rural</td>\n",
              "      <td>No</td>\n",
              "      <td>4.0</td>\n",
              "      <td>25.0</td>\n",
              "      <td>Female</td>\n",
              "      <td>Spouse</td>\n",
              "      <td>Married/Living together</td>\n",
              "      <td>Primary education</td>\n",
              "      <td>Farming and Fishing</td>\n",
              "    </tr>\n",
              "  </tbody>\n",
              "</table>\n",
              "</div>"
            ],
            "text/plain": [
              "   country  year  ...              Level of Educuation                   Type of Job\n",
              "0    Kenya  2018  ...              Secondary education                 Self employed\n",
              "1    Kenya  2018  ...              No formal education          Government Dependent\n",
              "2    Kenya  2018  ...  Vocational/Specialised training                 Self employed\n",
              "3    Kenya  2018  ...                Primary education     Formally employed Private\n",
              "4    Kenya  2018  ...                Primary education           Informally employed\n",
              "5    Kenya  2018  ...                Primary education           Informally employed\n",
              "6    Kenya  2018  ...                Primary education                 Self employed\n",
              "7    Kenya  2018  ...               Tertiary education  Formally employed Government\n",
              "8    Kenya  2018  ...              Secondary education           Farming and Fishing\n",
              "9    Kenya  2018  ...              No formal education          Remittance Dependent\n",
              "10   Kenya  2018  ...              Secondary education           Farming and Fishing\n",
              "11   Kenya  2018  ...              Secondary education                  Other Income\n",
              "12   Kenya  2018  ...              No formal education           Farming and Fishing\n",
              "13   Kenya  2018  ...                Primary education                 Self employed\n",
              "14   Kenya  2018  ...                Primary education           Informally employed\n",
              "15   Kenya  2018  ...                Primary education           Informally employed\n",
              "16   Kenya  2018  ...              Secondary education                 Self employed\n",
              "17   Kenya  2018  ...              Secondary education                 Self employed\n",
              "18   Kenya  2018  ...  Vocational/Specialised training     Formally employed Private\n",
              "19   Kenya  2018  ...                Primary education           Farming and Fishing\n",
              "\n",
              "[20 rows x 13 columns]"
            ]
          },
          "metadata": {
            "tags": []
          },
          "execution_count": 4
        }
      ]
    },
    {
      "cell_type": "code",
      "metadata": {
        "id": "bHqAQuTr3uRn",
        "colab_type": "code",
        "colab": {
          "base_uri": "https://localhost:8080/",
          "height": 626
        },
        "outputId": "00387ba3-a681-4d33-d896-53520a2dbff1"
      },
      "source": [
        "#Renaming the Columns\n",
        "Fin_df.rename(columns={'country':'Country','year':'Year','uniqueid':'Unique_Id','Has a bank account':'Has_A_Bank_Account','Type of Location':'Type_Of_Location','Cell Phone Access':'Cell_Phone_Access','household_size':'Household_Size','Respondent Age':'Age_Of_The_Respondent','gender_of_respondent':'Gender_Of_The_Respondent','The relathip with head':'The_Retaionship_With_Head','marital_status':'Marital_Status','Level of Educuation':'Level_Of_Education','Type of Job':'Type_Of_Job'})"
      ],
      "execution_count": null,
      "outputs": [
        {
          "output_type": "execute_result",
          "data": {
            "text/html": [
              "<div>\n",
              "<style scoped>\n",
              "    .dataframe tbody tr th:only-of-type {\n",
              "        vertical-align: middle;\n",
              "    }\n",
              "\n",
              "    .dataframe tbody tr th {\n",
              "        vertical-align: top;\n",
              "    }\n",
              "\n",
              "    .dataframe thead th {\n",
              "        text-align: right;\n",
              "    }\n",
              "</style>\n",
              "<table border=\"1\" class=\"dataframe\">\n",
              "  <thead>\n",
              "    <tr style=\"text-align: right;\">\n",
              "      <th></th>\n",
              "      <th>Country</th>\n",
              "      <th>Year</th>\n",
              "      <th>Unique_Id</th>\n",
              "      <th>Has a Bank account</th>\n",
              "      <th>Type_Of_Location</th>\n",
              "      <th>Cell_Phone_Access</th>\n",
              "      <th>Household_Size</th>\n",
              "      <th>Age_Of_The_Respondent</th>\n",
              "      <th>Gender_Of_The_Respondent</th>\n",
              "      <th>The_Retaionship_With_Head</th>\n",
              "      <th>Marital_Status</th>\n",
              "      <th>Level_Of_Education</th>\n",
              "      <th>Type_Of_Job</th>\n",
              "    </tr>\n",
              "  </thead>\n",
              "  <tbody>\n",
              "    <tr>\n",
              "      <th>0</th>\n",
              "      <td>Kenya</td>\n",
              "      <td>2018</td>\n",
              "      <td>uniqueid_1</td>\n",
              "      <td>Yes</td>\n",
              "      <td>Rural</td>\n",
              "      <td>Yes</td>\n",
              "      <td>3.0</td>\n",
              "      <td>24.0</td>\n",
              "      <td>Female</td>\n",
              "      <td>Spouse</td>\n",
              "      <td>Married/Living together</td>\n",
              "      <td>Secondary education</td>\n",
              "      <td>Self employed</td>\n",
              "    </tr>\n",
              "    <tr>\n",
              "      <th>1</th>\n",
              "      <td>Kenya</td>\n",
              "      <td>2018</td>\n",
              "      <td>uniqueid_2</td>\n",
              "      <td>No</td>\n",
              "      <td>Rural</td>\n",
              "      <td>No</td>\n",
              "      <td>5.0</td>\n",
              "      <td>70.0</td>\n",
              "      <td>Female</td>\n",
              "      <td>Head of Household</td>\n",
              "      <td>Widowed</td>\n",
              "      <td>No formal education</td>\n",
              "      <td>Government Dependent</td>\n",
              "    </tr>\n",
              "    <tr>\n",
              "      <th>2</th>\n",
              "      <td>Kenya</td>\n",
              "      <td>2018</td>\n",
              "      <td>uniqueid_3</td>\n",
              "      <td>Yes</td>\n",
              "      <td>Urban</td>\n",
              "      <td>Yes</td>\n",
              "      <td>5.0</td>\n",
              "      <td>26.0</td>\n",
              "      <td>Male</td>\n",
              "      <td>Other relative</td>\n",
              "      <td>Single/Never Married</td>\n",
              "      <td>Vocational/Specialised training</td>\n",
              "      <td>Self employed</td>\n",
              "    </tr>\n",
              "    <tr>\n",
              "      <th>3</th>\n",
              "      <td>Kenya</td>\n",
              "      <td>2018</td>\n",
              "      <td>uniqueid_4</td>\n",
              "      <td>No</td>\n",
              "      <td>Rural</td>\n",
              "      <td>Yes</td>\n",
              "      <td>5.0</td>\n",
              "      <td>34.0</td>\n",
              "      <td>Female</td>\n",
              "      <td>Head of Household</td>\n",
              "      <td>Married/Living together</td>\n",
              "      <td>Primary education</td>\n",
              "      <td>Formally employed Private</td>\n",
              "    </tr>\n",
              "    <tr>\n",
              "      <th>4</th>\n",
              "      <td>Kenya</td>\n",
              "      <td>2018</td>\n",
              "      <td>uniqueid_5</td>\n",
              "      <td>No</td>\n",
              "      <td>Urban</td>\n",
              "      <td>No</td>\n",
              "      <td>8.0</td>\n",
              "      <td>26.0</td>\n",
              "      <td>Male</td>\n",
              "      <td>Child</td>\n",
              "      <td>Single/Never Married</td>\n",
              "      <td>Primary education</td>\n",
              "      <td>Informally employed</td>\n",
              "    </tr>\n",
              "    <tr>\n",
              "      <th>...</th>\n",
              "      <td>...</td>\n",
              "      <td>...</td>\n",
              "      <td>...</td>\n",
              "      <td>...</td>\n",
              "      <td>...</td>\n",
              "      <td>...</td>\n",
              "      <td>...</td>\n",
              "      <td>...</td>\n",
              "      <td>...</td>\n",
              "      <td>...</td>\n",
              "      <td>...</td>\n",
              "      <td>...</td>\n",
              "      <td>...</td>\n",
              "    </tr>\n",
              "    <tr>\n",
              "      <th>23519</th>\n",
              "      <td>Uganda</td>\n",
              "      <td>2018</td>\n",
              "      <td>uniqueid_2113</td>\n",
              "      <td>No</td>\n",
              "      <td>Rural</td>\n",
              "      <td>Yes</td>\n",
              "      <td>4.0</td>\n",
              "      <td>48.0</td>\n",
              "      <td>Female</td>\n",
              "      <td>Head of Household</td>\n",
              "      <td>Divorced/Seperated</td>\n",
              "      <td>No formal education</td>\n",
              "      <td>Other Income</td>\n",
              "    </tr>\n",
              "    <tr>\n",
              "      <th>23520</th>\n",
              "      <td>Uganda</td>\n",
              "      <td>2018</td>\n",
              "      <td>uniqueid_2114</td>\n",
              "      <td>No</td>\n",
              "      <td>Rural</td>\n",
              "      <td>Yes</td>\n",
              "      <td>2.0</td>\n",
              "      <td>27.0</td>\n",
              "      <td>Female</td>\n",
              "      <td>Head of Household</td>\n",
              "      <td>Single/Never Married</td>\n",
              "      <td>Secondary education</td>\n",
              "      <td>Other Income</td>\n",
              "    </tr>\n",
              "    <tr>\n",
              "      <th>23521</th>\n",
              "      <td>Uganda</td>\n",
              "      <td>2018</td>\n",
              "      <td>uniqueid_2115</td>\n",
              "      <td>No</td>\n",
              "      <td>Rural</td>\n",
              "      <td>Yes</td>\n",
              "      <td>5.0</td>\n",
              "      <td>27.0</td>\n",
              "      <td>Female</td>\n",
              "      <td>Parent</td>\n",
              "      <td>Widowed</td>\n",
              "      <td>Primary education</td>\n",
              "      <td>Other Income</td>\n",
              "    </tr>\n",
              "    <tr>\n",
              "      <th>23522</th>\n",
              "      <td>Uganda</td>\n",
              "      <td>2018</td>\n",
              "      <td>uniqueid_2116</td>\n",
              "      <td>No</td>\n",
              "      <td>Urban</td>\n",
              "      <td>Yes</td>\n",
              "      <td>7.0</td>\n",
              "      <td>30.0</td>\n",
              "      <td>Female</td>\n",
              "      <td>Parent</td>\n",
              "      <td>Divorced/Seperated</td>\n",
              "      <td>Secondary education</td>\n",
              "      <td>Self employed</td>\n",
              "    </tr>\n",
              "    <tr>\n",
              "      <th>23523</th>\n",
              "      <td>Uganda</td>\n",
              "      <td>2018</td>\n",
              "      <td>uniqueid_2117</td>\n",
              "      <td>No</td>\n",
              "      <td>Rural</td>\n",
              "      <td>Yes</td>\n",
              "      <td>10.0</td>\n",
              "      <td>20.0</td>\n",
              "      <td>Male</td>\n",
              "      <td>Child</td>\n",
              "      <td>Single/Never Married</td>\n",
              "      <td>Secondary education</td>\n",
              "      <td>No Income</td>\n",
              "    </tr>\n",
              "  </tbody>\n",
              "</table>\n",
              "<p>23524 rows × 13 columns</p>\n",
              "</div>"
            ],
            "text/plain": [
              "      Country  Year  ...               Level_Of_Education                Type_Of_Job\n",
              "0       Kenya  2018  ...              Secondary education              Self employed\n",
              "1       Kenya  2018  ...              No formal education       Government Dependent\n",
              "2       Kenya  2018  ...  Vocational/Specialised training              Self employed\n",
              "3       Kenya  2018  ...                Primary education  Formally employed Private\n",
              "4       Kenya  2018  ...                Primary education        Informally employed\n",
              "...       ...   ...  ...                              ...                        ...\n",
              "23519  Uganda  2018  ...              No formal education               Other Income\n",
              "23520  Uganda  2018  ...              Secondary education               Other Income\n",
              "23521  Uganda  2018  ...                Primary education               Other Income\n",
              "23522  Uganda  2018  ...              Secondary education              Self employed\n",
              "23523  Uganda  2018  ...              Secondary education                  No Income\n",
              "\n",
              "[23524 rows x 13 columns]"
            ]
          },
          "metadata": {
            "tags": []
          },
          "execution_count": 5
        }
      ]
    },
    {
      "cell_type": "markdown",
      "metadata": {
        "id": "UwMTIOQqlE6s",
        "colab_type": "text"
      },
      "source": [
        "# 1.0 Univariate Analysis"
      ]
    },
    {
      "cell_type": "markdown",
      "metadata": {
        "id": "VtRT0XBw03Ap",
        "colab_type": "text"
      },
      "source": [
        "# Defining the Question\n"
      ]
    },
    {
      "cell_type": "markdown",
      "metadata": {
        "id": "BivTw6AF06xd",
        "colab_type": "text"
      },
      "source": [
        "a) Specifying the Question"
      ]
    },
    {
      "cell_type": "markdown",
      "metadata": {
        "id": "WyBO_At61f7L",
        "colab_type": "text"
      },
      "source": [
        "The question at hand is to look at factors that affect the ability of a person to open a bank account or not to open.Some of these factors include but not limited to;Respondent Age,Location,Access to a phone,Level of education,marital status,among other.Once we have derived the extent to which these variables affect the possibility of a respondent opening or not opening a bank account,then we will be a ble to make predictions on the number of expected new bank accounts thus depict the level of financial inclusion.\n",
        "\n",
        "\n"
      ]
    },
    {
      "cell_type": "markdown",
      "metadata": {
        "id": "Wztfq36r1DTA",
        "colab_type": "text"
      },
      "source": [
        "b) Defining the Metric for Success\n"
      ]
    },
    {
      "cell_type": "markdown",
      "metadata": {
        "id": "r5nC8k6SS3oP",
        "colab_type": "text"
      },
      "source": [
        "The metric of success is whether the respondent Has a bank account or not and the likelihood of opening one."
      ]
    },
    {
      "cell_type": "markdown",
      "metadata": {
        "id": "uc-9NrxH1FOh",
        "colab_type": "text"
      },
      "source": [
        "c) Understanding the context\n"
      ]
    },
    {
      "cell_type": "markdown",
      "metadata": {
        "id": "RNk4vblYTD-A",
        "colab_type": "text"
      },
      "source": [
        "Financial inclusion is determined by many factors but in this particular project we are narrowing down to the having a bank account as the main determinant of whether there is inclusion or not.This may be subjective given that most people have trnsitioned to other forms of savings and investments such as saccos and capital markets.However,for this case we will assume that a bank account is the main determinant."
      ]
    },
    {
      "cell_type": "markdown",
      "metadata": {
        "id": "uW5FKss-1HKH",
        "colab_type": "text"
      },
      "source": [
        "d) Recording the Experimental Design\n"
      ]
    },
    {
      "cell_type": "markdown",
      "metadata": {
        "id": "CvcBEm8VUSB1",
        "colab_type": "text"
      },
      "source": [
        "The analysis will involve eveluating the relationships between the dependent variable(Having a bank account or not) and the independent variables which are the factors that affect the dependent variable."
      ]
    },
    {
      "cell_type": "markdown",
      "metadata": {
        "id": "OH0kdUQN1JCo",
        "colab_type": "text"
      },
      "source": [
        "e) Data Relevance"
      ]
    },
    {
      "cell_type": "markdown",
      "metadata": {
        "id": "TMBPeydlUl4G",
        "colab_type": "text"
      },
      "source": [
        "Most of the data is relevant susch as level of education of the respondent,location,access t cell phones,age...etc.However,some factors do not seem to be relevant such as the household size ,marital status and access to a phone but this could be relevant in getting the context of problem through descriptives statistics."
      ]
    },
    {
      "cell_type": "code",
      "metadata": {
        "id": "CjQm0mH4q4r4",
        "colab_type": "code",
        "colab": {
          "base_uri": "https://localhost:8080/",
          "height": 120
        },
        "outputId": "bf996894-08a5-4f3e-99ad-7e57b58dd7b9"
      },
      "source": [
        "str(Fin_df)"
      ],
      "execution_count": null,
      "outputs": [
        {
          "output_type": "execute_result",
          "data": {
            "application/vnd.google.colaboratory.intrinsic+json": {
              "type": "string"
            },
            "text/plain": [
              "'      country  year  ...              Level of Educuation                Type of Job\\n0       Kenya  2018  ...              Secondary education              Self employed\\n1       Kenya  2018  ...              No formal education       Government Dependent\\n2       Kenya  2018  ...  Vocational/Specialised training              Self employed\\n3       Kenya  2018  ...                Primary education  Formally employed Private\\n4       Kenya  2018  ...                Primary education        Informally employed\\n...       ...   ...  ...                              ...                        ...\\n23519  Uganda  2018  ...              No formal education               Other Income\\n23520  Uganda  2018  ...              Secondary education               Other Income\\n23521  Uganda  2018  ...                Primary education               Other Income\\n23522  Uganda  2018  ...              Secondary education              Self employed\\n23523  Uganda  2018  ...              Secondary education                  No Income\\n\\n[23524 rows x 13 columns]'"
            ]
          },
          "metadata": {
            "tags": []
          },
          "execution_count": 6
        }
      ]
    },
    {
      "cell_type": "code",
      "metadata": {
        "id": "l5Z5wuIYrKBj",
        "colab_type": "code",
        "colab": {
          "base_uri": "https://localhost:8080/",
          "height": 323
        },
        "outputId": "56827376-ef7e-46d1-c892-ceabf3102ec2"
      },
      "source": [
        "#Checking the head of the data\n",
        "Fin_df.head(n=5)"
      ],
      "execution_count": null,
      "outputs": [
        {
          "output_type": "execute_result",
          "data": {
            "text/html": [
              "<div>\n",
              "<style scoped>\n",
              "    .dataframe tbody tr th:only-of-type {\n",
              "        vertical-align: middle;\n",
              "    }\n",
              "\n",
              "    .dataframe tbody tr th {\n",
              "        vertical-align: top;\n",
              "    }\n",
              "\n",
              "    .dataframe thead th {\n",
              "        text-align: right;\n",
              "    }\n",
              "</style>\n",
              "<table border=\"1\" class=\"dataframe\">\n",
              "  <thead>\n",
              "    <tr style=\"text-align: right;\">\n",
              "      <th></th>\n",
              "      <th>country</th>\n",
              "      <th>year</th>\n",
              "      <th>uniqueid</th>\n",
              "      <th>Has a Bank account</th>\n",
              "      <th>Type of Location</th>\n",
              "      <th>Cell Phone Access</th>\n",
              "      <th>household_size</th>\n",
              "      <th>Respondent Age</th>\n",
              "      <th>gender_of_respondent</th>\n",
              "      <th>The relathip with head</th>\n",
              "      <th>marital_status</th>\n",
              "      <th>Level of Educuation</th>\n",
              "      <th>Type of Job</th>\n",
              "    </tr>\n",
              "  </thead>\n",
              "  <tbody>\n",
              "    <tr>\n",
              "      <th>0</th>\n",
              "      <td>Kenya</td>\n",
              "      <td>2018</td>\n",
              "      <td>uniqueid_1</td>\n",
              "      <td>Yes</td>\n",
              "      <td>Rural</td>\n",
              "      <td>Yes</td>\n",
              "      <td>3.0</td>\n",
              "      <td>24.0</td>\n",
              "      <td>Female</td>\n",
              "      <td>Spouse</td>\n",
              "      <td>Married/Living together</td>\n",
              "      <td>Secondary education</td>\n",
              "      <td>Self employed</td>\n",
              "    </tr>\n",
              "    <tr>\n",
              "      <th>1</th>\n",
              "      <td>Kenya</td>\n",
              "      <td>2018</td>\n",
              "      <td>uniqueid_2</td>\n",
              "      <td>No</td>\n",
              "      <td>Rural</td>\n",
              "      <td>No</td>\n",
              "      <td>5.0</td>\n",
              "      <td>70.0</td>\n",
              "      <td>Female</td>\n",
              "      <td>Head of Household</td>\n",
              "      <td>Widowed</td>\n",
              "      <td>No formal education</td>\n",
              "      <td>Government Dependent</td>\n",
              "    </tr>\n",
              "    <tr>\n",
              "      <th>2</th>\n",
              "      <td>Kenya</td>\n",
              "      <td>2018</td>\n",
              "      <td>uniqueid_3</td>\n",
              "      <td>Yes</td>\n",
              "      <td>Urban</td>\n",
              "      <td>Yes</td>\n",
              "      <td>5.0</td>\n",
              "      <td>26.0</td>\n",
              "      <td>Male</td>\n",
              "      <td>Other relative</td>\n",
              "      <td>Single/Never Married</td>\n",
              "      <td>Vocational/Specialised training</td>\n",
              "      <td>Self employed</td>\n",
              "    </tr>\n",
              "    <tr>\n",
              "      <th>3</th>\n",
              "      <td>Kenya</td>\n",
              "      <td>2018</td>\n",
              "      <td>uniqueid_4</td>\n",
              "      <td>No</td>\n",
              "      <td>Rural</td>\n",
              "      <td>Yes</td>\n",
              "      <td>5.0</td>\n",
              "      <td>34.0</td>\n",
              "      <td>Female</td>\n",
              "      <td>Head of Household</td>\n",
              "      <td>Married/Living together</td>\n",
              "      <td>Primary education</td>\n",
              "      <td>Formally employed Private</td>\n",
              "    </tr>\n",
              "    <tr>\n",
              "      <th>4</th>\n",
              "      <td>Kenya</td>\n",
              "      <td>2018</td>\n",
              "      <td>uniqueid_5</td>\n",
              "      <td>No</td>\n",
              "      <td>Urban</td>\n",
              "      <td>No</td>\n",
              "      <td>8.0</td>\n",
              "      <td>26.0</td>\n",
              "      <td>Male</td>\n",
              "      <td>Child</td>\n",
              "      <td>Single/Never Married</td>\n",
              "      <td>Primary education</td>\n",
              "      <td>Informally employed</td>\n",
              "    </tr>\n",
              "  </tbody>\n",
              "</table>\n",
              "</div>"
            ],
            "text/plain": [
              "  country  year  ...              Level of Educuation                Type of Job\n",
              "0   Kenya  2018  ...              Secondary education              Self employed\n",
              "1   Kenya  2018  ...              No formal education       Government Dependent\n",
              "2   Kenya  2018  ...  Vocational/Specialised training              Self employed\n",
              "3   Kenya  2018  ...                Primary education  Formally employed Private\n",
              "4   Kenya  2018  ...                Primary education        Informally employed\n",
              "\n",
              "[5 rows x 13 columns]"
            ]
          },
          "metadata": {
            "tags": []
          },
          "execution_count": 7
        }
      ]
    },
    {
      "cell_type": "code",
      "metadata": {
        "id": "eSu_Zpvaro3R",
        "colab_type": "code",
        "colab": {
          "base_uri": "https://localhost:8080/",
          "height": 306
        },
        "outputId": "9f929e43-0a96-4d81-ddd7-969a4f2a5817"
      },
      "source": [
        "#Checking the bottom of the data\n",
        "Fin_df.tail(n=5)"
      ],
      "execution_count": null,
      "outputs": [
        {
          "output_type": "execute_result",
          "data": {
            "text/html": [
              "<div>\n",
              "<style scoped>\n",
              "    .dataframe tbody tr th:only-of-type {\n",
              "        vertical-align: middle;\n",
              "    }\n",
              "\n",
              "    .dataframe tbody tr th {\n",
              "        vertical-align: top;\n",
              "    }\n",
              "\n",
              "    .dataframe thead th {\n",
              "        text-align: right;\n",
              "    }\n",
              "</style>\n",
              "<table border=\"1\" class=\"dataframe\">\n",
              "  <thead>\n",
              "    <tr style=\"text-align: right;\">\n",
              "      <th></th>\n",
              "      <th>country</th>\n",
              "      <th>year</th>\n",
              "      <th>uniqueid</th>\n",
              "      <th>Has a Bank account</th>\n",
              "      <th>Type of Location</th>\n",
              "      <th>Cell Phone Access</th>\n",
              "      <th>household_size</th>\n",
              "      <th>Respondent Age</th>\n",
              "      <th>gender_of_respondent</th>\n",
              "      <th>The relathip with head</th>\n",
              "      <th>marital_status</th>\n",
              "      <th>Level of Educuation</th>\n",
              "      <th>Type of Job</th>\n",
              "    </tr>\n",
              "  </thead>\n",
              "  <tbody>\n",
              "    <tr>\n",
              "      <th>23519</th>\n",
              "      <td>Uganda</td>\n",
              "      <td>2018</td>\n",
              "      <td>uniqueid_2113</td>\n",
              "      <td>No</td>\n",
              "      <td>Rural</td>\n",
              "      <td>Yes</td>\n",
              "      <td>4.0</td>\n",
              "      <td>48.0</td>\n",
              "      <td>Female</td>\n",
              "      <td>Head of Household</td>\n",
              "      <td>Divorced/Seperated</td>\n",
              "      <td>No formal education</td>\n",
              "      <td>Other Income</td>\n",
              "    </tr>\n",
              "    <tr>\n",
              "      <th>23520</th>\n",
              "      <td>Uganda</td>\n",
              "      <td>2018</td>\n",
              "      <td>uniqueid_2114</td>\n",
              "      <td>No</td>\n",
              "      <td>Rural</td>\n",
              "      <td>Yes</td>\n",
              "      <td>2.0</td>\n",
              "      <td>27.0</td>\n",
              "      <td>Female</td>\n",
              "      <td>Head of Household</td>\n",
              "      <td>Single/Never Married</td>\n",
              "      <td>Secondary education</td>\n",
              "      <td>Other Income</td>\n",
              "    </tr>\n",
              "    <tr>\n",
              "      <th>23521</th>\n",
              "      <td>Uganda</td>\n",
              "      <td>2018</td>\n",
              "      <td>uniqueid_2115</td>\n",
              "      <td>No</td>\n",
              "      <td>Rural</td>\n",
              "      <td>Yes</td>\n",
              "      <td>5.0</td>\n",
              "      <td>27.0</td>\n",
              "      <td>Female</td>\n",
              "      <td>Parent</td>\n",
              "      <td>Widowed</td>\n",
              "      <td>Primary education</td>\n",
              "      <td>Other Income</td>\n",
              "    </tr>\n",
              "    <tr>\n",
              "      <th>23522</th>\n",
              "      <td>Uganda</td>\n",
              "      <td>2018</td>\n",
              "      <td>uniqueid_2116</td>\n",
              "      <td>No</td>\n",
              "      <td>Urban</td>\n",
              "      <td>Yes</td>\n",
              "      <td>7.0</td>\n",
              "      <td>30.0</td>\n",
              "      <td>Female</td>\n",
              "      <td>Parent</td>\n",
              "      <td>Divorced/Seperated</td>\n",
              "      <td>Secondary education</td>\n",
              "      <td>Self employed</td>\n",
              "    </tr>\n",
              "    <tr>\n",
              "      <th>23523</th>\n",
              "      <td>Uganda</td>\n",
              "      <td>2018</td>\n",
              "      <td>uniqueid_2117</td>\n",
              "      <td>No</td>\n",
              "      <td>Rural</td>\n",
              "      <td>Yes</td>\n",
              "      <td>10.0</td>\n",
              "      <td>20.0</td>\n",
              "      <td>Male</td>\n",
              "      <td>Child</td>\n",
              "      <td>Single/Never Married</td>\n",
              "      <td>Secondary education</td>\n",
              "      <td>No Income</td>\n",
              "    </tr>\n",
              "  </tbody>\n",
              "</table>\n",
              "</div>"
            ],
            "text/plain": [
              "      country  year  ...  Level of Educuation    Type of Job\n",
              "23519  Uganda  2018  ...  No formal education   Other Income\n",
              "23520  Uganda  2018  ...  Secondary education   Other Income\n",
              "23521  Uganda  2018  ...    Primary education   Other Income\n",
              "23522  Uganda  2018  ...  Secondary education  Self employed\n",
              "23523  Uganda  2018  ...  Secondary education      No Income\n",
              "\n",
              "[5 rows x 13 columns]"
            ]
          },
          "metadata": {
            "tags": []
          },
          "execution_count": 21
        }
      ]
    },
    {
      "cell_type": "code",
      "metadata": {
        "id": "dvQMLSk0ruws",
        "colab_type": "code",
        "colab": {
          "base_uri": "https://localhost:8080/",
          "height": 424
        },
        "outputId": "21247c2f-78ce-4a05-8ea7-e11bb6ef7ba6"
      },
      "source": [
        "#Checking the descriptive statistics for all the columns\n",
        "Fin_df.describe(include='all')"
      ],
      "execution_count": null,
      "outputs": [
        {
          "output_type": "execute_result",
          "data": {
            "text/html": [
              "<div>\n",
              "<style scoped>\n",
              "    .dataframe tbody tr th:only-of-type {\n",
              "        vertical-align: middle;\n",
              "    }\n",
              "\n",
              "    .dataframe tbody tr th {\n",
              "        vertical-align: top;\n",
              "    }\n",
              "\n",
              "    .dataframe thead th {\n",
              "        text-align: right;\n",
              "    }\n",
              "</style>\n",
              "<table border=\"1\" class=\"dataframe\">\n",
              "  <thead>\n",
              "    <tr style=\"text-align: right;\">\n",
              "      <th></th>\n",
              "      <th>country</th>\n",
              "      <th>year</th>\n",
              "      <th>uniqueid</th>\n",
              "      <th>Has a Bank account</th>\n",
              "      <th>Type of Location</th>\n",
              "      <th>Cell Phone Access</th>\n",
              "      <th>household_size</th>\n",
              "      <th>Respondent Age</th>\n",
              "      <th>gender_of_respondent</th>\n",
              "      <th>The relathip with head</th>\n",
              "      <th>marital_status</th>\n",
              "      <th>Level of Educuation</th>\n",
              "      <th>Type of Job</th>\n",
              "    </tr>\n",
              "  </thead>\n",
              "  <tbody>\n",
              "    <tr>\n",
              "      <th>count</th>\n",
              "      <td>23510</td>\n",
              "      <td>23524.000000</td>\n",
              "      <td>23524</td>\n",
              "      <td>23488</td>\n",
              "      <td>23509</td>\n",
              "      <td>23513</td>\n",
              "      <td>23496.000000</td>\n",
              "      <td>23490.000000</td>\n",
              "      <td>23490</td>\n",
              "      <td>23520</td>\n",
              "      <td>23492</td>\n",
              "      <td>23495</td>\n",
              "      <td>23494</td>\n",
              "    </tr>\n",
              "    <tr>\n",
              "      <th>unique</th>\n",
              "      <td>4</td>\n",
              "      <td>NaN</td>\n",
              "      <td>8735</td>\n",
              "      <td>2</td>\n",
              "      <td>2</td>\n",
              "      <td>2</td>\n",
              "      <td>NaN</td>\n",
              "      <td>NaN</td>\n",
              "      <td>2</td>\n",
              "      <td>6</td>\n",
              "      <td>5</td>\n",
              "      <td>7</td>\n",
              "      <td>10</td>\n",
              "    </tr>\n",
              "    <tr>\n",
              "      <th>top</th>\n",
              "      <td>Rwanda</td>\n",
              "      <td>NaN</td>\n",
              "      <td>uniqueid_1202</td>\n",
              "      <td>No</td>\n",
              "      <td>Rural</td>\n",
              "      <td>Yes</td>\n",
              "      <td>NaN</td>\n",
              "      <td>NaN</td>\n",
              "      <td>Female</td>\n",
              "      <td>Head of Household</td>\n",
              "      <td>Married/Living together</td>\n",
              "      <td>Primary education</td>\n",
              "      <td>Self employed</td>\n",
              "    </tr>\n",
              "    <tr>\n",
              "      <th>freq</th>\n",
              "      <td>8735</td>\n",
              "      <td>NaN</td>\n",
              "      <td>4</td>\n",
              "      <td>20179</td>\n",
              "      <td>14338</td>\n",
              "      <td>17449</td>\n",
              "      <td>NaN</td>\n",
              "      <td>NaN</td>\n",
              "      <td>13859</td>\n",
              "      <td>12829</td>\n",
              "      <td>10739</td>\n",
              "      <td>12775</td>\n",
              "      <td>6428</td>\n",
              "    </tr>\n",
              "    <tr>\n",
              "      <th>mean</th>\n",
              "      <td>NaN</td>\n",
              "      <td>2016.979000</td>\n",
              "      <td>NaN</td>\n",
              "      <td>NaN</td>\n",
              "      <td>NaN</td>\n",
              "      <td>NaN</td>\n",
              "      <td>3.681818</td>\n",
              "      <td>38.804300</td>\n",
              "      <td>NaN</td>\n",
              "      <td>NaN</td>\n",
              "      <td>NaN</td>\n",
              "      <td>NaN</td>\n",
              "      <td>NaN</td>\n",
              "    </tr>\n",
              "    <tr>\n",
              "      <th>std</th>\n",
              "      <td>NaN</td>\n",
              "      <td>0.899669</td>\n",
              "      <td>NaN</td>\n",
              "      <td>NaN</td>\n",
              "      <td>NaN</td>\n",
              "      <td>NaN</td>\n",
              "      <td>2.279933</td>\n",
              "      <td>16.519996</td>\n",
              "      <td>NaN</td>\n",
              "      <td>NaN</td>\n",
              "      <td>NaN</td>\n",
              "      <td>NaN</td>\n",
              "      <td>NaN</td>\n",
              "    </tr>\n",
              "    <tr>\n",
              "      <th>min</th>\n",
              "      <td>NaN</td>\n",
              "      <td>2016.000000</td>\n",
              "      <td>NaN</td>\n",
              "      <td>NaN</td>\n",
              "      <td>NaN</td>\n",
              "      <td>NaN</td>\n",
              "      <td>0.000000</td>\n",
              "      <td>16.000000</td>\n",
              "      <td>NaN</td>\n",
              "      <td>NaN</td>\n",
              "      <td>NaN</td>\n",
              "      <td>NaN</td>\n",
              "      <td>NaN</td>\n",
              "    </tr>\n",
              "    <tr>\n",
              "      <th>25%</th>\n",
              "      <td>NaN</td>\n",
              "      <td>2016.000000</td>\n",
              "      <td>NaN</td>\n",
              "      <td>NaN</td>\n",
              "      <td>NaN</td>\n",
              "      <td>NaN</td>\n",
              "      <td>2.000000</td>\n",
              "      <td>26.000000</td>\n",
              "      <td>NaN</td>\n",
              "      <td>NaN</td>\n",
              "      <td>NaN</td>\n",
              "      <td>NaN</td>\n",
              "      <td>NaN</td>\n",
              "    </tr>\n",
              "    <tr>\n",
              "      <th>50%</th>\n",
              "      <td>NaN</td>\n",
              "      <td>2017.000000</td>\n",
              "      <td>NaN</td>\n",
              "      <td>NaN</td>\n",
              "      <td>NaN</td>\n",
              "      <td>NaN</td>\n",
              "      <td>3.000000</td>\n",
              "      <td>35.000000</td>\n",
              "      <td>NaN</td>\n",
              "      <td>NaN</td>\n",
              "      <td>NaN</td>\n",
              "      <td>NaN</td>\n",
              "      <td>NaN</td>\n",
              "    </tr>\n",
              "    <tr>\n",
              "      <th>75%</th>\n",
              "      <td>NaN</td>\n",
              "      <td>2018.000000</td>\n",
              "      <td>NaN</td>\n",
              "      <td>NaN</td>\n",
              "      <td>NaN</td>\n",
              "      <td>NaN</td>\n",
              "      <td>5.000000</td>\n",
              "      <td>49.000000</td>\n",
              "      <td>NaN</td>\n",
              "      <td>NaN</td>\n",
              "      <td>NaN</td>\n",
              "      <td>NaN</td>\n",
              "      <td>NaN</td>\n",
              "    </tr>\n",
              "    <tr>\n",
              "      <th>max</th>\n",
              "      <td>NaN</td>\n",
              "      <td>2056.000000</td>\n",
              "      <td>NaN</td>\n",
              "      <td>NaN</td>\n",
              "      <td>NaN</td>\n",
              "      <td>NaN</td>\n",
              "      <td>21.000000</td>\n",
              "      <td>100.000000</td>\n",
              "      <td>NaN</td>\n",
              "      <td>NaN</td>\n",
              "      <td>NaN</td>\n",
              "      <td>NaN</td>\n",
              "      <td>NaN</td>\n",
              "    </tr>\n",
              "  </tbody>\n",
              "</table>\n",
              "</div>"
            ],
            "text/plain": [
              "       country          year  ... Level of Educuation    Type of Job\n",
              "count    23510  23524.000000  ...               23495          23494\n",
              "unique       4           NaN  ...                   7             10\n",
              "top     Rwanda           NaN  ...   Primary education  Self employed\n",
              "freq      8735           NaN  ...               12775           6428\n",
              "mean       NaN   2016.979000  ...                 NaN            NaN\n",
              "std        NaN      0.899669  ...                 NaN            NaN\n",
              "min        NaN   2016.000000  ...                 NaN            NaN\n",
              "25%        NaN   2016.000000  ...                 NaN            NaN\n",
              "50%        NaN   2017.000000  ...                 NaN            NaN\n",
              "75%        NaN   2018.000000  ...                 NaN            NaN\n",
              "max        NaN   2056.000000  ...                 NaN            NaN\n",
              "\n",
              "[11 rows x 13 columns]"
            ]
          },
          "metadata": {
            "tags": []
          },
          "execution_count": 20
        }
      ]
    },
    {
      "cell_type": "markdown",
      "metadata": {
        "id": "k1xLDkbHAc77",
        "colab_type": "text"
      },
      "source": [
        "# 1.1 Categorical Data"
      ]
    },
    {
      "cell_type": "code",
      "metadata": {
        "id": "SA_rK_yflOtJ",
        "colab_type": "code",
        "colab": {
          "base_uri": "https://localhost:8080/",
          "height": 264
        },
        "outputId": "c2f9d0f8-d6cf-4f95-94b6-d1470d14f486"
      },
      "source": [
        "Fin_df[\"gender_of_respondent\"].value_counts().plot.pie()\n",
        "plt.title('Pie Chart of the Distribution of the Gender Among the Respondents')\n",
        "plt.show()\n",
        "#Most of the respondents were Female"
      ],
      "execution_count": null,
      "outputs": [
        {
          "output_type": "display_data",
          "data": {
            "image/png": "[encoded data removed]",
            "text/plain": [
              "<Figure size 432x288 with 1 Axes>"
            ]
          },
          "metadata": {
            "tags": []
          }
        }
      ]
    },
    {
      "cell_type": "code",
      "metadata": {
        "id": "3TQvlvHoz-7F",
        "colab_type": "code",
        "colab": {
          "base_uri": "https://localhost:8080/",
          "height": 432
        },
        "outputId": "b2c080fc-71fe-4155-9960-38945dac2e82"
      },
      "source": [
        "Fin_df[\"Type of Job\"].value_counts().plot.bar()\n",
        "plt.title('Bar Chart of the Distribution of the different type of Jobs among the Respondents')\n",
        "plt.show()\n",
        "#Most of the respondents are self employed"
      ],
      "execution_count": null,
      "outputs": [
        {
          "output_type": "display_data",
          "data": {
            "image/png": "[encoded data removed]",
            "text/plain": [
              "<Figure size 432x288 with 1 Axes>"
            ]
          },
          "metadata": {
            "tags": [],
            "needs_background": "light"
          }
        }
      ]
    },
    {
      "cell_type": "code",
      "metadata": {
        "id": "IuwTb_Zx1Isw",
        "colab_type": "code",
        "colab": {
          "base_uri": "https://localhost:8080/",
          "height": 264
        },
        "outputId": "5ce2b733-17dc-4c3b-9252-c4f2fe2d976c"
      },
      "source": [
        "Fin_df['Has a Bank account'].value_counts().plot.pie()\n",
        "plt.title('Bank Account Ownership among the Respondents')\n",
        "plt.show()\n",
        "#20,179 of the respondents didn't have a bank account while 3,309 of the respondents indicated they had a bank account."
      ],
      "execution_count": null,
      "outputs": [
        {
          "output_type": "display_data",
          "data": {
            "image/png": "[encoded data removed]",
            "text/plain": [
              "<Figure size 432x288 with 1 Axes>"
            ]
          },
          "metadata": {
            "tags": []
          }
        }
      ]
    },
    {
      "cell_type": "code",
      "metadata": {
        "id": "GPCblDnN1W9T",
        "colab_type": "code",
        "colab": {
          "base_uri": "https://localhost:8080/",
          "height": 264
        },
        "outputId": "968c8beb-2d4f-48ed-a73b-973657162184"
      },
      "source": [
        "#Getting the frequency distribution table of the cell phone access and plotting the pie chart\n",
        "Fin_df['Cell Phone Access'].value_counts().plot.pie()\n",
        "#Giving our Pi Chart a title\n",
        "plt.title('Pie Chart representing the Level of Phone Access Among the Respondents')\n",
        "#Displaying our Chart\n",
        "plt.show()\n",
        "#Most of the respondents indicated they have access to Phones."
      ],
      "execution_count": null,
      "outputs": [
        {
          "output_type": "display_data",
          "data": {
            "image/png": "[encoded data removed]",
            "text/plain": [
              "<Figure size 432x288 with 1 Axes>"
            ]
          },
          "metadata": {
            "tags": []
          }
        }
      ]
    },
    {
      "cell_type": "code",
      "metadata": {
        "id": "UYX7bDpg1jbA",
        "colab_type": "code",
        "colab": {
          "base_uri": "https://localhost:8080/",
          "height": 368
        },
        "outputId": "cadb077d-a041-4bb8-8c4b-b0b113910470"
      },
      "source": [
        "#Getting the Frequency table of the Relationship with Head of the households and plotting the barchart\n",
        "Fin_df['The relathip with head'].value_counts().plot.bar(color='green')\n",
        "#Giving a title to our Bar Chart\n",
        "plt.title('Bar Chart Showing Relationship of the Head of the House and the Respondent')\n",
        "#Labelling our X Axis\n",
        "plt.xlabel(\"Relationship with Household Head\")\n",
        "#Labelling our Y-Axis\n",
        "plt.ylabel(\"Number of Respondents\")\n",
        "#Displaying our Chart\n",
        "plt.show()\n",
        "#Most of the respondets were the head of their households accounting for 12,829 of the respondents."
      ],
      "execution_count": null,
      "outputs": [
        {
          "output_type": "display_data",
          "data": {
            "image/png": "[encoded data removed]",
            "text/plain": [
              "<Figure size 432x288 with 1 Axes>"
            ]
          },
          "metadata": {
            "tags": [],
            "needs_background": "light"
          }
        }
      ]
    },
    {
      "cell_type": "code",
      "metadata": {
        "id": "V0ZAuy7P2XWk",
        "colab_type": "code",
        "colab": {
          "base_uri": "https://localhost:8080/",
          "height": 403
        },
        "outputId": "f5b5ddba-87de-4fef-e84a-310844815763"
      },
      "source": [
        "#Getting the Frequency table of the Marital Satus of the respondents and plotting the barchart\n",
        "Fin_df['marital_status'].value_counts().plot.barh(color='yellow')\n",
        "#Giving a title to our Bar Chart\n",
        "plt.title('Bar Chart Showing the Marital status of the respondents')\n",
        "#Labelling our X Axis\n",
        "plt.xlabel(\"Marital Status\")\n",
        "#Labelling our Y-Axis\n",
        "plt.ylabel(\"Number of Respondents\")\n",
        "#Displaying our Chart\n",
        "plt.show()\n",
        "#Most of the respondents were married and still living together with their spouses which accounted for 10,739 of the respondents."
      ],
      "execution_count": null,
      "outputs": [
        {
          "output_type": "display_data",
          "data": {
            "image/png": "[encoded data removed]",
            "text/plain": [
              "<Figure size 432x288 with 1 Axes>"
            ]
          },
          "metadata": {
            "tags": [],
            "needs_background": "light"
          }
        }
      ]
    },
    {
      "cell_type": "code",
      "metadata": {
        "id": "LodznX7H3qKt",
        "colab_type": "code",
        "colab": {
          "base_uri": "https://localhost:8080/",
          "height": 295
        },
        "outputId": "82a56f4d-15b7-49e5-fcb5-31b730491be3"
      },
      "source": [
        "#Getting the Frequency of the different Levels of Education of the respondents and plotting the barchart\n",
        "Fin_df['Level of Educuation'].value_counts().plot.barh(color='red')\n",
        "#Giving a title to our Bar Chart\n",
        "plt.title('Bar Chart Showing the Level of Education of the respondents')\n",
        "#Labelling our X Axis\n",
        "plt.xlabel(\"Level of Education\")\n",
        "#Labelling our Y-Axis\n",
        "plt.ylabel(\"Number of Respondents\")\n",
        "#Displaying our Chart\n",
        "plt.show()\n"
      ],
      "execution_count": 25,
      "outputs": [
        {
          "output_type": "display_data",
          "data": {
            "image/png": "[encoded data removed]",
            "text/plain": [
              "<Figure size 432x288 with 1 Axes>"
            ]
          },
          "metadata": {
            "tags": [],
            "needs_background": "light"
          }
        }
      ]
    },
    {
      "cell_type": "code",
      "metadata": {
        "id": "LAj2XVo1MiLO",
        "colab_type": "code",
        "colab": {
          "base_uri": "https://localhost:8080/",
          "height": 278
        },
        "outputId": "ad62f454-e1b0-4ad7-aaf2-849c8dcbbf27"
      },
      "source": [
        "#Getting the Frequency table of the Marital Satus of the respondents and plotting the pie chart\n",
        "Fin_df['country'].value_counts().plot.pie()\n",
        "#Giving a title to our Pie Chart\n",
        "plt.title('Pie Chart Showing the Country of residence of the respondents')\n",
        "#Labelling our X Axis\n",
        "plt.xlabel(\"Country\")\n",
        "#Labelling our Y-Axis\n",
        "plt.ylabel(\"Number of Respondents\")\n",
        "#Displaying our Chart\n",
        "plt.show()\n",
        "#Most of the respondents were from Rwanda followed by Tanzania.\n"
      ],
      "execution_count": null,
      "outputs": [
        {
          "output_type": "display_data",
          "data": {
            "image/png": "[encoded data removed]",
            "text/plain": [
              "<Figure size 432x288 with 1 Axes>"
            ]
          },
          "metadata": {
            "tags": []
          }
        }
      ]
    },
    {
      "cell_type": "markdown",
      "metadata": {
        "id": "ekVJ8l1UNQTi",
        "colab_type": "text"
      },
      "source": [
        "# 1.2 Numerical Data"
      ]
    },
    {
      "cell_type": "markdown",
      "metadata": {
        "id": "qOp7XDwQS6aE",
        "colab_type": "text"
      },
      "source": [
        "# 1.2.1 Measures of Central Tendency"
      ]
    },
    {
      "cell_type": "code",
      "metadata": {
        "id": "A3kqsoFnNVDV",
        "colab_type": "code",
        "colab": {
          "base_uri": "https://localhost:8080/",
          "height": 34
        },
        "outputId": "e3b6d260-e04a-4b40-bc5d-b23586ee8a4a"
      },
      "source": [
        "#Finding the mean of the Household Size\n",
        "Fin_df[\"household_size\"].mean()\n",
        "#The mean of the Household size is 3.6818"
      ],
      "execution_count": null,
      "outputs": [
        {
          "output_type": "execute_result",
          "data": {
            "text/plain": [
              "3.6818181818181817"
            ]
          },
          "metadata": {
            "tags": []
          },
          "execution_count": 51
        }
      ]
    },
    {
      "cell_type": "code",
      "metadata": {
        "id": "15FT2dWwdqX0",
        "colab_type": "code",
        "colab": {
          "base_uri": "https://localhost:8080/",
          "height": 34
        },
        "outputId": "fc69f0e4-ce74-46dd-dbe2-3afde8cc1636"
      },
      "source": [
        "#Finding the median of the Household Size\n",
        "Fin_df[\"household_size\"].median()\n",
        "#The median of the Household Size is 3.0"
      ],
      "execution_count": null,
      "outputs": [
        {
          "output_type": "execute_result",
          "data": {
            "text/plain": [
              "3.0"
            ]
          },
          "metadata": {
            "tags": []
          },
          "execution_count": 52
        }
      ]
    },
    {
      "cell_type": "code",
      "metadata": {
        "id": "OAbHBDF0dsfG",
        "colab_type": "code",
        "colab": {
          "base_uri": "https://localhost:8080/",
          "height": 51
        },
        "outputId": "23399043-5557-430a-8c7d-17bee531077e"
      },
      "source": [
        "#Finding the mode of the Household Size\n",
        "Fin_df[\"household_size\"].mode()\n",
        "#The mode of the Household Size is 2.0"
      ],
      "execution_count": null,
      "outputs": [
        {
          "output_type": "execute_result",
          "data": {
            "text/plain": [
              "0    2.0\n",
              "dtype: float64"
            ]
          },
          "metadata": {
            "tags": []
          },
          "execution_count": 53
        }
      ]
    },
    {
      "cell_type": "code",
      "metadata": {
        "id": "t6zV9q2aViiz",
        "colab_type": "code",
        "colab": {
          "base_uri": "https://localhost:8080/",
          "height": 34
        },
        "outputId": "cb6d4f41-964d-43c5-9bcf-42f597f66db3"
      },
      "source": [
        "#Finding the mean of the Age of the respondent\n",
        "Fin_df[\"Respondent Age\"].mean()\n",
        "#The mean Age of the respondents is 38.8043"
      ],
      "execution_count": null,
      "outputs": [
        {
          "output_type": "execute_result",
          "data": {
            "text/plain": [
              "38.804299702000854"
            ]
          },
          "metadata": {
            "tags": []
          },
          "execution_count": 56
        }
      ]
    },
    {
      "cell_type": "code",
      "metadata": {
        "id": "U3kHDAaJeUDj",
        "colab_type": "code",
        "colab": {
          "base_uri": "https://localhost:8080/",
          "height": 34
        },
        "outputId": "e1e526dc-ab8d-48c4-b47c-64b45b9e23d6"
      },
      "source": [
        "#Finding the median of the Age of the respondent\n",
        "Fin_df[\"Respondent Age\"].median()\n",
        "#The median of the age of the respondents is 35.0"
      ],
      "execution_count": null,
      "outputs": [
        {
          "output_type": "execute_result",
          "data": {
            "text/plain": [
              "35.0"
            ]
          },
          "metadata": {
            "tags": []
          },
          "execution_count": 57
        }
      ]
    },
    {
      "cell_type": "code",
      "metadata": {
        "id": "t7PhSGUbeWI2",
        "colab_type": "code",
        "colab": {
          "base_uri": "https://localhost:8080/",
          "height": 51
        },
        "outputId": "6c4f1fc3-583e-4141-f89f-5133be77930e"
      },
      "source": [
        "#Finding the mode of the Age of the respondent\n",
        "Fin_df[\"Respondent Age\"].mode()\n",
        "#The mode of the Age of the respondent is 30.0\n"
      ],
      "execution_count": null,
      "outputs": [
        {
          "output_type": "execute_result",
          "data": {
            "text/plain": [
              "0    30.0\n",
              "dtype: float64"
            ]
          },
          "metadata": {
            "tags": []
          },
          "execution_count": 58
        }
      ]
    },
    {
      "cell_type": "markdown",
      "metadata": {
        "id": "ThOpykdMWjMd",
        "colab_type": "text"
      },
      "source": [
        "# 1.2.2 Measures of Dispersion"
      ]
    },
    {
      "cell_type": "code",
      "metadata": {
        "id": "_79fokMyWn_B",
        "colab_type": "code",
        "colab": {
          "base_uri": "https://localhost:8080/",
          "height": 34
        },
        "outputId": "f05ce93f-4753-4a46-c7ab-02ba6cfa81c0"
      },
      "source": [
        "#Finding the Standard Deviation of the Household Size\n",
        "Fin_df[\"household_size\"].std()\n",
        "#The Standard Deviation of the Household Size is 2.2799"
      ],
      "execution_count": null,
      "outputs": [
        {
          "output_type": "execute_result",
          "data": {
            "text/plain": [
              "2.279933399631944"
            ]
          },
          "metadata": {
            "tags": []
          },
          "execution_count": 59
        }
      ]
    },
    {
      "cell_type": "code",
      "metadata": {
        "id": "kGad-XthfIfq",
        "colab_type": "code",
        "colab": {
          "base_uri": "https://localhost:8080/",
          "height": 34
        },
        "outputId": "37846516-9e19-42af-ea5a-37fec73bc10a"
      },
      "source": [
        "#Finding the Variance of the Household Size\n",
        "Fin_df[\"household_size\"].var()\n",
        "#The Variance of the Household Size is 5.1981"
      ],
      "execution_count": null,
      "outputs": [
        {
          "output_type": "execute_result",
          "data": {
            "text/plain": [
              "5.198096306757275"
            ]
          },
          "metadata": {
            "tags": []
          },
          "execution_count": 60
        }
      ]
    },
    {
      "cell_type": "code",
      "metadata": {
        "id": "whYAu3gNfKea",
        "colab_type": "code",
        "colab": {}
      },
      "source": [
        "#Finding the Range of the Household Size\n",
        "Val1=Fin_df[\"household_size\"].max()\n",
        "Val2=Fin_df[\"household_size\"].min()\n",
        "Range=Val1-Val2\n",
        "#The Variance of the Household Size is 21.00\n"
      ],
      "execution_count": null,
      "outputs": []
    },
    {
      "cell_type": "code",
      "metadata": {
        "id": "_i6iA0ZHfMt4",
        "colab_type": "code",
        "colab": {
          "base_uri": "https://localhost:8080/",
          "height": 85
        },
        "outputId": "cbf3c798-a5d1-4da6-ca58-6368f42d347c"
      },
      "source": [
        "#Finding the Quantiles of the Household Size\n",
        "Fin_df[\"household_size\"].quantile([0.25,0.5,0.75])\n",
        "#The quantiles are as follows;0.25=2.0,0.50=3.0 and 0.75=5.00."
      ],
      "execution_count": null,
      "outputs": [
        {
          "output_type": "execute_result",
          "data": {
            "text/plain": [
              "0.25    2.0\n",
              "0.50    3.0\n",
              "0.75    5.0\n",
              "Name: household_size, dtype: float64"
            ]
          },
          "metadata": {
            "tags": []
          },
          "execution_count": 65
        }
      ]
    },
    {
      "cell_type": "code",
      "metadata": {
        "id": "lfpZJ6ZyfPJD",
        "colab_type": "code",
        "colab": {
          "base_uri": "https://localhost:8080/",
          "height": 34
        },
        "outputId": "6010c808-312e-422c-f1c7-1924db79c19c"
      },
      "source": [
        "#Finding the Skewness of the Household Size\n",
        "Fin_df[\"household_size\"].skew()\n",
        "#The skewness of the Household Size is 0.9777"
      ],
      "execution_count": null,
      "outputs": [
        {
          "output_type": "execute_result",
          "data": {
            "text/plain": [
              "0.977652354434429"
            ]
          },
          "metadata": {
            "tags": []
          },
          "execution_count": 69
        }
      ]
    },
    {
      "cell_type": "code",
      "metadata": {
        "id": "Koaz0jUBfRX5",
        "colab_type": "code",
        "colab": {
          "base_uri": "https://localhost:8080/",
          "height": 34
        },
        "outputId": "84b77b01-2ec0-4fc9-aca4-dcb31bd908d3"
      },
      "source": [
        "#Finding the Kurtosis of the Household Size\n",
        "Fin_df[\"household_size\"].kurt()\n",
        "#The kurtosis of the Household Size is 1.1582"
      ],
      "execution_count": null,
      "outputs": [
        {
          "output_type": "execute_result",
          "data": {
            "text/plain": [
              "1.1581542795310726"
            ]
          },
          "metadata": {
            "tags": []
          },
          "execution_count": 70
        }
      ]
    },
    {
      "cell_type": "code",
      "metadata": {
        "id": "oy3AZ_sWfTit",
        "colab_type": "code",
        "colab": {
          "base_uri": "https://localhost:8080/",
          "height": 170
        },
        "outputId": "4421ebc7-b7e4-4929-b0a0-38f50315663c"
      },
      "source": [
        "#Displaying Summary Statistics\n",
        "Fin_df[\"household_size\"].describe()"
      ],
      "execution_count": null,
      "outputs": [
        {
          "output_type": "execute_result",
          "data": {
            "text/plain": [
              "count    23496.000000\n",
              "mean         3.681818\n",
              "std          2.279933\n",
              "min          0.000000\n",
              "25%          2.000000\n",
              "50%          3.000000\n",
              "75%          5.000000\n",
              "max         21.000000\n",
              "Name: household_size, dtype: float64"
            ]
          },
          "metadata": {
            "tags": []
          },
          "execution_count": 68
        }
      ]
    },
    {
      "cell_type": "code",
      "metadata": {
        "id": "GThujJBdX0pI",
        "colab_type": "code",
        "colab": {
          "base_uri": "https://localhost:8080/",
          "height": 34
        },
        "outputId": "25d21c1f-013a-44cd-85e3-a4d08fcb9cb0"
      },
      "source": [
        "#Finding the Standard Deviation of the Age Of The Respondent\n",
        "Fin_df[\"Respondent Age\"].std()\n",
        "#The Standard deviation is 16.52"
      ],
      "execution_count": null,
      "outputs": [
        {
          "output_type": "execute_result",
          "data": {
            "text/plain": [
              "16.51999610879876"
            ]
          },
          "metadata": {
            "tags": []
          },
          "execution_count": 73
        }
      ]
    },
    {
      "cell_type": "code",
      "metadata": {
        "id": "HXsJLKtohZa_",
        "colab_type": "code",
        "colab": {
          "base_uri": "https://localhost:8080/",
          "height": 34
        },
        "outputId": "e0b2d1a6-0fd8-427a-aa71-9a24bfba4a9c"
      },
      "source": [
        "#Finding the Variance of the Age Of The Respondent\n",
        "Fin_df[\"Respondent Age\"].var()\n",
        "#The Variance is 272.91\n"
      ],
      "execution_count": null,
      "outputs": [
        {
          "output_type": "execute_result",
          "data": {
            "text/plain": [
              "272.9102714347262"
            ]
          },
          "metadata": {
            "tags": []
          },
          "execution_count": 74
        }
      ]
    },
    {
      "cell_type": "code",
      "metadata": {
        "id": "53quWfM9hbkH",
        "colab_type": "code",
        "colab": {}
      },
      "source": [
        "#Finding the Range of the Age Of The Respondent\n",
        "Val3=Fin_df[\"Respondent Age\"].max()\n",
        "Val4=Fin_df[\"Respondent Age\"].min()\n",
        "Range=Val3-Val4\n",
        "#The Range is 84\n"
      ],
      "execution_count": null,
      "outputs": []
    },
    {
      "cell_type": "code",
      "metadata": {
        "id": "zpwDiQWQhdVx",
        "colab_type": "code",
        "colab": {
          "base_uri": "https://localhost:8080/",
          "height": 85
        },
        "outputId": "005aee32-de1f-4ee9-87c2-883013417091"
      },
      "source": [
        "#Finding the Quantiles of the Age Of The Respondent\n",
        "Fin_df[\"Respondent Age\"].quantile([0.25,0.5,0.75])\n",
        "#The quantiles are;0.25=26.0,0.50=35.0 and 0.75=49.0"
      ],
      "execution_count": null,
      "outputs": [
        {
          "output_type": "execute_result",
          "data": {
            "text/plain": [
              "0.25    26.0\n",
              "0.50    35.0\n",
              "0.75    49.0\n",
              "Name: Respondent Age, dtype: float64"
            ]
          },
          "metadata": {
            "tags": []
          },
          "execution_count": 78
        }
      ]
    },
    {
      "cell_type": "code",
      "metadata": {
        "id": "wSEs-DwuhfY2",
        "colab_type": "code",
        "colab": {
          "base_uri": "https://localhost:8080/",
          "height": 34
        },
        "outputId": "aa3f7f81-783a-4433-c522-56e1ec6fb8cd"
      },
      "source": [
        "#Finding the Skewness of the Age Of The Respondent\n",
        "Fin_df[\"Respondent Age\"].skew()\n",
        "#The skewness is 0.8418"
      ],
      "execution_count": null,
      "outputs": [
        {
          "output_type": "execute_result",
          "data": {
            "text/plain": [
              "0.8418012375387167"
            ]
          },
          "metadata": {
            "tags": []
          },
          "execution_count": 79
        }
      ]
    },
    {
      "cell_type": "code",
      "metadata": {
        "id": "AlYkvD-JhigI",
        "colab_type": "code",
        "colab": {
          "base_uri": "https://localhost:8080/",
          "height": 34
        },
        "outputId": "cacb6e84-dfc1-4800-a1db-0c114b34b772"
      },
      "source": [
        "#Finding the Kurtosis of the Age Of The Respondent\n",
        "Fin_df[\"Respondent Age\"].kurt()\n",
        "#The Kurtosis is 0.1011"
      ],
      "execution_count": null,
      "outputs": [
        {
          "output_type": "execute_result",
          "data": {
            "text/plain": [
              "0.10110811880734305"
            ]
          },
          "metadata": {
            "tags": []
          },
          "execution_count": 80
        }
      ]
    },
    {
      "cell_type": "code",
      "metadata": {
        "id": "UpEFiQi0hmnf",
        "colab_type": "code",
        "colab": {
          "base_uri": "https://localhost:8080/",
          "height": 170
        },
        "outputId": "488d7aea-24d7-4a5a-f3a2-dfdf9b7b6202"
      },
      "source": [
        "#Displaying Summary Statistics\n",
        "Fin_df[\"Respondent Age\"].describe()"
      ],
      "execution_count": null,
      "outputs": [
        {
          "output_type": "execute_result",
          "data": {
            "text/plain": [
              "count    23490.000000\n",
              "mean        38.804300\n",
              "std         16.519996\n",
              "min         16.000000\n",
              "25%         26.000000\n",
              "50%         35.000000\n",
              "75%         49.000000\n",
              "max        100.000000\n",
              "Name: Respondent Age, dtype: float64"
            ]
          },
          "metadata": {
            "tags": []
          },
          "execution_count": 81
        }
      ]
    },
    {
      "cell_type": "markdown",
      "metadata": {
        "id": "q0aUaFyMi1kb",
        "colab_type": "text"
      },
      "source": [
        "# 1.2.3 Visualizations"
      ]
    },
    {
      "cell_type": "code",
      "metadata": {
        "id": "gFPRX0TIi529",
        "colab_type": "code",
        "colab": {
          "base_uri": "https://localhost:8080/",
          "height": 295
        },
        "outputId": "64269b04-c17a-4685-ecd2-8cc2d8b14efa"
      },
      "source": [
        "#Creating the boxplot of the Household Size\n",
        "sns.boxplot(Fin_df[\"household_size\"],showmeans=True)\n",
        "#Giving a title to our boxplot\n",
        "plt.title(' Boxplot showing the distribution of household size among the Respondents')\n",
        "#Labelling our X Axis\n",
        "plt.xlabel(\"Household Size\")\n",
        "#Displaying our Chart\n",
        "plt.show()\n",
        "#There are outliers in the dataset"
      ],
      "execution_count": null,
      "outputs": [
        {
          "output_type": "display_data",
          "data": {
            "image/png": "[encoded data removed]",
            "text/plain": [
              "<Figure size 432x288 with 1 Axes>"
            ]
          },
          "metadata": {
            "tags": [],
            "needs_background": "light"
          }
        }
      ]
    },
    {
      "cell_type": "code",
      "metadata": {
        "id": "OAD6IGPTjT47",
        "colab_type": "code",
        "colab": {
          "base_uri": "https://localhost:8080/",
          "height": 295
        },
        "outputId": "8de75630-7db1-4066-8d32-2ea3fbe2bc37"
      },
      "source": [
        "#Creating the boxplot of the Age of the Respondent\n",
        "sns.boxplot(Fin_df[\"Respondent Age\"],showmeans=True)\n",
        "#Giving a title to our boxplot\n",
        "plt.title(' Boxplot showing the distribution of Respondent Age')\n",
        "#Labelling our X Axis\n",
        "plt.xlabel(\"Respondent Age\")\n",
        "#Displaying our Chart\n",
        "plt.show()\n",
        "#Outliers are present in the graph"
      ],
      "execution_count": null,
      "outputs": [
        {
          "output_type": "display_data",
          "data": {
            "image/png": "[encoded data removed]",
            "text/plain": [
              "<Figure size 432x288 with 1 Axes>"
            ]
          },
          "metadata": {
            "tags": [],
            "needs_background": "light"
          }
        }
      ]
    },
    {
      "cell_type": "code",
      "metadata": {
        "id": "YlwAghmojlnH",
        "colab_type": "code",
        "colab": {
          "base_uri": "https://localhost:8080/",
          "height": 295
        },
        "outputId": "ced289ae-ce7e-41b0-d7a1-d6a6179096fa"
      },
      "source": [
        "Fin_df[\"household_size\"].plot.hist(color='green')\n",
        "#Giving a title to our Histogram\n",
        "plt.title(' Histogram showing the distribution of Household Size')\n",
        "#Labelling our X Axis\n",
        "plt.xlabel(\"Household Size\")\n",
        "#Labelling thr Y Axis\n",
        "plt.ylabel(\"Frequency\")\n",
        "#Displaying our Chart\n",
        "plt.show()"
      ],
      "execution_count": null,
      "outputs": [
        {
          "output_type": "display_data",
          "data": {
            "image/png": "[encoded data removed]",
            "text/plain": [
              "<Figure size 432x288 with 1 Axes>"
            ]
          },
          "metadata": {
            "tags": [],
            "needs_background": "light"
          }
        }
      ]
    },
    {
      "cell_type": "code",
      "metadata": {
        "id": "vDrWfvQsk85s",
        "colab_type": "code",
        "colab": {
          "base_uri": "https://localhost:8080/",
          "height": 295
        },
        "outputId": "1c8d4374-2ec3-45c6-90ef-d63ee9dd14da"
      },
      "source": [
        "Fin_df[\"Respondent Age\"].plot.hist(color='red')\n",
        "#Giving a title to our Histogram\n",
        "plt.title(' Histogram showing the distribution of Respondent Age')\n",
        "#Labelling our X Axis\n",
        "plt.xlabel(\"Respondent Age\")\n",
        "#Labelling thr Y Axis\n",
        "plt.ylabel(\"Frequency\")\n",
        "#Displaying our Chart\n",
        "plt.show()\n",
        "#Most of the respondents are between the age of 20 and 40 years with the highest percentage being in their 30s."
      ],
      "execution_count": null,
      "outputs": [
        {
          "output_type": "display_data",
          "data": {
            "image/png": "[encoded data removed]",
            "text/plain": [
              "<Figure size 432x288 with 1 Axes>"
            ]
          },
          "metadata": {
            "tags": [],
            "needs_background": "light"
          }
        }
      ]
    },
    {
      "cell_type": "markdown",
      "metadata": {
        "id": "xLiHq836l9wi",
        "colab_type": "text"
      },
      "source": [
        "# 1.2.4 Exploratory Data Analysis"
      ]
    },
    {
      "cell_type": "code",
      "metadata": {
        "id": "sglGjvXqmOYv",
        "colab_type": "code",
        "colab": {
          "base_uri": "https://localhost:8080/",
          "height": 34
        },
        "outputId": "4a912238-8cf7-4431-c4d6-d3b2be9d4a8c"
      },
      "source": [
        "#Checking for missing values\n",
        "Fin_df.isnull().values.any()\n",
        "# There are missing values as the code above returns TRUE"
      ],
      "execution_count": null,
      "outputs": [
        {
          "output_type": "execute_result",
          "data": {
            "text/plain": [
              "True"
            ]
          },
          "metadata": {
            "tags": []
          },
          "execution_count": 92
        }
      ]
    },
    {
      "cell_type": "code",
      "metadata": {
        "id": "tKkC8N2unhVN",
        "colab_type": "code",
        "colab": {
          "base_uri": "https://localhost:8080/",
          "height": 255
        },
        "outputId": "8bcd6870-c9a6-45fa-b710-c770e4be72d7"
      },
      "source": [
        "#Getting the total number of missing values across different columns\n",
        "Fin_df.isnull().sum()\n",
        "#From the output,most of the respondents (36) didn't fill in the question on whether they had a bank account which is the main metric for the analysis.\n",
        "#However these are not the only missing values,most of the other columns equally have missing values with the exception of the year and uniqueid columns."
      ],
      "execution_count": null,
      "outputs": [
        {
          "output_type": "execute_result",
          "data": {
            "text/plain": [
              "country                   14\n",
              "year                       0\n",
              "uniqueid                   0\n",
              "Has a Bank account        36\n",
              "Type of Location          15\n",
              "Cell Phone Access         11\n",
              "household_size            28\n",
              "Respondent Age            34\n",
              "gender_of_respondent      34\n",
              "The relathip with head     4\n",
              "marital_status            32\n",
              "Level of Educuation       29\n",
              "Type of Job               30\n",
              "dtype: int64"
            ]
          },
          "metadata": {
            "tags": []
          },
          "execution_count": 93
        }
      ]
    },
    {
      "cell_type": "code",
      "metadata": {
        "id": "f-jTvGEqoFd4",
        "colab_type": "code",
        "colab": {}
      },
      "source": [
        "#Replacing the missing values with zero\n",
        "\n",
        "Fin_df['country'].replace('-', 0, inplace=True)"
      ],
      "execution_count": null,
      "outputs": []
    },
    {
      "cell_type": "code",
      "metadata": {
        "id": "WLSmhb4xp_KI",
        "colab_type": "code",
        "colab": {}
      },
      "source": [
        "#Outlier Detection\n",
        "col_names = ['country','uniqueid', 'Has a Bank Account', 'Type of Location', 'Cell Phone Access', 'household_size',,'Respondent Age','gender_of_respondent','The relathip with head','marital_status','Level of Educuation','Type of Job']\n",
        "\n",
        "fig, ax = plt.subplots(len(col_names), figsize=(8,40))\n",
        "\n",
        "for i, col_val in enumerate(col_names):\n",
        "\n",
        "    sns.boxplot(y=Fin_df[col_val], ax=ax[i])\n",
        "    ax[i].set_title('Box plot - {}'.format(col_val), fontsize=10)\n",
        "    ax[i].set_xlabel(col_val, fontsize=8)\n",
        "\n",
        "plt.show()"
      ],
      "execution_count": null,
      "outputs": []
    },
    {
      "cell_type": "markdown",
      "metadata": {
        "id": "qavWjlb6t_f-",
        "colab_type": "text"
      },
      "source": [
        "# **Follow up question**"
      ]
    },
    {
      "cell_type": "markdown",
      "metadata": {
        "id": "Eb57VY2IuJO8",
        "colab_type": "text"
      },
      "source": [
        "a). Did we have the right data?\n"
      ]
    },
    {
      "cell_type": "markdown",
      "metadata": {
        "id": "E6_gO89yVOgD",
        "colab_type": "text"
      },
      "source": [
        "The data was relevant to the task"
      ]
    },
    {
      "cell_type": "markdown",
      "metadata": {
        "id": "f5QVIpGnuQiz",
        "colab_type": "text"
      },
      "source": [
        "b). Do we need other data to answer our question?\n"
      ]
    },
    {
      "cell_type": "markdown",
      "metadata": {
        "id": "RoRMZpq6VR9h",
        "colab_type": "text"
      },
      "source": [
        "Yes we do need other factors such as sacco membership or other forms of financial investments and savings methods."
      ]
    },
    {
      "cell_type": "markdown",
      "metadata": {
        "id": "23_1o7IMuTVC",
        "colab_type": "text"
      },
      "source": [
        "c). Did we have the right question?"
      ]
    },
    {
      "cell_type": "markdown",
      "metadata": {
        "id": "xzL7hu_nWBtI",
        "colab_type": "text"
      },
      "source": [
        "Yes the question was right."
      ]
    },
    {
      "cell_type": "markdown",
      "metadata": {
        "id": "UA85vMrGhpnX",
        "colab_type": "text"
      },
      "source": [
        "# 2.0 Bivariate Analysis"
      ]
    },
    {
      "cell_type": "markdown",
      "metadata": {
        "id": "1VWTG3EjE9yr",
        "colab_type": "text"
      },
      "source": [
        "Defining the Question\n"
      ]
    },
    {
      "cell_type": "markdown",
      "metadata": {
        "id": "rpFqpoIGFAHp",
        "colab_type": "text"
      },
      "source": [
        "a) Specifying the Question\n",
        "\n"
      ]
    },
    {
      "cell_type": "markdown",
      "metadata": {
        "id": "B-PsfzLZW9hD",
        "colab_type": "text"
      },
      "source": [
        "As indicated in the univariate Analysis"
      ]
    },
    {
      "cell_type": "markdown",
      "metadata": {
        "id": "a3yxwWjnFCZC",
        "colab_type": "text"
      },
      "source": [
        "\n",
        "b) Defining the Metric for Success\n",
        "\n"
      ]
    },
    {
      "cell_type": "markdown",
      "metadata": {
        "id": "6SctVFiOW7_M",
        "colab_type": "text"
      },
      "source": [
        "As indicated in the univariate Analysis"
      ]
    },
    {
      "cell_type": "markdown",
      "metadata": {
        "id": "o5vUrkHoFMSp",
        "colab_type": "text"
      },
      "source": [
        "c) Understanding the context\n"
      ]
    },
    {
      "cell_type": "markdown",
      "metadata": {
        "id": "Rwy4G4xfW66v",
        "colab_type": "text"
      },
      "source": [
        "As indicated in the univariate Analysis"
      ]
    },
    {
      "cell_type": "markdown",
      "metadata": {
        "id": "GuUi-dK2FOwH",
        "colab_type": "text"
      },
      "source": [
        "d) Recording the Experimental Design\n",
        "\n"
      ]
    },
    {
      "cell_type": "markdown",
      "metadata": {
        "id": "hEA0XBciW5yO",
        "colab_type": "text"
      },
      "source": [
        "As indicated in the univariate Analysis"
      ]
    },
    {
      "cell_type": "markdown",
      "metadata": {
        "id": "3oRabFqoFQ7L",
        "colab_type": "text"
      },
      "source": [
        "e) Data Relevance"
      ]
    },
    {
      "cell_type": "markdown",
      "metadata": {
        "id": "rhtaXtz2W4hu",
        "colab_type": "text"
      },
      "source": [
        "As indicated in the univariate Analysis"
      ]
    },
    {
      "cell_type": "markdown",
      "metadata": {
        "id": "SBCjZ-Fmhxzh",
        "colab_type": "text"
      },
      "source": [
        "# 2.1 Categorical and Categorical"
      ]
    },
    {
      "cell_type": "markdown",
      "metadata": {
        "id": "-SYBLKv6-19w",
        "colab_type": "text"
      },
      "source": [
        "Stacked Column Chart"
      ]
    },
    {
      "cell_type": "code",
      "metadata": {
        "id": "kSKPYoANtQ4I",
        "colab_type": "code",
        "colab": {}
      },
      "source": [
        "#Creating a stacked bar chart from the dataset\n",
        "Fin_df[['gender_of_respondent', 'marital_status']].plot(kind='bar', figsize=(8, 6), stacked=True)\n",
        "\n",
        "# Rotating the x axis ticks\n",
        "plt.xticks(rotation = 45)\n",
        "\n",
        "# Giving the chart a title\n",
        "plt.title(\"Sales of Hybrid, Racing and Electric Bikes (May 2017 - May 18)\", fontsize=14, y=1.015)\n",
        "\n",
        "# Labeling the y axis\n",
        "plt.ylabel(\"Sales\", fontsize=14, labelpad=15)\n",
        "\n",
        "# Labeling our x axis\n",
        "plt.xlabel(\"Months\", fontsize=14, labelpad=15)\n",
        "\n",
        "# Displaying our chart\n",
        "plt.show()"
      ],
      "execution_count": null,
      "outputs": []
    },
    {
      "cell_type": "markdown",
      "metadata": {
        "id": "dcJc0E9fCe_F",
        "colab_type": "text"
      },
      "source": [
        "Bar Charts"
      ]
    },
    {
      "cell_type": "markdown",
      "metadata": {
        "id": "dE2S-E4ikum5",
        "colab_type": "text"
      },
      "source": [
        "# 2.2 Categorical and Numerical"
      ]
    },
    {
      "cell_type": "code",
      "metadata": {
        "id": "3EGt6caVk0jK",
        "colab_type": "code",
        "colab": {
          "base_uri": "https://localhost:8080/",
          "height": 300
        },
        "outputId": "751005ed-4bf2-47c7-b322-7452cfb41af8"
      },
      "source": [
        "# Plotting our line graph\n",
        "Fin_df[['Respondent Age','Has a Bank account']].plot()\n",
        "\n",
        "# Giving a title to our line graph\n",
        "plt.title(\"Age of the Respondents who have Bank Accounts\", fontsize=14, y=1.015)\n",
        "\n",
        "# Labelling the y-axis\n",
        "plt.ylabel('Age')\n",
        "\n",
        "# Labelling the x-axis\n",
        "plt.xlabel('Number of Respondents with Bank Accounts')\n",
        "\n",
        "# Displaying our graph\n",
        "plt.show()"
      ],
      "execution_count": null,
      "outputs": [
        {
          "output_type": "display_data",
          "data": {
            "image/png": "[encoded data removed]",
            "text/plain": [
              "<Figure size 432x288 with 1 Axes>"
            ]
          },
          "metadata": {
            "tags": [],
            "needs_background": "light"
          }
        }
      ]
    },
    {
      "cell_type": "code",
      "metadata": {
        "id": "0noUel4q-MKV",
        "colab_type": "code",
        "colab": {
          "base_uri": "https://localhost:8080/",
          "height": 300
        },
        "outputId": "195ccd96-2ca6-4620-96c4-500401695178"
      },
      "source": [
        "# Plotting our line graph\n",
        "Fin_df[['household_size','Has a Bank account']].plot()\n",
        "\n",
        "# Giving a title to our line graph\n",
        "plt.title(\"Household sizes of the Respondents who have Bank Accounts\", fontsize=14, y=1.015)\n",
        "\n",
        "# Labelling the y-axis\n",
        "plt.ylabel('Household Size')\n",
        "\n",
        "# Labelling the x-axis\n",
        "plt.xlabel('Number of Respondents with Bank Accounts')\n",
        "\n",
        "# Displaying our graph\n",
        "plt.show()"
      ],
      "execution_count": null,
      "outputs": [
        {
          "output_type": "display_data",
          "data": {
            "image/png": "[encoded data removed]",
            "text/plain": [
              "<Figure size 432x288 with 1 Axes>"
            ]
          },
          "metadata": {
            "tags": [],
            "needs_background": "light"
          }
        }
      ]
    },
    {
      "cell_type": "markdown",
      "metadata": {
        "id": "wcz1xdNsk28u",
        "colab_type": "text"
      },
      "source": [
        "# 2.3 Numerical and Numerical"
      ]
    },
    {
      "cell_type": "markdown",
      "metadata": {
        "id": "rPOwwiO-_Srl",
        "colab_type": "text"
      },
      "source": [
        "**Scatter plot**"
      ]
    },
    {
      "cell_type": "code",
      "metadata": {
        "id": "JT7tySWeXTOH",
        "colab_type": "code",
        "colab": {
          "base_uri": "https://localhost:8080/",
          "height": 296
        },
        "outputId": "001d8a20-3b86-4eb4-f944-487f75d0864b"
      },
      "source": [
        "# Using Pandas: Plotting our scatterplot to compare the variables\n",
        "Fin_df.plot(x = 'Respondent Age', y = 'household_size', kind='scatter')\n",
        "#There is no relationship between the age of the respondent and their household size"
      ],
      "execution_count": null,
      "outputs": [
        {
          "output_type": "execute_result",
          "data": {
            "text/plain": [
              "<matplotlib.axes._subplots.AxesSubplot at 0x7f8ad840c710>"
            ]
          },
          "metadata": {
            "tags": []
          },
          "execution_count": 25
        },
        {
          "output_type": "display_data",
          "data": {
            "image/png": "[encoded data removed]",
            "text/plain": [
              "<Figure size 432x288 with 1 Axes>"
            ]
          },
          "metadata": {
            "tags": [],
            "needs_background": "light"
          }
        }
      ]
    },
    {
      "cell_type": "markdown",
      "metadata": {
        "id": "KMRCm5ye_d0C",
        "colab_type": "text"
      },
      "source": [
        "**Correlation**"
      ]
    },
    {
      "cell_type": "code",
      "metadata": {
        "id": "GD2MG355k8Lw",
        "colab_type": "code",
        "colab": {
          "base_uri": "https://localhost:8080/",
          "height": 51
        },
        "outputId": "10523b52-1435-4a31-82a8-2fefd526be7d"
      },
      "source": [
        "#Calculating the pearson coefficient\n",
        "pearson_coeff = Fin_df[\"Respondent Age\"].corr(Fin_df[\"household_size\"], method=\"pearson\") \n",
        "print(pearson_coeff)\n",
        "\n",
        "# Checking whether you have to define the pearson\n",
        "coeff = Fin_df[\"Respondent Age\"].corr(Fin_df[\"household_size\"])\n",
        "print(coeff)\n",
        "#The Pearson coefficient is -0.1197 indicating that there is a weak correlation between the two variables"
      ],
      "execution_count": null,
      "outputs": [
        {
          "output_type": "stream",
          "text": [
            "-0.1197092971464233\n",
            "-0.1197092971464233\n"
          ],
          "name": "stdout"
        }
      ]
    },
    {
      "cell_type": "markdown",
      "metadata": {
        "id": "e2yaZsvyFdEY",
        "colab_type": "text"
      },
      "source": [
        "# **Follow up question**\n"
      ]
    },
    {
      "cell_type": "markdown",
      "metadata": {
        "id": "IifpzsekFfUn",
        "colab_type": "text"
      },
      "source": [
        "a). Did we have the right data?\n",
        "\n"
      ]
    },
    {
      "cell_type": "markdown",
      "metadata": {
        "id": "LbBedCe1WvzQ",
        "colab_type": "text"
      },
      "source": [
        "As indicated in the univariate Analysis"
      ]
    },
    {
      "cell_type": "markdown",
      "metadata": {
        "id": "uGmx8r9IFhgg",
        "colab_type": "text"
      },
      "source": [
        "b). Do we need other data to answer our question?\n",
        "\n"
      ]
    },
    {
      "cell_type": "markdown",
      "metadata": {
        "id": "jg4TBvdxWyT9",
        "colab_type": "text"
      },
      "source": [
        "As indicated in the univariate Analysis"
      ]
    },
    {
      "cell_type": "markdown",
      "metadata": {
        "id": "FJdGS_wZFjce",
        "colab_type": "text"
      },
      "source": [
        "c). Did we have the right question?"
      ]
    },
    {
      "cell_type": "markdown",
      "metadata": {
        "id": "Ul4oPYf9WzkC",
        "colab_type": "text"
      },
      "source": [
        "As indicated in the univariate Analysis"
      ]
    },
    {
      "cell_type": "markdown",
      "metadata": {
        "id": "8O7iqmCnlgeA",
        "colab_type": "text"
      },
      "source": [
        "# 3.0 Multivariate Analysis-Principal Component Analysis"
      ]
    },
    {
      "cell_type": "markdown",
      "metadata": {
        "id": "omtY9x_KAAeM",
        "colab_type": "text"
      },
      "source": [
        "1. Defining the Question\n"
      ]
    },
    {
      "cell_type": "markdown",
      "metadata": {
        "id": "cJqm5zsLACk3",
        "colab_type": "text"
      },
      "source": [
        "a) Specifying the Data Analytic Question\n",
        "\n",
        "\n"
      ]
    },
    {
      "cell_type": "markdown",
      "metadata": {
        "id": "7xRv59liWOCx",
        "colab_type": "text"
      },
      "source": [
        "In this case we will be expected to predict the metric of success using the other factors and see how best they predict this variable."
      ]
    },
    {
      "cell_type": "markdown",
      "metadata": {
        "id": "UpKAkHakAGdy",
        "colab_type": "text"
      },
      "source": [
        "b) Defining the Metric for Success\n"
      ]
    },
    {
      "cell_type": "markdown",
      "metadata": {
        "id": "4XQMzkchWd7l",
        "colab_type": "text"
      },
      "source": [
        "As indicated in the univariate analysis"
      ]
    },
    {
      "cell_type": "markdown",
      "metadata": {
        "id": "F4r2Xo0TAImp",
        "colab_type": "text"
      },
      "source": [
        "c) Understanding the context\n"
      ]
    },
    {
      "cell_type": "markdown",
      "metadata": {
        "id": "SUYH9V8-WiNg",
        "colab_type": "text"
      },
      "source": [
        "As indicated in the univariate Analysis"
      ]
    },
    {
      "cell_type": "markdown",
      "metadata": {
        "id": "JeUANuGhAKgl",
        "colab_type": "text"
      },
      "source": [
        "d) Recording the Experimental Design\n"
      ]
    },
    {
      "cell_type": "markdown",
      "metadata": {
        "id": "m6u-mJhfWnhg",
        "colab_type": "text"
      },
      "source": [
        "As indicated in the univariate Analysis."
      ]
    },
    {
      "cell_type": "markdown",
      "metadata": {
        "id": "HbK76TabAMPi",
        "colab_type": "text"
      },
      "source": [
        "e) Data Relevance"
      ]
    },
    {
      "cell_type": "markdown",
      "metadata": {
        "id": "gLeG7g3tWt44",
        "colab_type": "text"
      },
      "source": [
        "As indicated in the univariate Analysis"
      ]
    },
    {
      "cell_type": "code",
      "metadata": {
        "id": "C2SqAAzVl8lw",
        "colab_type": "code",
        "colab": {}
      },
      "source": [
        "\n",
        "#Step1: Converting Categorical Data to Numerical Data\n",
        "#a) Converting the country variable\n",
        "from sklearn.preprocessing import LabelEncoder\n",
        "le=LabelEncoder()\n",
        "Fin_df['Country_le']=le.fit_transform(Fin_df.country)\n",
        "Fin_df.head()\n"
      ],
      "execution_count": null,
      "outputs": []
    },
    {
      "cell_type": "code",
      "metadata": {
        "id": "RerOHuYTmCfp",
        "colab_type": "code",
        "colab": {}
      },
      "source": [
        "#b) converting the marital status variable\n",
        "from sklearn.preprocessing import LabelEncoder\n",
        "le=LabelEncoder()\n",
        "Fin_df['Marital_le']=le.fit_transform(Fin_df.marital_status)\n",
        "Fin_df.head()\n"
      ],
      "execution_count": null,
      "outputs": []
    },
    {
      "cell_type": "code",
      "metadata": {
        "id": "bDmmARoEAzjk",
        "colab_type": "code",
        "colab": {}
      },
      "source": [
        "#c) converting the Type of location variable\n",
        "Fin_df['Location']=pd.factorize(Fin_df.Type of Location)[0]\n"
      ],
      "execution_count": null,
      "outputs": []
    },
    {
      "cell_type": "code",
      "metadata": {
        "id": "PwaLsL1-Cbub",
        "colab_type": "code",
        "colab": {}
      },
      "source": [
        "#d) Converting the Cell Phone Access variable\n",
        "Fin_df['Access']=pd.factorize(Fin_df.Cell Phone Access)[0]\n"
      ],
      "execution_count": null,
      "outputs": []
    },
    {
      "cell_type": "code",
      "metadata": {
        "id": "hPVpB-hyC9S0",
        "colab_type": "code",
        "colab": {}
      },
      "source": [
        "#e) Converting the gender_of respondent variable\n",
        "Fin_df['Gender']=pd.factorize(Fin_df.gender_of_respondent)[0]\n",
        "\n"
      ],
      "execution_count": null,
      "outputs": []
    },
    {
      "cell_type": "code",
      "metadata": {
        "id": "rm63Wdr3DPhq",
        "colab_type": "code",
        "colab": {}
      },
      "source": [
        "#f) Converting the Relationship with the Head Variable\n",
        "Fin_df['Relationship']=pd.factorize(Fin_df.The relathip with head)[0]\n"
      ],
      "execution_count": null,
      "outputs": []
    },
    {
      "cell_type": "code",
      "metadata": {
        "id": "OCMt9RsLDpOp",
        "colab_type": "code",
        "colab": {}
      },
      "source": [
        "#g) Converting the Level of Education Variable\n",
        "Fin_df['Education']=pd.factorize(Fin_df.Level of Educuation)[0]\n"
      ],
      "execution_count": null,
      "outputs": []
    },
    {
      "cell_type": "code",
      "metadata": {
        "id": "fnG4XCIQEEYr",
        "colab_type": "code",
        "colab": {}
      },
      "source": [
        "#h) Converting the Type of Job Variable\n",
        "Fin_df['Job']=pd.factorize(Fin_df.Type of Job)[0]\n",
        "\n"
      ],
      "execution_count": null,
      "outputs": []
    },
    {
      "cell_type": "code",
      "metadata": {
        "id": "gRiuDn2TEZ2t",
        "colab_type": "code",
        "colab": {}
      },
      "source": [
        "#g) Converting the Has a Bank account variable\n",
        "Fin_df['Account']=pd.factorize(Fin_df.Has a Bank account)[0]\n",
        "\n"
      ],
      "execution_count": null,
      "outputs": []
    },
    {
      "cell_type": "code",
      "metadata": {
        "id": "_8m6s1YVEqpM",
        "colab_type": "code",
        "colab": {}
      },
      "source": [
        "#Step 2\n",
        "#Scaling the data\n",
        "Scaled_data=preprocessing.scale(Fin_df.T)\n"
      ],
      "execution_count": null,
      "outputs": []
    },
    {
      "cell_type": "code",
      "metadata": {
        "id": "u0b6KFreF6Lm",
        "colab_type": "code",
        "colab": {}
      },
      "source": [
        "#Step 3\n",
        "pca=PCA()\n",
        "pca.fit(Scaled_data)\n",
        "#Generating co-ordinates for our plot\n",
        "pca_data=pca_transform(Scaled_data)"
      ],
      "execution_count": null,
      "outputs": []
    },
    {
      "cell_type": "code",
      "metadata": {
        "id": "2rIWyavPG1YX",
        "colab_type": "code",
        "colab": {}
      },
      "source": [
        "#Step 4\n",
        "#Getting the percentage of variation\n",
        "per_var=np.round(pca.explained_variance_ratio_*100,decimals=1)\n"
      ],
      "execution_count": null,
      "outputs": []
    },
    {
      "cell_type": "code",
      "metadata": {
        "id": "hwVwTfi8IDaj",
        "colab_type": "code",
        "colab": {}
      },
      "source": [
        "#Step 5\n",
        "#Creating labels for scree plot\n",
        "labels=['PC'+str(x) for x in range (1,len(per_var)+1)]"
      ],
      "execution_count": null,
      "outputs": []
    },
    {
      "cell_type": "code",
      "metadata": {
        "id": "lPJ-mSnTId_2",
        "colab_type": "code",
        "colab": {}
      },
      "source": [
        "#Step 6\n",
        "#Creating a bar plot using matplotlib\n",
        "plt.bar(x=range(1,len(per_var)+1),height=per_var,tick_label=labels)\n",
        "plt.ylabel('Percentage of Explained Variance')\n",
        "plt.title('Scree Plot')\n",
        "plt.show()\n"
      ],
      "execution_count": null,
      "outputs": []
    },
    {
      "cell_type": "code",
      "metadata": {
        "id": "z2D4tfaMKs0S",
        "colab_type": "code",
        "colab": {}
      },
      "source": [
        "# Working towards predicting data\n",
        "#Step 1\n",
        "X = Fin_df.drop('Has a Bank account', 1)\n",
        "y = Fin_df['Has a Bank account']"
      ],
      "execution_count": null,
      "outputs": []
    },
    {
      "cell_type": "code",
      "metadata": {
        "id": "pBqFBIlzLGNa",
        "colab_type": "code",
        "colab": {}
      },
      "source": [
        "#Step 2:Splitting the dataset into the Training set and Test set\n",
        "# The next preprocessing step is to divide data into training and test sets. \n",
        "# We execute the following script to do so:\n",
        "#\n",
        "from sklearn.model_selection import train_test_split\n",
        "\n",
        "X_train, X_test, y_train, y_test = train_test_split(X, y, test_size=0.2, random_state=0)"
      ],
      "execution_count": null,
      "outputs": []
    },
    {
      "cell_type": "code",
      "metadata": {
        "id": "0egdg7yaLS8G",
        "colab_type": "code",
        "colab": {}
      },
      "source": [
        "# Step 3: Normalizing \n",
        "# We will perform standard scalar normalization to normalize the feature set. \n",
        "# The code below executes this:\n",
        "# \n",
        "from sklearn.preprocessing import StandardScaler\n",
        "\n",
        "sc = StandardScaler()\n",
        "X_train = sc.fit_transform(X_train)\n",
        "X_test = sc.transform(X_test)"
      ],
      "execution_count": null,
      "outputs": []
    },
    {
      "cell_type": "code",
      "metadata": {
        "id": "wHGSvGHlLoay",
        "colab_type": "code",
        "colab": {}
      },
      "source": [
        "Step 4: Applying PCA\n",
        "#We apply PCA using the following code:\n",
        "\n",
        "from sklearn.decomposition import PCA\n",
        "\n",
        "pca = PCA()\n",
        "X_train = pca.fit_transform(X_train)\n",
        "X_test = pca.transform(X_test)"
      ],
      "execution_count": null,
      "outputs": []
    },
    {
      "cell_type": "code",
      "metadata": {
        "id": "TqiUIHz0L2yP",
        "colab_type": "code",
        "colab": {}
      },
      "source": [
        "# Step 5: Getting the Explained Variance Ratio\n",
        "\n",
        "explained_variance = pca.explained_variance_ratio_\n",
        "explained_variance"
      ],
      "execution_count": null,
      "outputs": []
    },
    {
      "cell_type": "code",
      "metadata": {
        "id": "2uqWFFWpMIAR",
        "colab_type": "code",
        "colab": {}
      },
      "source": [
        "# Step 6: Using 1 Principal Component\n",
        "\n",
        "from sklearn.decomposition import PCA\n",
        "\n",
        "pca = PCA(n_components=1)\n",
        "X_train = pca.fit_transform(X_train)\n",
        "X_test = pca.transform(X_test)"
      ],
      "execution_count": null,
      "outputs": []
    },
    {
      "cell_type": "code",
      "metadata": {
        "id": "MuZhYR9KMX9t",
        "colab_type": "code",
        "colab": {}
      },
      "source": [
        "# Step 7: Training and Making Predictions\n",
        "\n",
        "from sklearn.ensemble import RandomForestClassifier\n",
        "\n",
        "classifier = RandomForestClassifier(max_depth=2, random_state=0)\n",
        "classifier.fit(X_train, y_train)\n",
        "\n",
        "# Predicting the Test set results\n",
        "y_pred = classifier.predict(X_test)"
      ],
      "execution_count": null,
      "outputs": []
    },
    {
      "cell_type": "code",
      "metadata": {
        "id": "iIxTavfGMdMD",
        "colab_type": "code",
        "colab": {}
      },
      "source": [
        "# Step 8: Evaluating Performance\n",
        "# Performance is evaluated by executing the following codes\n",
        "from sklearn.metrics import confusion_matrix\n",
        "from sklearn.metrics import accuracy_score\n",
        "\n",
        "cm = confusion_matrix(y_test, y_pred)\n",
        "print(cm)\n",
        "print('Accuracy' , accuracy_score(y_test, y_pred))\n",
        "\n"
      ],
      "execution_count": null,
      "outputs": []
    },
    {
      "cell_type": "code",
      "metadata": {
        "id": "dQWddmNGMvuT",
        "colab_type": "code",
        "colab": {}
      },
      "source": [
        "# Step 9: Using two Principal Components and evaluating the results\n",
        "\n",
        "from sklearn.decomposition import PCA\n",
        "\n",
        "pca = PCA(n_components=2)\n",
        "X_train = pca.fit_transform(X_train)\n",
        "X_test = pca.transform(X_test)\n"
      ],
      "execution_count": null,
      "outputs": []
    },
    {
      "cell_type": "code",
      "metadata": {
        "id": "JAQb5vEPNOUb",
        "colab_type": "code",
        "colab": {}
      },
      "source": [
        "# Step 10: Evaluating the Results with two Principal Components\n",
        "#We do this by Implementing the following Codes\n",
        "\n",
        "X_train, X_test, y_train, y_test = train_test_split(X, y, test_size=0.2, random_state=0)\n",
        "\n",
        "sc = StandardScaler()\n",
        "X_train = sc.fit_transform(X_train)\n",
        "X_test = sc.transform(X_test)\n",
        "\n",
        "pca = PCA(n_components=3)\n",
        "X_train = pca.fit_transform(X_train)\n",
        "X_test = pca.transform(X_test)\n",
        "\n",
        "classifier = RandomForestClassifier(max_depth=2, random_state=0)\n",
        "classifier.fit(X_train, y_train)"
      ],
      "execution_count": null,
      "outputs": []
    },
    {
      "cell_type": "code",
      "metadata": {
        "id": "iqc5DdGlNoGz",
        "colab_type": "code",
        "colab": {}
      },
      "source": [
        "# Step 11: Predicting the Test set results\n",
        "y_pred = classifier.predict(X_test)\n",
        "\n",
        "M = confusion_matrix(y_test, y_pred)\n",
        "print(M)\n",
        "print('Accuracy' , accuracy_score(y_test, y_pred))"
      ],
      "execution_count": null,
      "outputs": []
    },
    {
      "cell_type": "markdown",
      "metadata": {
        "id": "EIo4Ng10XHZA",
        "colab_type": "text"
      },
      "source": [
        "From the above analysis the optimal level of accuracy was achieved by significantly reducing the number of features in the dataset."
      ]
    },
    {
      "cell_type": "markdown",
      "metadata": {
        "id": "kpWAE4s5AWwj",
        "colab_type": "text"
      },
      "source": [
        "3.4  Follow up questions\n"
      ]
    },
    {
      "cell_type": "markdown",
      "metadata": {
        "id": "le4KPkUlAbSE",
        "colab_type": "text"
      },
      "source": [
        "a). Did we have the right data?\n"
      ]
    },
    {
      "cell_type": "markdown",
      "metadata": {
        "id": "UNEgNnd_XBis",
        "colab_type": "text"
      },
      "source": [
        "As indicated in the univariate Analysis"
      ]
    },
    {
      "cell_type": "markdown",
      "metadata": {
        "id": "CCuy0fXSAdoe",
        "colab_type": "text"
      },
      "source": [
        "b). Do we need other data to answer our question?\n"
      ]
    },
    {
      "cell_type": "markdown",
      "metadata": {
        "id": "Wkrjv_CTXC9U",
        "colab_type": "text"
      },
      "source": [
        "As indicated in the univariate Analysis"
      ]
    },
    {
      "cell_type": "markdown",
      "metadata": {
        "id": "GyXAUFmJAffn",
        "colab_type": "text"
      },
      "source": [
        "c). Did we have the right question?"
      ]
    },
    {
      "cell_type": "markdown",
      "metadata": {
        "id": "kgXGAmL7XEKe",
        "colab_type": "text"
      },
      "source": [
        "As indicated in the univariate Analysis"
      ]
    }
  ]
}