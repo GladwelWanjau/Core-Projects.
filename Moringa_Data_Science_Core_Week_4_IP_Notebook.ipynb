{
  "nbformat": 4,
  "nbformat_minor": 0,
  "metadata": {
    "colab": {
      "name": "Moringa_Data Science Core_Week_4_IP_Notebook",
      "provenance": [],
      "collapsed_sections": [],
      "authorship_tag": "ABX9TyPheSIyALD11zSIJVRgciW4",
      "include_colab_link": true
    },
    "kernelspec": {
      "name": "python3",
      "display_name": "Python 3"
    }
  },
  "cells": [
    {
      "cell_type": "markdown",
      "metadata": {
        "id": "view-in-github",
        "colab_type": "text"
      },
      "source": [
        "<a href=\"https://colab.research.google.com/github/GladwelWanjau/Core-Projects./blob/master/Moringa_Data_Science_Core_Week_4_IP_Notebook.ipynb\" target=\"_parent\"><img src=\"https://colab.research.google.com/assets/colab-badge.svg\" alt=\"Open In Colab\"/></a>"
      ]
    },
    {
      "cell_type": "code",
      "metadata": {
        "id": "c4vuP-UgSqDm",
        "colab_type": "code",
        "colab": {}
      },
      "source": [
        "# Importing Pandas\n",
        "# \n",
        "import pandas as pd\n",
        "\n",
        "# Importing Numpy\n",
        "#\n",
        "import numpy as np\n",
        "# Importing Seaborn\n",
        "#\n",
        "import seaborn as sns\n",
        "# Importing Matplotlib\n",
        "#\n",
        "import matplotlib.pyplot as plt"
      ],
      "execution_count": 87,
      "outputs": []
    },
    {
      "cell_type": "code",
      "metadata": {
        "id": "yi_Da8zgTeXG",
        "colab_type": "code",
        "colab": {
          "base_uri": "https://localhost:8080/",
          "height": 385
        },
        "outputId": "f775fd36-22ad-4952-f793-003dc582eaac"
      },
      "source": [
        "#Importing our dataset\n",
        "df = pd.read_csv('http://bit.ly/DSCoreAutolibDataset')\n",
        "df\n",
        "#Viewing the first 10 rows\n",
        "df.head(10)\n",
        "#Viewing the last 10 rows\n",
        "df.tail(10)"
      ],
      "execution_count": 88,
      "outputs": [
        {
          "output_type": "execute_result",
          "data": {
            "text/html": [
              "<div>\n",
              "<style scoped>\n",
              "    .dataframe tbody tr th:only-of-type {\n",
              "        vertical-align: middle;\n",
              "    }\n",
              "\n",
              "    .dataframe tbody tr th {\n",
              "        vertical-align: top;\n",
              "    }\n",
              "\n",
              "    .dataframe thead th {\n",
              "        text-align: right;\n",
              "    }\n",
              "</style>\n",
              "<table border=\"1\" class=\"dataframe\">\n",
              "  <thead>\n",
              "    <tr style=\"text-align: right;\">\n",
              "      <th></th>\n",
              "      <th>Postal code</th>\n",
              "      <th>date</th>\n",
              "      <th>n_daily_data_points</th>\n",
              "      <th>dayOfWeek</th>\n",
              "      <th>day_type</th>\n",
              "      <th>BlueCars_taken_sum</th>\n",
              "      <th>BlueCars_returned_sum</th>\n",
              "      <th>Utilib_taken_sum</th>\n",
              "      <th>Utilib_returned_sum</th>\n",
              "      <th>Utilib_14_taken_sum</th>\n",
              "      <th>Utilib_14_returned_sum</th>\n",
              "      <th>Slots_freed_sum</th>\n",
              "      <th>Slots_taken_sum</th>\n",
              "    </tr>\n",
              "  </thead>\n",
              "  <tbody>\n",
              "    <tr>\n",
              "      <th>16075</th>\n",
              "      <td>95880</td>\n",
              "      <td>6/10/2018</td>\n",
              "      <td>1440</td>\n",
              "      <td>6</td>\n",
              "      <td>weekend</td>\n",
              "      <td>34</td>\n",
              "      <td>32</td>\n",
              "      <td>0</td>\n",
              "      <td>0</td>\n",
              "      <td>1</td>\n",
              "      <td>0</td>\n",
              "      <td>0</td>\n",
              "      <td>0</td>\n",
              "    </tr>\n",
              "    <tr>\n",
              "      <th>16076</th>\n",
              "      <td>95880</td>\n",
              "      <td>6/11/2018</td>\n",
              "      <td>1440</td>\n",
              "      <td>0</td>\n",
              "      <td>weekday</td>\n",
              "      <td>17</td>\n",
              "      <td>18</td>\n",
              "      <td>0</td>\n",
              "      <td>0</td>\n",
              "      <td>0</td>\n",
              "      <td>0</td>\n",
              "      <td>0</td>\n",
              "      <td>0</td>\n",
              "    </tr>\n",
              "    <tr>\n",
              "      <th>16077</th>\n",
              "      <td>95880</td>\n",
              "      <td>6/12/2018</td>\n",
              "      <td>1439</td>\n",
              "      <td>1</td>\n",
              "      <td>weekday</td>\n",
              "      <td>25</td>\n",
              "      <td>25</td>\n",
              "      <td>0</td>\n",
              "      <td>0</td>\n",
              "      <td>0</td>\n",
              "      <td>0</td>\n",
              "      <td>0</td>\n",
              "      <td>0</td>\n",
              "    </tr>\n",
              "    <tr>\n",
              "      <th>16078</th>\n",
              "      <td>95880</td>\n",
              "      <td>6/13/2018</td>\n",
              "      <td>1440</td>\n",
              "      <td>2</td>\n",
              "      <td>weekday</td>\n",
              "      <td>12</td>\n",
              "      <td>13</td>\n",
              "      <td>0</td>\n",
              "      <td>0</td>\n",
              "      <td>1</td>\n",
              "      <td>1</td>\n",
              "      <td>0</td>\n",
              "      <td>0</td>\n",
              "    </tr>\n",
              "    <tr>\n",
              "      <th>16079</th>\n",
              "      <td>95880</td>\n",
              "      <td>6/14/2018</td>\n",
              "      <td>1439</td>\n",
              "      <td>3</td>\n",
              "      <td>weekday</td>\n",
              "      <td>15</td>\n",
              "      <td>13</td>\n",
              "      <td>0</td>\n",
              "      <td>0</td>\n",
              "      <td>0</td>\n",
              "      <td>0</td>\n",
              "      <td>0</td>\n",
              "      <td>0</td>\n",
              "    </tr>\n",
              "    <tr>\n",
              "      <th>16080</th>\n",
              "      <td>95880</td>\n",
              "      <td>6/15/2018</td>\n",
              "      <td>1440</td>\n",
              "      <td>4</td>\n",
              "      <td>weekday</td>\n",
              "      <td>15</td>\n",
              "      <td>10</td>\n",
              "      <td>0</td>\n",
              "      <td>0</td>\n",
              "      <td>2</td>\n",
              "      <td>3</td>\n",
              "      <td>0</td>\n",
              "      <td>0</td>\n",
              "    </tr>\n",
              "    <tr>\n",
              "      <th>16081</th>\n",
              "      <td>95880</td>\n",
              "      <td>6/16/2018</td>\n",
              "      <td>1440</td>\n",
              "      <td>5</td>\n",
              "      <td>weekend</td>\n",
              "      <td>19</td>\n",
              "      <td>19</td>\n",
              "      <td>0</td>\n",
              "      <td>0</td>\n",
              "      <td>2</td>\n",
              "      <td>1</td>\n",
              "      <td>0</td>\n",
              "      <td>0</td>\n",
              "    </tr>\n",
              "    <tr>\n",
              "      <th>16082</th>\n",
              "      <td>95880</td>\n",
              "      <td>6/17/2018</td>\n",
              "      <td>1440</td>\n",
              "      <td>6</td>\n",
              "      <td>weekend</td>\n",
              "      <td>33</td>\n",
              "      <td>35</td>\n",
              "      <td>1</td>\n",
              "      <td>1</td>\n",
              "      <td>0</td>\n",
              "      <td>0</td>\n",
              "      <td>0</td>\n",
              "      <td>0</td>\n",
              "    </tr>\n",
              "    <tr>\n",
              "      <th>16083</th>\n",
              "      <td>95880</td>\n",
              "      <td>6/18/2018</td>\n",
              "      <td>1440</td>\n",
              "      <td>0</td>\n",
              "      <td>weekday</td>\n",
              "      <td>11</td>\n",
              "      <td>14</td>\n",
              "      <td>3</td>\n",
              "      <td>5</td>\n",
              "      <td>2</td>\n",
              "      <td>2</td>\n",
              "      <td>0</td>\n",
              "      <td>0</td>\n",
              "    </tr>\n",
              "    <tr>\n",
              "      <th>16084</th>\n",
              "      <td>95880</td>\n",
              "      <td>6/19/2018</td>\n",
              "      <td>1370</td>\n",
              "      <td>1</td>\n",
              "      <td>weekday</td>\n",
              "      <td>2</td>\n",
              "      <td>2</td>\n",
              "      <td>2</td>\n",
              "      <td>1</td>\n",
              "      <td>0</td>\n",
              "      <td>0</td>\n",
              "      <td>0</td>\n",
              "      <td>0</td>\n",
              "    </tr>\n",
              "  </tbody>\n",
              "</table>\n",
              "</div>"
            ],
            "text/plain": [
              "       Postal code       date  ...  Slots_freed_sum  Slots_taken_sum\n",
              "16075        95880  6/10/2018  ...                0                0\n",
              "16076        95880  6/11/2018  ...                0                0\n",
              "16077        95880  6/12/2018  ...                0                0\n",
              "16078        95880  6/13/2018  ...                0                0\n",
              "16079        95880  6/14/2018  ...                0                0\n",
              "16080        95880  6/15/2018  ...                0                0\n",
              "16081        95880  6/16/2018  ...                0                0\n",
              "16082        95880  6/17/2018  ...                0                0\n",
              "16083        95880  6/18/2018  ...                0                0\n",
              "16084        95880  6/19/2018  ...                0                0\n",
              "\n",
              "[10 rows x 13 columns]"
            ]
          },
          "metadata": {
            "tags": []
          },
          "execution_count": 88
        }
      ]
    },
    {
      "cell_type": "code",
      "metadata": {
        "id": "o63gCluHZD-w",
        "colab_type": "code",
        "colab": {
          "base_uri": "https://localhost:8080/",
          "height": 35
        },
        "outputId": "b37609f1-d59b-497e-eac1-e73f0a3410b3"
      },
      "source": [
        "# Determining the size\n",
        "print(df.shape)\n",
        "#The data has 16,085 Rows and 13 columns\n"
      ],
      "execution_count": 89,
      "outputs": [
        {
          "output_type": "stream",
          "text": [
            "(16085, 13)\n"
          ],
          "name": "stdout"
        }
      ]
    },
    {
      "cell_type": "code",
      "metadata": {
        "id": "pVH-J4ahb5M2",
        "colab_type": "code",
        "colab": {
          "base_uri": "https://localhost:8080/",
          "height": 272
        },
        "outputId": "573360a8-478d-4c66-a58d-c97dcde32be2"
      },
      "source": [
        "#Checking the data types\n",
        "df.dtypes"
      ],
      "execution_count": 90,
      "outputs": [
        {
          "output_type": "execute_result",
          "data": {
            "text/plain": [
              "Postal code                int64\n",
              "date                      object\n",
              "n_daily_data_points        int64\n",
              "dayOfWeek                  int64\n",
              "day_type                  object\n",
              "BlueCars_taken_sum         int64\n",
              "BlueCars_returned_sum      int64\n",
              "Utilib_taken_sum           int64\n",
              "Utilib_returned_sum        int64\n",
              "Utilib_14_taken_sum        int64\n",
              "Utilib_14_returned_sum     int64\n",
              "Slots_freed_sum            int64\n",
              "Slots_taken_sum            int64\n",
              "dtype: object"
            ]
          },
          "metadata": {
            "tags": []
          },
          "execution_count": 90
        }
      ]
    },
    {
      "cell_type": "code",
      "metadata": {
        "id": "o8BtlEBu9ImW",
        "colab_type": "code",
        "colab": {
          "base_uri": "https://localhost:8080/",
          "height": 308
        },
        "outputId": "e0a882ca-1974-45e1-9570-26be077f5313"
      },
      "source": [
        "df.describe()"
      ],
      "execution_count": 91,
      "outputs": [
        {
          "output_type": "execute_result",
          "data": {
            "text/html": [
              "<div>\n",
              "<style scoped>\n",
              "    .dataframe tbody tr th:only-of-type {\n",
              "        vertical-align: middle;\n",
              "    }\n",
              "\n",
              "    .dataframe tbody tr th {\n",
              "        vertical-align: top;\n",
              "    }\n",
              "\n",
              "    .dataframe thead th {\n",
              "        text-align: right;\n",
              "    }\n",
              "</style>\n",
              "<table border=\"1\" class=\"dataframe\">\n",
              "  <thead>\n",
              "    <tr style=\"text-align: right;\">\n",
              "      <th></th>\n",
              "      <th>Postal code</th>\n",
              "      <th>n_daily_data_points</th>\n",
              "      <th>dayOfWeek</th>\n",
              "      <th>BlueCars_taken_sum</th>\n",
              "      <th>BlueCars_returned_sum</th>\n",
              "      <th>Utilib_taken_sum</th>\n",
              "      <th>Utilib_returned_sum</th>\n",
              "      <th>Utilib_14_taken_sum</th>\n",
              "      <th>Utilib_14_returned_sum</th>\n",
              "      <th>Slots_freed_sum</th>\n",
              "      <th>Slots_taken_sum</th>\n",
              "    </tr>\n",
              "  </thead>\n",
              "  <tbody>\n",
              "    <tr>\n",
              "      <th>count</th>\n",
              "      <td>16085.000000</td>\n",
              "      <td>16085.000000</td>\n",
              "      <td>16085.000000</td>\n",
              "      <td>16085.000000</td>\n",
              "      <td>16085.000000</td>\n",
              "      <td>16085.000000</td>\n",
              "      <td>16085.000000</td>\n",
              "      <td>16085.000000</td>\n",
              "      <td>16085.000000</td>\n",
              "      <td>16085.000000</td>\n",
              "      <td>16085.000000</td>\n",
              "    </tr>\n",
              "    <tr>\n",
              "      <th>mean</th>\n",
              "      <td>88791.293876</td>\n",
              "      <td>1431.330619</td>\n",
              "      <td>2.969599</td>\n",
              "      <td>125.926951</td>\n",
              "      <td>125.912714</td>\n",
              "      <td>3.698290</td>\n",
              "      <td>3.699099</td>\n",
              "      <td>8.600560</td>\n",
              "      <td>8.599192</td>\n",
              "      <td>22.629033</td>\n",
              "      <td>22.629282</td>\n",
              "    </tr>\n",
              "    <tr>\n",
              "      <th>std</th>\n",
              "      <td>7647.342000</td>\n",
              "      <td>33.212050</td>\n",
              "      <td>2.008378</td>\n",
              "      <td>185.426579</td>\n",
              "      <td>185.501535</td>\n",
              "      <td>5.815058</td>\n",
              "      <td>5.824634</td>\n",
              "      <td>12.870098</td>\n",
              "      <td>12.868993</td>\n",
              "      <td>52.120263</td>\n",
              "      <td>52.146030</td>\n",
              "    </tr>\n",
              "    <tr>\n",
              "      <th>min</th>\n",
              "      <td>75001.000000</td>\n",
              "      <td>1174.000000</td>\n",
              "      <td>0.000000</td>\n",
              "      <td>0.000000</td>\n",
              "      <td>0.000000</td>\n",
              "      <td>0.000000</td>\n",
              "      <td>0.000000</td>\n",
              "      <td>0.000000</td>\n",
              "      <td>0.000000</td>\n",
              "      <td>0.000000</td>\n",
              "      <td>0.000000</td>\n",
              "    </tr>\n",
              "    <tr>\n",
              "      <th>25%</th>\n",
              "      <td>91330.000000</td>\n",
              "      <td>1439.000000</td>\n",
              "      <td>1.000000</td>\n",
              "      <td>20.000000</td>\n",
              "      <td>20.000000</td>\n",
              "      <td>0.000000</td>\n",
              "      <td>0.000000</td>\n",
              "      <td>1.000000</td>\n",
              "      <td>1.000000</td>\n",
              "      <td>0.000000</td>\n",
              "      <td>0.000000</td>\n",
              "    </tr>\n",
              "    <tr>\n",
              "      <th>50%</th>\n",
              "      <td>92340.000000</td>\n",
              "      <td>1440.000000</td>\n",
              "      <td>3.000000</td>\n",
              "      <td>46.000000</td>\n",
              "      <td>46.000000</td>\n",
              "      <td>1.000000</td>\n",
              "      <td>1.000000</td>\n",
              "      <td>3.000000</td>\n",
              "      <td>3.000000</td>\n",
              "      <td>0.000000</td>\n",
              "      <td>0.000000</td>\n",
              "    </tr>\n",
              "    <tr>\n",
              "      <th>75%</th>\n",
              "      <td>93400.000000</td>\n",
              "      <td>1440.000000</td>\n",
              "      <td>5.000000</td>\n",
              "      <td>135.000000</td>\n",
              "      <td>135.000000</td>\n",
              "      <td>4.000000</td>\n",
              "      <td>4.000000</td>\n",
              "      <td>10.000000</td>\n",
              "      <td>10.000000</td>\n",
              "      <td>5.000000</td>\n",
              "      <td>5.000000</td>\n",
              "    </tr>\n",
              "    <tr>\n",
              "      <th>max</th>\n",
              "      <td>95880.000000</td>\n",
              "      <td>1440.000000</td>\n",
              "      <td>6.000000</td>\n",
              "      <td>1352.000000</td>\n",
              "      <td>1332.000000</td>\n",
              "      <td>54.000000</td>\n",
              "      <td>58.000000</td>\n",
              "      <td>100.000000</td>\n",
              "      <td>101.000000</td>\n",
              "      <td>360.000000</td>\n",
              "      <td>359.000000</td>\n",
              "    </tr>\n",
              "  </tbody>\n",
              "</table>\n",
              "</div>"
            ],
            "text/plain": [
              "        Postal code  n_daily_data_points  ...  Slots_freed_sum  Slots_taken_sum\n",
              "count  16085.000000         16085.000000  ...     16085.000000     16085.000000\n",
              "mean   88791.293876          1431.330619  ...        22.629033        22.629282\n",
              "std     7647.342000            33.212050  ...        52.120263        52.146030\n",
              "min    75001.000000          1174.000000  ...         0.000000         0.000000\n",
              "25%    91330.000000          1439.000000  ...         0.000000         0.000000\n",
              "50%    92340.000000          1440.000000  ...         0.000000         0.000000\n",
              "75%    93400.000000          1440.000000  ...         5.000000         5.000000\n",
              "max    95880.000000          1440.000000  ...       360.000000       359.000000\n",
              "\n",
              "[8 rows x 11 columns]"
            ]
          },
          "metadata": {
            "tags": []
          },
          "execution_count": 91
        }
      ]
    },
    {
      "cell_type": "code",
      "metadata": {
        "id": "EtIv2-aocWJF",
        "colab_type": "code",
        "colab": {}
      },
      "source": [
        "#Converting the Date column into date format\n",
        "df['date']=pd.to_datetime(df['date'])\n",
        "#When we implement this the below code shows that our column is in datetime datatype\n"
      ],
      "execution_count": 92,
      "outputs": []
    },
    {
      "cell_type": "code",
      "metadata": {
        "id": "5T9DMicqdY_t",
        "colab_type": "code",
        "colab": {
          "base_uri": "https://localhost:8080/",
          "height": 272
        },
        "outputId": "6cb72bb3-4d90-4a1c-9a67-9b25013f01e0"
      },
      "source": [
        "# Selecting the sample of 5,000 observations\n",
        "df_sample = df.sample(n = 5000, replace=\"False\")\n",
        "print(df_sample)"
      ],
      "execution_count": 93,
      "outputs": [
        {
          "output_type": "stream",
          "text": [
            "       Postal code       date  ...  Slots_freed_sum  Slots_taken_sum\n",
            "4239         91400 2018-01-29  ...                0                0\n",
            "13653        94130 2018-03-08  ...                0                0\n",
            "6213         92210 2018-05-27  ...                6                6\n",
            "9658         92700 2018-01-04  ...                0                0\n",
            "4759         92110 2018-03-26  ...                0                0\n",
            "...            ...        ...  ...              ...              ...\n",
            "9935         92800 2018-05-08  ...               16               17\n",
            "9229         92420 2018-02-11  ...                0                0\n",
            "1774         75012 2018-03-03  ...              196              201\n",
            "3552         78000 2018-05-05  ...                0                0\n",
            "15954        95880 2018-01-26  ...                0                0\n",
            "\n",
            "[5000 rows x 13 columns]\n"
          ],
          "name": "stdout"
        }
      ]
    },
    {
      "cell_type": "markdown",
      "metadata": {
        "id": "t6V4SloIdyn0",
        "colab_type": "text"
      },
      "source": [
        "# Univariate Analysis"
      ]
    },
    {
      "cell_type": "code",
      "metadata": {
        "id": "wj_nAzCAd1hm",
        "colab_type": "code",
        "colab": {
          "base_uri": "https://localhost:8080/",
          "height": 125
        },
        "outputId": "6eef398c-00ae-4bd4-c36c-2c35ed015e31"
      },
      "source": [
        "str(df_sample)"
      ],
      "execution_count": 94,
      "outputs": [
        {
          "output_type": "execute_result",
          "data": {
            "application/vnd.google.colaboratory.intrinsic+json": {
              "type": "string"
            },
            "text/plain": [
              "'       Postal code       date  ...  Slots_freed_sum  Slots_taken_sum\\n4239         91400 2018-01-29  ...                0                0\\n13653        94130 2018-03-08  ...                0                0\\n6213         92210 2018-05-27  ...                6                6\\n9658         92700 2018-01-04  ...                0                0\\n4759         92110 2018-03-26  ...                0                0\\n...            ...        ...  ...              ...              ...\\n9935         92800 2018-05-08  ...               16               17\\n9229         92420 2018-02-11  ...                0                0\\n1774         75012 2018-03-03  ...              196              201\\n3552         78000 2018-05-05  ...                0                0\\n15954        95880 2018-01-26  ...                0                0\\n\\n[5000 rows x 13 columns]'"
            ]
          },
          "metadata": {
            "tags": []
          },
          "execution_count": 94
        }
      ]
    },
    {
      "cell_type": "code",
      "metadata": {
        "id": "uKn6ZQPsfXzn",
        "colab_type": "code",
        "colab": {
          "base_uri": "https://localhost:8080/",
          "height": 562
        },
        "outputId": "64e7a2a8-a74e-4d75-c231-e20cd4fecd8c"
      },
      "source": [
        "#Checking the descriptive statistics for all the columns\n",
        "df_sample.describe(include='all')"
      ],
      "execution_count": 95,
      "outputs": [
        {
          "output_type": "execute_result",
          "data": {
            "text/html": [
              "<div>\n",
              "<style scoped>\n",
              "    .dataframe tbody tr th:only-of-type {\n",
              "        vertical-align: middle;\n",
              "    }\n",
              "\n",
              "    .dataframe tbody tr th {\n",
              "        vertical-align: top;\n",
              "    }\n",
              "\n",
              "    .dataframe thead th {\n",
              "        text-align: right;\n",
              "    }\n",
              "</style>\n",
              "<table border=\"1\" class=\"dataframe\">\n",
              "  <thead>\n",
              "    <tr style=\"text-align: right;\">\n",
              "      <th></th>\n",
              "      <th>Postal code</th>\n",
              "      <th>date</th>\n",
              "      <th>n_daily_data_points</th>\n",
              "      <th>dayOfWeek</th>\n",
              "      <th>day_type</th>\n",
              "      <th>BlueCars_taken_sum</th>\n",
              "      <th>BlueCars_returned_sum</th>\n",
              "      <th>Utilib_taken_sum</th>\n",
              "      <th>Utilib_returned_sum</th>\n",
              "      <th>Utilib_14_taken_sum</th>\n",
              "      <th>Utilib_14_returned_sum</th>\n",
              "      <th>Slots_freed_sum</th>\n",
              "      <th>Slots_taken_sum</th>\n",
              "    </tr>\n",
              "  </thead>\n",
              "  <tbody>\n",
              "    <tr>\n",
              "      <th>count</th>\n",
              "      <td>5000.000000</td>\n",
              "      <td>5000</td>\n",
              "      <td>5000.000000</td>\n",
              "      <td>5000.000000</td>\n",
              "      <td>5000</td>\n",
              "      <td>5000.000000</td>\n",
              "      <td>5000.000000</td>\n",
              "      <td>5000.000000</td>\n",
              "      <td>5000.000000</td>\n",
              "      <td>5000.000000</td>\n",
              "      <td>5000.000000</td>\n",
              "      <td>5000.000000</td>\n",
              "      <td>5000.000000</td>\n",
              "    </tr>\n",
              "    <tr>\n",
              "      <th>unique</th>\n",
              "      <td>NaN</td>\n",
              "      <td>156</td>\n",
              "      <td>NaN</td>\n",
              "      <td>NaN</td>\n",
              "      <td>2</td>\n",
              "      <td>NaN</td>\n",
              "      <td>NaN</td>\n",
              "      <td>NaN</td>\n",
              "      <td>NaN</td>\n",
              "      <td>NaN</td>\n",
              "      <td>NaN</td>\n",
              "      <td>NaN</td>\n",
              "      <td>NaN</td>\n",
              "    </tr>\n",
              "    <tr>\n",
              "      <th>top</th>\n",
              "      <td>NaN</td>\n",
              "      <td>2018-04-14 00:00:00</td>\n",
              "      <td>NaN</td>\n",
              "      <td>NaN</td>\n",
              "      <td>weekday</td>\n",
              "      <td>NaN</td>\n",
              "      <td>NaN</td>\n",
              "      <td>NaN</td>\n",
              "      <td>NaN</td>\n",
              "      <td>NaN</td>\n",
              "      <td>NaN</td>\n",
              "      <td>NaN</td>\n",
              "      <td>NaN</td>\n",
              "    </tr>\n",
              "    <tr>\n",
              "      <th>freq</th>\n",
              "      <td>NaN</td>\n",
              "      <td>48</td>\n",
              "      <td>NaN</td>\n",
              "      <td>NaN</td>\n",
              "      <td>3547</td>\n",
              "      <td>NaN</td>\n",
              "      <td>NaN</td>\n",
              "      <td>NaN</td>\n",
              "      <td>NaN</td>\n",
              "      <td>NaN</td>\n",
              "      <td>NaN</td>\n",
              "      <td>NaN</td>\n",
              "      <td>NaN</td>\n",
              "    </tr>\n",
              "    <tr>\n",
              "      <th>first</th>\n",
              "      <td>NaN</td>\n",
              "      <td>2018-01-01 00:00:00</td>\n",
              "      <td>NaN</td>\n",
              "      <td>NaN</td>\n",
              "      <td>NaN</td>\n",
              "      <td>NaN</td>\n",
              "      <td>NaN</td>\n",
              "      <td>NaN</td>\n",
              "      <td>NaN</td>\n",
              "      <td>NaN</td>\n",
              "      <td>NaN</td>\n",
              "      <td>NaN</td>\n",
              "      <td>NaN</td>\n",
              "    </tr>\n",
              "    <tr>\n",
              "      <th>last</th>\n",
              "      <td>NaN</td>\n",
              "      <td>2018-06-19 00:00:00</td>\n",
              "      <td>NaN</td>\n",
              "      <td>NaN</td>\n",
              "      <td>NaN</td>\n",
              "      <td>NaN</td>\n",
              "      <td>NaN</td>\n",
              "      <td>NaN</td>\n",
              "      <td>NaN</td>\n",
              "      <td>NaN</td>\n",
              "      <td>NaN</td>\n",
              "      <td>NaN</td>\n",
              "      <td>NaN</td>\n",
              "    </tr>\n",
              "    <tr>\n",
              "      <th>mean</th>\n",
              "      <td>88546.821600</td>\n",
              "      <td>NaN</td>\n",
              "      <td>1431.437400</td>\n",
              "      <td>3.006600</td>\n",
              "      <td>NaN</td>\n",
              "      <td>127.599400</td>\n",
              "      <td>127.430000</td>\n",
              "      <td>3.709600</td>\n",
              "      <td>3.718400</td>\n",
              "      <td>8.717000</td>\n",
              "      <td>8.729000</td>\n",
              "      <td>23.056200</td>\n",
              "      <td>23.067000</td>\n",
              "    </tr>\n",
              "    <tr>\n",
              "      <th>std</th>\n",
              "      <td>7768.988511</td>\n",
              "      <td>NaN</td>\n",
              "      <td>33.436592</td>\n",
              "      <td>2.005034</td>\n",
              "      <td>NaN</td>\n",
              "      <td>185.038938</td>\n",
              "      <td>185.054869</td>\n",
              "      <td>5.821928</td>\n",
              "      <td>5.809497</td>\n",
              "      <td>12.902085</td>\n",
              "      <td>12.905707</td>\n",
              "      <td>51.853405</td>\n",
              "      <td>51.867436</td>\n",
              "    </tr>\n",
              "    <tr>\n",
              "      <th>min</th>\n",
              "      <td>75001.000000</td>\n",
              "      <td>NaN</td>\n",
              "      <td>1174.000000</td>\n",
              "      <td>0.000000</td>\n",
              "      <td>NaN</td>\n",
              "      <td>0.000000</td>\n",
              "      <td>0.000000</td>\n",
              "      <td>0.000000</td>\n",
              "      <td>0.000000</td>\n",
              "      <td>0.000000</td>\n",
              "      <td>0.000000</td>\n",
              "      <td>0.000000</td>\n",
              "      <td>0.000000</td>\n",
              "    </tr>\n",
              "    <tr>\n",
              "      <th>25%</th>\n",
              "      <td>78150.000000</td>\n",
              "      <td>NaN</td>\n",
              "      <td>1439.000000</td>\n",
              "      <td>1.000000</td>\n",
              "      <td>NaN</td>\n",
              "      <td>19.000000</td>\n",
              "      <td>20.000000</td>\n",
              "      <td>0.000000</td>\n",
              "      <td>0.000000</td>\n",
              "      <td>1.000000</td>\n",
              "      <td>1.000000</td>\n",
              "      <td>0.000000</td>\n",
              "      <td>0.000000</td>\n",
              "    </tr>\n",
              "    <tr>\n",
              "      <th>50%</th>\n",
              "      <td>92330.000000</td>\n",
              "      <td>NaN</td>\n",
              "      <td>1440.000000</td>\n",
              "      <td>3.000000</td>\n",
              "      <td>NaN</td>\n",
              "      <td>46.000000</td>\n",
              "      <td>46.000000</td>\n",
              "      <td>1.000000</td>\n",
              "      <td>1.000000</td>\n",
              "      <td>3.000000</td>\n",
              "      <td>3.000000</td>\n",
              "      <td>0.000000</td>\n",
              "      <td>0.000000</td>\n",
              "    </tr>\n",
              "    <tr>\n",
              "      <th>75%</th>\n",
              "      <td>93370.000000</td>\n",
              "      <td>NaN</td>\n",
              "      <td>1440.000000</td>\n",
              "      <td>5.000000</td>\n",
              "      <td>NaN</td>\n",
              "      <td>143.250000</td>\n",
              "      <td>143.000000</td>\n",
              "      <td>4.000000</td>\n",
              "      <td>4.000000</td>\n",
              "      <td>10.000000</td>\n",
              "      <td>10.000000</td>\n",
              "      <td>5.000000</td>\n",
              "      <td>5.000000</td>\n",
              "    </tr>\n",
              "    <tr>\n",
              "      <th>max</th>\n",
              "      <td>95880.000000</td>\n",
              "      <td>NaN</td>\n",
              "      <td>1440.000000</td>\n",
              "      <td>6.000000</td>\n",
              "      <td>NaN</td>\n",
              "      <td>1277.000000</td>\n",
              "      <td>1230.000000</td>\n",
              "      <td>54.000000</td>\n",
              "      <td>58.000000</td>\n",
              "      <td>100.000000</td>\n",
              "      <td>94.000000</td>\n",
              "      <td>357.000000</td>\n",
              "      <td>349.000000</td>\n",
              "    </tr>\n",
              "  </tbody>\n",
              "</table>\n",
              "</div>"
            ],
            "text/plain": [
              "         Postal code                 date  ...  Slots_freed_sum  Slots_taken_sum\n",
              "count    5000.000000                 5000  ...      5000.000000      5000.000000\n",
              "unique           NaN                  156  ...              NaN              NaN\n",
              "top              NaN  2018-04-14 00:00:00  ...              NaN              NaN\n",
              "freq             NaN                   48  ...              NaN              NaN\n",
              "first            NaN  2018-01-01 00:00:00  ...              NaN              NaN\n",
              "last             NaN  2018-06-19 00:00:00  ...              NaN              NaN\n",
              "mean    88546.821600                  NaN  ...        23.056200        23.067000\n",
              "std      7768.988511                  NaN  ...        51.853405        51.867436\n",
              "min     75001.000000                  NaN  ...         0.000000         0.000000\n",
              "25%     78150.000000                  NaN  ...         0.000000         0.000000\n",
              "50%     92330.000000                  NaN  ...         0.000000         0.000000\n",
              "75%     93370.000000                  NaN  ...         5.000000         5.000000\n",
              "max     95880.000000                  NaN  ...       357.000000       349.000000\n",
              "\n",
              "[13 rows x 13 columns]"
            ]
          },
          "metadata": {
            "tags": []
          },
          "execution_count": 95
        }
      ]
    },
    {
      "cell_type": "markdown",
      "metadata": {
        "id": "Yx9IPixXftJp",
        "colab_type": "text"
      },
      "source": [
        "2.1 Categorical Variable"
      ]
    },
    {
      "cell_type": "code",
      "metadata": {
        "id": "PWYUWJ4xfohJ",
        "colab_type": "code",
        "colab": {
          "base_uri": "https://localhost:8080/",
          "height": 264
        },
        "outputId": "48af3f39-72da-4886-f512-f28500353e36"
      },
      "source": [
        "df_sample[\"day_type\"].value_counts().plot.pie()\n",
        "plt.title('Pie Chart of the Distribution of the Day types')\n",
        "plt.show()\n",
        "#Most of the observations were recorded on weekdays,understandably so since we have 5 weekdays in a week"
      ],
      "execution_count": 96,
      "outputs": [
        {
          "output_type": "display_data",
          "data": {
            "image/png": "[encoded data removed]",
            "text/plain": [
              "<Figure size 432x288 with 1 Axes>"
            ]
          },
          "metadata": {
            "tags": []
          }
        }
      ]
    },
    {
      "cell_type": "markdown",
      "metadata": {
        "id": "sFHgTqU7gdpm",
        "colab_type": "text"
      },
      "source": [
        "2.2. Numerical Variables\n"
      ]
    },
    {
      "cell_type": "markdown",
      "metadata": {
        "id": "P4A1-vdMgiWP",
        "colab_type": "text"
      },
      "source": [
        "Measures of Central Tendency\n"
      ]
    },
    {
      "cell_type": "code",
      "metadata": {
        "id": "YCOr6PsYgJTD",
        "colab_type": "code",
        "colab": {
          "base_uri": "https://localhost:8080/",
          "height": 35
        },
        "outputId": "a9e2eaba-e08e-45d4-a831-13b42f67884a"
      },
      "source": [
        "#Finding the mean of the Daily Data Points\n",
        "df_sample[\"n_daily_data_points\"].mean()\n",
        "#The mean of the Daily Data Points is 1431.7104"
      ],
      "execution_count": 97,
      "outputs": [
        {
          "output_type": "execute_result",
          "data": {
            "text/plain": [
              "1431.4374"
            ]
          },
          "metadata": {
            "tags": []
          },
          "execution_count": 97
        }
      ]
    },
    {
      "cell_type": "code",
      "metadata": {
        "id": "wciqASI1hUdn",
        "colab_type": "code",
        "colab": {
          "base_uri": "https://localhost:8080/",
          "height": 35
        },
        "outputId": "c16022f5-8167-43f4-d7fa-e16684cffcc6"
      },
      "source": [
        "#Finding the median of the Daily Data Points\n",
        "df_sample[\"n_daily_data_points\"].median()\n",
        "#The median of the Daily Data Points is 1440.0"
      ],
      "execution_count": 98,
      "outputs": [
        {
          "output_type": "execute_result",
          "data": {
            "text/plain": [
              "1440.0"
            ]
          },
          "metadata": {
            "tags": []
          },
          "execution_count": 98
        }
      ]
    },
    {
      "cell_type": "code",
      "metadata": {
        "id": "6_yaNDbrhlfY",
        "colab_type": "code",
        "colab": {
          "base_uri": "https://localhost:8080/",
          "height": 54
        },
        "outputId": "372fb325-8d00-4dbc-9bec-e40dc3e0eaa6"
      },
      "source": [
        "#Finding the mode of the Daily Data Points\n",
        "df_sample[\"n_daily_data_points\"].mode()\n",
        "#The mode of the Daily Data Points is 1440.0"
      ],
      "execution_count": 99,
      "outputs": [
        {
          "output_type": "execute_result",
          "data": {
            "text/plain": [
              "0    1440\n",
              "dtype: int64"
            ]
          },
          "metadata": {
            "tags": []
          },
          "execution_count": 99
        }
      ]
    },
    {
      "cell_type": "code",
      "metadata": {
        "id": "t4geOMi7h2ok",
        "colab_type": "code",
        "colab": {
          "base_uri": "https://localhost:8080/",
          "height": 35
        },
        "outputId": "adc7baf0-67b5-45cf-e44e-7aa530e580ab"
      },
      "source": [
        "#Finding the mean of the sum of taken Blue cars\n",
        "df_sample[\"BlueCars_taken_sum\"].mean()\n",
        "#The mean of the sum of taken Blue cars is 122.56"
      ],
      "execution_count": 100,
      "outputs": [
        {
          "output_type": "execute_result",
          "data": {
            "text/plain": [
              "127.5994"
            ]
          },
          "metadata": {
            "tags": []
          },
          "execution_count": 100
        }
      ]
    },
    {
      "cell_type": "code",
      "metadata": {
        "id": "4WP3XRdGiVWx",
        "colab_type": "code",
        "colab": {
          "base_uri": "https://localhost:8080/",
          "height": 35
        },
        "outputId": "08472ed4-bfc5-46f4-8439-7025c8ac5fe2"
      },
      "source": [
        "#Finding the median of the sum of taken Blue cars\n",
        "df_sample[\"BlueCars_taken_sum\"].median()\n",
        "#The median of the sum of taken Blue cars is 47.0"
      ],
      "execution_count": 101,
      "outputs": [
        {
          "output_type": "execute_result",
          "data": {
            "text/plain": [
              "46.0"
            ]
          },
          "metadata": {
            "tags": []
          },
          "execution_count": 101
        }
      ]
    },
    {
      "cell_type": "code",
      "metadata": {
        "id": "FNfcSQI_ifJs",
        "colab_type": "code",
        "colab": {
          "base_uri": "https://localhost:8080/",
          "height": 54
        },
        "outputId": "fe28a562-c702-47f2-b4f1-a5e157ebacd6"
      },
      "source": [
        "#Finding the mode of the sum of taken Blue cars\n",
        "df_sample[\"BlueCars_taken_sum\"].mode()\n",
        "#The mode of the sum of taken Blue cars is 12"
      ],
      "execution_count": 102,
      "outputs": [
        {
          "output_type": "execute_result",
          "data": {
            "text/plain": [
              "0    9\n",
              "dtype: int64"
            ]
          },
          "metadata": {
            "tags": []
          },
          "execution_count": 102
        }
      ]
    },
    {
      "cell_type": "code",
      "metadata": {
        "id": "RH3H7aijilzL",
        "colab_type": "code",
        "colab": {
          "base_uri": "https://localhost:8080/",
          "height": 35
        },
        "outputId": "ff2f63b9-c4c9-44c0-b47f-2202ce32d078"
      },
      "source": [
        "#Finding the mean of the sum of returned Blue cars\n",
        "df_sample[\"BlueCars_returned_sum\"].mean()\n",
        "#The mean of the sum of returned Blue cars is 122.27"
      ],
      "execution_count": 103,
      "outputs": [
        {
          "output_type": "execute_result",
          "data": {
            "text/plain": [
              "127.43"
            ]
          },
          "metadata": {
            "tags": []
          },
          "execution_count": 103
        }
      ]
    },
    {
      "cell_type": "code",
      "metadata": {
        "id": "FrzrG6qqi5kd",
        "colab_type": "code",
        "colab": {
          "base_uri": "https://localhost:8080/",
          "height": 35
        },
        "outputId": "6c413d52-4278-458f-a649-1baab5bb3946"
      },
      "source": [
        "#Finding the median of the sum of returned Blue cars\n",
        "df_sample[\"BlueCars_returned_sum\"].median()\n",
        "#The median of the sum of returned Blue cars is 46.0"
      ],
      "execution_count": 104,
      "outputs": [
        {
          "output_type": "execute_result",
          "data": {
            "text/plain": [
              "46.0"
            ]
          },
          "metadata": {
            "tags": []
          },
          "execution_count": 104
        }
      ]
    },
    {
      "cell_type": "code",
      "metadata": {
        "id": "z6Q4IIbUjDdU",
        "colab_type": "code",
        "colab": {
          "base_uri": "https://localhost:8080/",
          "height": 54
        },
        "outputId": "5ccc3fa3-31c6-41ca-b320-ea148774c788"
      },
      "source": [
        "#Finding the mode of the sum of returned Blue cars\n",
        "df_sample[\"BlueCars_returned_sum\"].mode()\n",
        "#The mode of the sum of returned Blue cars is 12"
      ],
      "execution_count": 105,
      "outputs": [
        {
          "output_type": "execute_result",
          "data": {
            "text/plain": [
              "0    12\n",
              "dtype: int64"
            ]
          },
          "metadata": {
            "tags": []
          },
          "execution_count": 105
        }
      ]
    },
    {
      "cell_type": "code",
      "metadata": {
        "id": "lXLNhFoajLSC",
        "colab_type": "code",
        "colab": {
          "base_uri": "https://localhost:8080/",
          "height": 35
        },
        "outputId": "c44f9619-5b0f-4e8e-e69c-8e8def006795"
      },
      "source": [
        "#Finding the mean of the sum of taken Utilib\n",
        "df_sample[\"Utilib_taken_sum\"].mean()\n",
        "#The mean of the sum of taken Utilib is 3.6242"
      ],
      "execution_count": 106,
      "outputs": [
        {
          "output_type": "execute_result",
          "data": {
            "text/plain": [
              "3.7096"
            ]
          },
          "metadata": {
            "tags": []
          },
          "execution_count": 106
        }
      ]
    },
    {
      "cell_type": "code",
      "metadata": {
        "id": "IGKs_elNjzVX",
        "colab_type": "code",
        "colab": {
          "base_uri": "https://localhost:8080/",
          "height": 35
        },
        "outputId": "d61132e0-f599-445e-d15b-b3b43ae396c1"
      },
      "source": [
        "#Finding the median of the sum of taken Utilib\n",
        "df_sample[\"Utilib_taken_sum\"].median()\n",
        "#The median of the sum of taken Utilib is 1.0"
      ],
      "execution_count": 107,
      "outputs": [
        {
          "output_type": "execute_result",
          "data": {
            "text/plain": [
              "1.0"
            ]
          },
          "metadata": {
            "tags": []
          },
          "execution_count": 107
        }
      ]
    },
    {
      "cell_type": "code",
      "metadata": {
        "id": "ZVXDrlH_j8Rh",
        "colab_type": "code",
        "colab": {
          "base_uri": "https://localhost:8080/",
          "height": 54
        },
        "outputId": "85839620-bd17-46bc-e0b2-c665e79bf270"
      },
      "source": [
        "#Finding the mode of the sum of taken Utilib\n",
        "df_sample[\"Utilib_taken_sum\"].mode()\n",
        "#The mode of the sum of taken Utilib is 0,meaning every value is unique"
      ],
      "execution_count": 108,
      "outputs": [
        {
          "output_type": "execute_result",
          "data": {
            "text/plain": [
              "0    0\n",
              "dtype: int64"
            ]
          },
          "metadata": {
            "tags": []
          },
          "execution_count": 108
        }
      ]
    },
    {
      "cell_type": "code",
      "metadata": {
        "id": "pYwctZOBkJ96",
        "colab_type": "code",
        "colab": {
          "base_uri": "https://localhost:8080/",
          "height": 35
        },
        "outputId": "0e797362-e4d6-496e-aec4-cb608e408f0a"
      },
      "source": [
        "#Finding the mean of the sum of returned Utilib\n",
        "df_sample[\"Utilib_returned_sum\"].mean()\n",
        "#The mean of the sum of returned Utilib is 3.6348"
      ],
      "execution_count": 109,
      "outputs": [
        {
          "output_type": "execute_result",
          "data": {
            "text/plain": [
              "3.7184"
            ]
          },
          "metadata": {
            "tags": []
          },
          "execution_count": 109
        }
      ]
    },
    {
      "cell_type": "code",
      "metadata": {
        "id": "9e8ZCmnhkYJ_",
        "colab_type": "code",
        "colab": {
          "base_uri": "https://localhost:8080/",
          "height": 35
        },
        "outputId": "a7aa31c5-3079-4c63-d76e-0583263c6adc"
      },
      "source": [
        "#Finding the median of the sum of returned Utilib\n",
        "df_sample[\"Utilib_returned_sum\"].median()\n",
        "#The median of the sum of returned Utilib is 1.0"
      ],
      "execution_count": 110,
      "outputs": [
        {
          "output_type": "execute_result",
          "data": {
            "text/plain": [
              "1.0"
            ]
          },
          "metadata": {
            "tags": []
          },
          "execution_count": 110
        }
      ]
    },
    {
      "cell_type": "code",
      "metadata": {
        "id": "ja-4eQgkkg7x",
        "colab_type": "code",
        "colab": {
          "base_uri": "https://localhost:8080/",
          "height": 54
        },
        "outputId": "fe51032c-87e9-4257-a051-85afc0a49b90"
      },
      "source": [
        "#Finding the mode of the sum of returned Utilib\n",
        "df_sample[\"Utilib_returned_sum\"].mode()\n",
        "#The mode of the sum of returned Utilib is 0"
      ],
      "execution_count": 111,
      "outputs": [
        {
          "output_type": "execute_result",
          "data": {
            "text/plain": [
              "0    0\n",
              "dtype: int64"
            ]
          },
          "metadata": {
            "tags": []
          },
          "execution_count": 111
        }
      ]
    },
    {
      "cell_type": "code",
      "metadata": {
        "id": "6Mi9LzNFkr3Q",
        "colab_type": "code",
        "colab": {
          "base_uri": "https://localhost:8080/",
          "height": 35
        },
        "outputId": "8da45edf-d4af-41b4-a743-b368951b187f"
      },
      "source": [
        "#Finding the mean of the sum of taken Utilib 14\n",
        "df_sample[\"Utilib_14_taken_sum\"].mean()\n",
        "#The mean of the sum of taken Utilib 14 is 8.4938"
      ],
      "execution_count": 112,
      "outputs": [
        {
          "output_type": "execute_result",
          "data": {
            "text/plain": [
              "8.717"
            ]
          },
          "metadata": {
            "tags": []
          },
          "execution_count": 112
        }
      ]
    },
    {
      "cell_type": "code",
      "metadata": {
        "id": "YAFVyMXMlNdI",
        "colab_type": "code",
        "colab": {
          "base_uri": "https://localhost:8080/",
          "height": 35
        },
        "outputId": "bf79b0bf-37ec-4eb0-eef4-17d68b429c10"
      },
      "source": [
        "#Finding the median of the sum of taken Utilib 14\n",
        "df_sample[\"Utilib_14_taken_sum\"].median()\n",
        "#The median of the sum of taken Utilib 14 is 3.0"
      ],
      "execution_count": 113,
      "outputs": [
        {
          "output_type": "execute_result",
          "data": {
            "text/plain": [
              "3.0"
            ]
          },
          "metadata": {
            "tags": []
          },
          "execution_count": 113
        }
      ]
    },
    {
      "cell_type": "code",
      "metadata": {
        "id": "woCvq-ellXGX",
        "colab_type": "code",
        "colab": {
          "base_uri": "https://localhost:8080/",
          "height": 54
        },
        "outputId": "bf4ee3fa-6723-4c6a-dd65-94d1b1838290"
      },
      "source": [
        "#Finding the mode of the sum of taken Utilib 14\n",
        "df_sample[\"Utilib_14_taken_sum\"].mode()\n",
        "#The mode of the sum of taken Utilib 14 is 0"
      ],
      "execution_count": 114,
      "outputs": [
        {
          "output_type": "execute_result",
          "data": {
            "text/plain": [
              "0    0\n",
              "dtype: int64"
            ]
          },
          "metadata": {
            "tags": []
          },
          "execution_count": 114
        }
      ]
    },
    {
      "cell_type": "code",
      "metadata": {
        "id": "Je-jWDIglfgi",
        "colab_type": "code",
        "colab": {
          "base_uri": "https://localhost:8080/",
          "height": 35
        },
        "outputId": "609e63e7-0723-4736-ae92-32b529bc7a8e"
      },
      "source": [
        "#Finding the mean of the sum of returned Utilib 14\n",
        "df_sample[\"Utilib_14_returned_sum\"].mean()\n",
        "#The mean of the sum of returned Utilib 14 is 8.5146"
      ],
      "execution_count": 115,
      "outputs": [
        {
          "output_type": "execute_result",
          "data": {
            "text/plain": [
              "8.729"
            ]
          },
          "metadata": {
            "tags": []
          },
          "execution_count": 115
        }
      ]
    },
    {
      "cell_type": "code",
      "metadata": {
        "id": "ntP_xhiVlqpa",
        "colab_type": "code",
        "colab": {
          "base_uri": "https://localhost:8080/",
          "height": 35
        },
        "outputId": "a1452dc6-fd9d-41bf-8e8c-e188d622578b"
      },
      "source": [
        "#Finding the median of the sum of returned Utilib 14\n",
        "df_sample[\"Utilib_14_returned_sum\"].median()\n",
        "#The median of the sum of returned Utilib 14 is 3.0"
      ],
      "execution_count": 116,
      "outputs": [
        {
          "output_type": "execute_result",
          "data": {
            "text/plain": [
              "3.0"
            ]
          },
          "metadata": {
            "tags": []
          },
          "execution_count": 116
        }
      ]
    },
    {
      "cell_type": "code",
      "metadata": {
        "id": "6bhGX2Jqlxut",
        "colab_type": "code",
        "colab": {
          "base_uri": "https://localhost:8080/",
          "height": 54
        },
        "outputId": "d3b9bfc3-b965-4bd4-e227-666dcfe8d0b2"
      },
      "source": [
        "#Finding the mode of the sum of returned Utilib 14\n",
        "df_sample[\"Utilib_14_returned_sum\"].mode()\n",
        "#The mode of the sum of returned Utilib 14 is 0"
      ],
      "execution_count": 117,
      "outputs": [
        {
          "output_type": "execute_result",
          "data": {
            "text/plain": [
              "0    0\n",
              "dtype: int64"
            ]
          },
          "metadata": {
            "tags": []
          },
          "execution_count": 117
        }
      ]
    },
    {
      "cell_type": "code",
      "metadata": {
        "id": "ZVaKJvNvl4q1",
        "colab_type": "code",
        "colab": {
          "base_uri": "https://localhost:8080/",
          "height": 35
        },
        "outputId": "f73014b3-e297-492e-ab63-19ba83c417ad"
      },
      "source": [
        "#Finding the mean of the sum of freed slots\n",
        "df_sample[\"Slots_freed_sum\"].mean()\n",
        "#The mean of the sum of freed slots is 21.6114"
      ],
      "execution_count": 118,
      "outputs": [
        {
          "output_type": "execute_result",
          "data": {
            "text/plain": [
              "23.0562"
            ]
          },
          "metadata": {
            "tags": []
          },
          "execution_count": 118
        }
      ]
    },
    {
      "cell_type": "code",
      "metadata": {
        "id": "Ss0OLjS4mQiY",
        "colab_type": "code",
        "colab": {
          "base_uri": "https://localhost:8080/",
          "height": 35
        },
        "outputId": "174ce9b2-36f8-415d-9147-c3fcd8896fa0"
      },
      "source": [
        "#Finding the median of the sum of freed slots\n",
        "df_sample[\"Slots_freed_sum\"].median()\n",
        "#The median of the sum of freed slots is 0"
      ],
      "execution_count": 119,
      "outputs": [
        {
          "output_type": "execute_result",
          "data": {
            "text/plain": [
              "0.0"
            ]
          },
          "metadata": {
            "tags": []
          },
          "execution_count": 119
        }
      ]
    },
    {
      "cell_type": "code",
      "metadata": {
        "id": "1c4AI6W4mYOV",
        "colab_type": "code",
        "colab": {
          "base_uri": "https://localhost:8080/",
          "height": 54
        },
        "outputId": "a001b65e-dc96-4bf4-f070-39a2b644b2ae"
      },
      "source": [
        "#Finding the mode of the sum of freed slots\n",
        "df_sample[\"Slots_freed_sum\"].mode()\n",
        "#The mode of the sum of freed slots is 0"
      ],
      "execution_count": 120,
      "outputs": [
        {
          "output_type": "execute_result",
          "data": {
            "text/plain": [
              "0    0\n",
              "dtype: int64"
            ]
          },
          "metadata": {
            "tags": []
          },
          "execution_count": 120
        }
      ]
    },
    {
      "cell_type": "code",
      "metadata": {
        "id": "nK28DqeQmegy",
        "colab_type": "code",
        "colab": {
          "base_uri": "https://localhost:8080/",
          "height": 35
        },
        "outputId": "2f12bb94-7770-4e6f-e7b1-ab5a57836a95"
      },
      "source": [
        "#Finding the mean of the sum of taken slots\n",
        "df_sample[\"Slots_taken_sum\"].mean()\n",
        "#The mean of the sum of taken slots is 21.6316"
      ],
      "execution_count": 121,
      "outputs": [
        {
          "output_type": "execute_result",
          "data": {
            "text/plain": [
              "23.067"
            ]
          },
          "metadata": {
            "tags": []
          },
          "execution_count": 121
        }
      ]
    },
    {
      "cell_type": "code",
      "metadata": {
        "id": "OkywcMA4moZO",
        "colab_type": "code",
        "colab": {
          "base_uri": "https://localhost:8080/",
          "height": 35
        },
        "outputId": "0efe35c0-a42d-4863-9d50-50c10b4cb117"
      },
      "source": [
        "#Finding the median of the sum of taken slots\n",
        "df_sample[\"Slots_taken_sum\"].median()\n",
        "#The median of the sum of taken slots is 0"
      ],
      "execution_count": 122,
      "outputs": [
        {
          "output_type": "execute_result",
          "data": {
            "text/plain": [
              "0.0"
            ]
          },
          "metadata": {
            "tags": []
          },
          "execution_count": 122
        }
      ]
    },
    {
      "cell_type": "code",
      "metadata": {
        "id": "xZxnsS13mvHG",
        "colab_type": "code",
        "colab": {
          "base_uri": "https://localhost:8080/",
          "height": 54
        },
        "outputId": "c87eef1d-4a7c-48c1-e483-f0e7d8cec15c"
      },
      "source": [
        "#Finding the mode of the sum of taken slots\n",
        "df_sample[\"Slots_taken_sum\"].mode()\n",
        "#The mode of the sum of taken slots is 0"
      ],
      "execution_count": 123,
      "outputs": [
        {
          "output_type": "execute_result",
          "data": {
            "text/plain": [
              "0    0\n",
              "dtype: int64"
            ]
          },
          "metadata": {
            "tags": []
          },
          "execution_count": 123
        }
      ]
    },
    {
      "cell_type": "markdown",
      "metadata": {
        "id": "yKeIk4c7nIgS",
        "colab_type": "text"
      },
      "source": [
        "# 3. Measures of Dispersion"
      ]
    },
    {
      "cell_type": "code",
      "metadata": {
        "id": "ZvGoVvGjnNCZ",
        "colab_type": "code",
        "colab": {
          "base_uri": "https://localhost:8080/",
          "height": 35
        },
        "outputId": "770383c2-2aed-4f05-ff58-946335da91c7"
      },
      "source": [
        "#Finding the standard deviation of the Daily Data Points\n",
        "df_sample[\"n_daily_data_points\"].std()\n",
        "#The standard deviation of the Daily Data Points is 32.04"
      ],
      "execution_count": 124,
      "outputs": [
        {
          "output_type": "execute_result",
          "data": {
            "text/plain": [
              "33.43659196713196"
            ]
          },
          "metadata": {
            "tags": []
          },
          "execution_count": 124
        }
      ]
    },
    {
      "cell_type": "code",
      "metadata": {
        "id": "zx0iEnHYnrKd",
        "colab_type": "code",
        "colab": {
          "base_uri": "https://localhost:8080/",
          "height": 35
        },
        "outputId": "272d1bb1-1900-4981-a106-75ddc1479f48"
      },
      "source": [
        "#Finding the variance of the Daily Data Points\n",
        "df_sample[\"n_daily_data_points\"].var()\n",
        "#The variance of the Daily Data Points is 1,026.60"
      ],
      "execution_count": 125,
      "outputs": [
        {
          "output_type": "execute_result",
          "data": {
            "text/plain": [
              "1118.0056823764735"
            ]
          },
          "metadata": {
            "tags": []
          },
          "execution_count": 125
        }
      ]
    },
    {
      "cell_type": "code",
      "metadata": {
        "id": "YoJkPcDjn48G",
        "colab_type": "code",
        "colab": {
          "base_uri": "https://localhost:8080/",
          "height": 35
        },
        "outputId": "550919f6-10fc-4869-f4f8-c91a442fcce9"
      },
      "source": [
        "#Finding the standard deviation of the sum of taken Blue cars\n",
        "df_sample[\"BlueCars_taken_sum\"].std()\n",
        "#The standard deviation of the sum of taken Blue cars is 179.36"
      ],
      "execution_count": 126,
      "outputs": [
        {
          "output_type": "execute_result",
          "data": {
            "text/plain": [
              "185.03893752753834"
            ]
          },
          "metadata": {
            "tags": []
          },
          "execution_count": 126
        }
      ]
    },
    {
      "cell_type": "code",
      "metadata": {
        "id": "36i4WJksoKNk",
        "colab_type": "code",
        "colab": {
          "base_uri": "https://localhost:8080/",
          "height": 35
        },
        "outputId": "bd81c2ee-81e4-435b-ebd1-9c0ecbbf3f72"
      },
      "source": [
        "#Finding the variance of the sum of taken Blue cars\n",
        "df_sample[\"BlueCars_taken_sum\"].var()\n",
        "#The variance of the sum of taken Blue cars is 32,171.31"
      ],
      "execution_count": 127,
      "outputs": [
        {
          "output_type": "execute_result",
          "data": {
            "text/plain": [
              "34239.40840132024"
            ]
          },
          "metadata": {
            "tags": []
          },
          "execution_count": 127
        }
      ]
    },
    {
      "cell_type": "code",
      "metadata": {
        "id": "KQ1mvImLoWFl",
        "colab_type": "code",
        "colab": {
          "base_uri": "https://localhost:8080/",
          "height": 35
        },
        "outputId": "7828ff7e-5c83-43a2-a131-68e027ed9c14"
      },
      "source": [
        "#Finding the standard deviation of the sum of returned Blue cars\n",
        "df_sample[\"BlueCars_returned_sum\"].std()\n",
        "#The standard deviation of the sum of returned Blue cars is 178.76"
      ],
      "execution_count": 128,
      "outputs": [
        {
          "output_type": "execute_result",
          "data": {
            "text/plain": [
              "185.05486905486228"
            ]
          },
          "metadata": {
            "tags": []
          },
          "execution_count": 128
        }
      ]
    },
    {
      "cell_type": "code",
      "metadata": {
        "id": "HhWldcLXoj3H",
        "colab_type": "code",
        "colab": {
          "base_uri": "https://localhost:8080/",
          "height": 35
        },
        "outputId": "4e7594c7-7f39-4c33-f899-7c787786687c"
      },
      "source": [
        "#Finding the variance of the sum of returned Blue cars\n",
        "df_sample[\"BlueCars_returned_sum\"].var()\n",
        "#The variance of the sum of returned Blue cars is 31,954.85"
      ],
      "execution_count": 129,
      "outputs": [
        {
          "output_type": "execute_result",
          "data": {
            "text/plain": [
              "34245.30456091222"
            ]
          },
          "metadata": {
            "tags": []
          },
          "execution_count": 129
        }
      ]
    },
    {
      "cell_type": "code",
      "metadata": {
        "id": "0q719i2YovrZ",
        "colab_type": "code",
        "colab": {
          "base_uri": "https://localhost:8080/",
          "height": 35
        },
        "outputId": "d505b9bf-6c83-4b26-efc2-6da72bed8ae9"
      },
      "source": [
        "#Finding the standard deviation of the sum of taken Utilib\n",
        "df_sample[\"Utilib_taken_sum\"].std()\n",
        "#The standard deviation of the sum of taken Utilib is 5.6748"
      ],
      "execution_count": 130,
      "outputs": [
        {
          "output_type": "execute_result",
          "data": {
            "text/plain": [
              "5.821928100669094"
            ]
          },
          "metadata": {
            "tags": []
          },
          "execution_count": 130
        }
      ]
    },
    {
      "cell_type": "code",
      "metadata": {
        "id": "gQvyM_WEpPid",
        "colab_type": "code",
        "colab": {
          "base_uri": "https://localhost:8080/",
          "height": 35
        },
        "outputId": "aa38f9f9-6652-4e0d-d2b6-3e9557b684ed"
      },
      "source": [
        "#Finding the variance of the sum of taken Utilib\n",
        "df_sample[\"Utilib_taken_sum\"].var()\n",
        "#The variance of the sum of taken Utilib is 32.20"
      ],
      "execution_count": 131,
      "outputs": [
        {
          "output_type": "execute_result",
          "data": {
            "text/plain": [
              "33.894846809360445"
            ]
          },
          "metadata": {
            "tags": []
          },
          "execution_count": 131
        }
      ]
    },
    {
      "cell_type": "code",
      "metadata": {
        "id": "MsQ8zAwGpeKm",
        "colab_type": "code",
        "colab": {
          "base_uri": "https://localhost:8080/",
          "height": 35
        },
        "outputId": "33b69278-ba6b-4439-f744-983561e55b86"
      },
      "source": [
        "#Finding the standard deviation of the sum of returned Utilib \n",
        "df_sample[\"Utilib_returned_sum\"].std()\n",
        "#The standard deviation of the sum of returned Utilib is 5.7568"
      ],
      "execution_count": 132,
      "outputs": [
        {
          "output_type": "execute_result",
          "data": {
            "text/plain": [
              "5.809496664109375"
            ]
          },
          "metadata": {
            "tags": []
          },
          "execution_count": 132
        }
      ]
    },
    {
      "cell_type": "code",
      "metadata": {
        "id": "Cg3BXZnZpw77",
        "colab_type": "code",
        "colab": {
          "base_uri": "https://localhost:8080/",
          "height": 35
        },
        "outputId": "b20a2372-3db8-4d99-f33a-c1d803f593b3"
      },
      "source": [
        "#Finding the variance of the sum of returned Utilib \n",
        "df_sample[\"Utilib_returned_sum\"].var()\n",
        "#Thevariance of the sum of returned Utilib is 33.1409"
      ],
      "execution_count": 133,
      "outputs": [
        {
          "output_type": "execute_result",
          "data": {
            "text/plain": [
              "33.750251490297956"
            ]
          },
          "metadata": {
            "tags": []
          },
          "execution_count": 133
        }
      ]
    },
    {
      "cell_type": "code",
      "metadata": {
        "id": "Al60684JqAqZ",
        "colab_type": "code",
        "colab": {
          "base_uri": "https://localhost:8080/",
          "height": 35
        },
        "outputId": "c575a07f-6922-4bb4-d1d2-beb39409cd8c"
      },
      "source": [
        "#Finding the standard deviation of the sum of taken Utilib 14 \n",
        "df_sample[\"Utilib_14_taken_sum\"].std()\n",
        "#The standard deviation of the sum of returned Utilib 14 is 12.693"
      ],
      "execution_count": 134,
      "outputs": [
        {
          "output_type": "execute_result",
          "data": {
            "text/plain": [
              "12.90208524854615"
            ]
          },
          "metadata": {
            "tags": []
          },
          "execution_count": 134
        }
      ]
    },
    {
      "cell_type": "code",
      "metadata": {
        "id": "47osk5h7qMKV",
        "colab_type": "code",
        "colab": {
          "base_uri": "https://localhost:8080/",
          "height": 35
        },
        "outputId": "c1967c93-139b-4524-93e5-b77238473d46"
      },
      "source": [
        "#Finding the variance of the sum of taken Utilib 14 \n",
        "df_sample[\"Utilib_14_taken_sum\"].var()\n",
        "#The variance of the sum of returned Utilib 14 is 161.11"
      ],
      "execution_count": 135,
      "outputs": [
        {
          "output_type": "execute_result",
          "data": {
            "text/plain": [
              "166.46380376075217"
            ]
          },
          "metadata": {
            "tags": []
          },
          "execution_count": 135
        }
      ]
    },
    {
      "cell_type": "code",
      "metadata": {
        "id": "URAgZOsrqXiq",
        "colab_type": "code",
        "colab": {
          "base_uri": "https://localhost:8080/",
          "height": 35
        },
        "outputId": "04de71ca-844c-4bf3-8de0-a96d63e9a444"
      },
      "source": [
        "#Finding the standard deviation of the sum of returned Utilib 14 \n",
        "df_sample[\"Utilib_14_returned_sum\"].std()\n",
        "#The standard deviation of the sum of returned Utilib 14 is 12.76"
      ],
      "execution_count": 136,
      "outputs": [
        {
          "output_type": "execute_result",
          "data": {
            "text/plain": [
              "12.905706894784558"
            ]
          },
          "metadata": {
            "tags": []
          },
          "execution_count": 136
        }
      ]
    },
    {
      "cell_type": "code",
      "metadata": {
        "id": "pIxhgYd-qolr",
        "colab_type": "code",
        "colab": {
          "base_uri": "https://localhost:8080/",
          "height": 35
        },
        "outputId": "53288362-1018-4d62-d45f-52c8581386f8"
      },
      "source": [
        "#Finding the variance of the sum of returned Utilib 14 \n",
        "df_sample[\"Utilib_14_returned_sum\"].var()\n",
        "#The variance of the sum of returned Utilib 14 is 162.70"
      ],
      "execution_count": 137,
      "outputs": [
        {
          "output_type": "execute_result",
          "data": {
            "text/plain": [
              "166.55727045408966"
            ]
          },
          "metadata": {
            "tags": []
          },
          "execution_count": 137
        }
      ]
    },
    {
      "cell_type": "code",
      "metadata": {
        "id": "i_cVm0yTq6fA",
        "colab_type": "code",
        "colab": {
          "base_uri": "https://localhost:8080/",
          "height": 35
        },
        "outputId": "df51f0d3-340f-4764-bb91-9a3e240407b8"
      },
      "source": [
        "#Finding the standard deviation of the sum of freed slots\n",
        "df_sample[\"Slots_freed_sum\"].std()\n",
        "#The standard deviation of the sum of freed slots 14 is 50.78"
      ],
      "execution_count": 138,
      "outputs": [
        {
          "output_type": "execute_result",
          "data": {
            "text/plain": [
              "51.85340487064753"
            ]
          },
          "metadata": {
            "tags": []
          },
          "execution_count": 138
        }
      ]
    },
    {
      "cell_type": "code",
      "metadata": {
        "id": "NkooRCzPrOMJ",
        "colab_type": "code",
        "colab": {
          "base_uri": "https://localhost:8080/",
          "height": 35
        },
        "outputId": "fdff46a9-0c6b-4355-ea97-cca672dd206f"
      },
      "source": [
        "#Finding the variance of the sum of freed slots\n",
        "df_sample[\"Slots_freed_sum\"].var()\n",
        "#The variance of the sum of freed slots 14 is 2,578.52"
      ],
      "execution_count": 139,
      "outputs": [
        {
          "output_type": "execute_result",
          "data": {
            "text/plain": [
              "2688.7755966792934"
            ]
          },
          "metadata": {
            "tags": []
          },
          "execution_count": 139
        }
      ]
    },
    {
      "cell_type": "code",
      "metadata": {
        "id": "bFWS6e37rboc",
        "colab_type": "code",
        "colab": {
          "base_uri": "https://localhost:8080/",
          "height": 35
        },
        "outputId": "63822fa4-45f9-4b61-afbf-cec03a59b5cc"
      },
      "source": [
        "#Finding the standard deviation of the sum of taken slots\n",
        "df_sample[\"Slots_taken_sum\"].std()\n",
        "#The standard deviation of the sum of taken slots 14 is 50.83"
      ],
      "execution_count": 140,
      "outputs": [
        {
          "output_type": "execute_result",
          "data": {
            "text/plain": [
              "51.867436385379065"
            ]
          },
          "metadata": {
            "tags": []
          },
          "execution_count": 140
        }
      ]
    },
    {
      "cell_type": "code",
      "metadata": {
        "id": "Mol_X29yrnee",
        "colab_type": "code",
        "colab": {
          "base_uri": "https://localhost:8080/",
          "height": 35
        },
        "outputId": "4ad43304-ad68-4d21-bcb9-c6cf37a04fda"
      },
      "source": [
        "#Finding the variance of the sum of taken slots\n",
        "df_sample[\"Slots_taken_sum\"].var()\n",
        "#The variance of the sum of taken slots 14 is 2,584.03"
      ],
      "execution_count": 141,
      "outputs": [
        {
          "output_type": "execute_result",
          "data": {
            "text/plain": [
              "2690.2309571913443"
            ]
          },
          "metadata": {
            "tags": []
          },
          "execution_count": 141
        }
      ]
    },
    {
      "cell_type": "markdown",
      "metadata": {
        "id": "sv31hgiCrxSG",
        "colab_type": "text"
      },
      "source": [
        "# Visualizations"
      ]
    },
    {
      "cell_type": "code",
      "metadata": {
        "id": "p8skSylSrzit",
        "colab_type": "code",
        "colab": {
          "base_uri": "https://localhost:8080/",
          "height": 295
        },
        "outputId": "a9d327bc-af23-4a45-e6c3-f276d70fe98c"
      },
      "source": [
        "df_sample[\"Slots_taken_sum\"].plot.hist(color='green')\n",
        "#Giving a title to our Histogram\n",
        "plt.title(' Histogram showing the distribution of Slots taken')\n",
        "#Labelling our X Axis\n",
        "plt.xlabel(\"Slots Taken\")\n",
        "#Labelling thr Y Axis\n",
        "plt.ylabel(\"Frequency\")\n",
        "#Displaying our Chart\n",
        "plt.show()"
      ],
      "execution_count": 142,
      "outputs": [
        {
          "output_type": "display_data",
          "data": {
            "image/png": "[encoded data removed]",
            "text/plain": [
              "<Figure size 432x288 with 1 Axes>"
            ]
          },
          "metadata": {
            "tags": [],
            "needs_background": "light"
          }
        }
      ]
    },
    {
      "cell_type": "code",
      "metadata": {
        "id": "TTinW78IsMez",
        "colab_type": "code",
        "colab": {
          "base_uri": "https://localhost:8080/",
          "height": 295
        },
        "outputId": "c9c2d0ea-b388-4547-8ba4-386d7fb5fb6b"
      },
      "source": [
        "df_sample[\"Slots_freed_sum\"].plot.hist(color='red')\n",
        "#Giving a title to our Histogram\n",
        "plt.title(' Histogram showing the distribution of Slots Freed')\n",
        "#Labelling our X Axis\n",
        "plt.xlabel(\"Slots Freed\")\n",
        "#Labelling thr Y Axis\n",
        "plt.ylabel(\"Frequency\")\n",
        "#Displaying our Chart\n",
        "plt.show()"
      ],
      "execution_count": 143,
      "outputs": [
        {
          "output_type": "display_data",
          "data": {
            "image/png": "[encoded data removed]",
            "text/plain": [
              "<Figure size 432x288 with 1 Axes>"
            ]
          },
          "metadata": {
            "tags": [],
            "needs_background": "light"
          }
        }
      ]
    },
    {
      "cell_type": "code",
      "metadata": {
        "id": "KYnl45iYsavN",
        "colab_type": "code",
        "colab": {
          "base_uri": "https://localhost:8080/",
          "height": 295
        },
        "outputId": "6e30fcab-1db3-435d-e59c-9c98d5e17313"
      },
      "source": [
        "df_sample[\"Utilib_14_taken_sum\"].plot.hist(color='yellow')\n",
        "#Giving a title to our Histogram\n",
        "plt.title(' Histogram showing the distribution of Taken Utilib 14')\n",
        "#Labelling our X Axis\n",
        "plt.xlabel(\"Taken Utilib 14\")\n",
        "#Labelling thr Y Axis\n",
        "plt.ylabel(\"Frequency\")\n",
        "#Displaying our Chart\n",
        "plt.show()"
      ],
      "execution_count": 144,
      "outputs": [
        {
          "output_type": "display_data",
          "data": {
            "image/png": "[encoded data removed]",
            "text/plain": [
              "<Figure size 432x288 with 1 Axes>"
            ]
          },
          "metadata": {
            "tags": [],
            "needs_background": "light"
          }
        }
      ]
    },
    {
      "cell_type": "code",
      "metadata": {
        "id": "mHp9qETi0KHF",
        "colab_type": "code",
        "colab": {
          "base_uri": "https://localhost:8080/",
          "height": 295
        },
        "outputId": "5b890276-862f-49c8-da96-439f95792164"
      },
      "source": [
        "df_sample[\"Utilib_14_returned_sum\"].plot.hist(color='blue')\n",
        "#Giving a title to our Histogram\n",
        "plt.title(' Histogram showing the distribution of Returned Utilib 14')\n",
        "#Labelling our X Axis\n",
        "plt.xlabel(\"Returned Utilib 14\")\n",
        "#Labelling thr Y Axis\n",
        "plt.ylabel(\"Frequency\")\n",
        "#Displaying our Chart\n",
        "plt.show()"
      ],
      "execution_count": 145,
      "outputs": [
        {
          "output_type": "display_data",
          "data": {
            "image/png": "[encoded data removed]",
            "text/plain": [
              "<Figure size 432x288 with 1 Axes>"
            ]
          },
          "metadata": {
            "tags": [],
            "needs_background": "light"
          }
        }
      ]
    },
    {
      "cell_type": "code",
      "metadata": {
        "id": "rehnUYWm1aoz",
        "colab_type": "code",
        "colab": {
          "base_uri": "https://localhost:8080/",
          "height": 295
        },
        "outputId": "2584d13a-3922-49ac-cf1a-f557f9d5e77f"
      },
      "source": [
        "df_sample[\"BlueCars_returned_sum\"].plot.hist(color='blue')\n",
        "#Giving a title to our Histogram\n",
        "plt.title(' Histogram showing the distribution of Returned Blue Cars')\n",
        "#Labelling our X Axis\n",
        "plt.xlabel(\"Returned Blue Cars\")\n",
        "#Labelling the Y Axis\n",
        "plt.ylabel(\"Frequency\")\n",
        "#Displaying our Chart\n",
        "plt.show()"
      ],
      "execution_count": 146,
      "outputs": [
        {
          "output_type": "display_data",
          "data": {
            "image/png": "[encoded data removed]",
            "text/plain": [
              "<Figure size 432x288 with 1 Axes>"
            ]
          },
          "metadata": {
            "tags": [],
            "needs_background": "light"
          }
        }
      ]
    },
    {
      "cell_type": "code",
      "metadata": {
        "id": "Pq77B0sM2I-Q",
        "colab_type": "code",
        "colab": {
          "base_uri": "https://localhost:8080/",
          "height": 295
        },
        "outputId": "c1b62b8b-5294-4060-aa92-db932ff63d6e"
      },
      "source": [
        "df_sample[\"BlueCars_taken_sum\"].plot.hist(color='blue')\n",
        "#Giving a title to our Histogram\n",
        "plt.title(' Histogram showing the distribution of Taken Blue Cars')\n",
        "#Labelling our X Axis\n",
        "plt.xlabel(\"Taken Blue Cars\")\n",
        "#Labelling the Y Axis\n",
        "plt.ylabel(\"Frequency\")\n",
        "#Displaying our Chart\n",
        "plt.show()"
      ],
      "execution_count": 147,
      "outputs": [
        {
          "output_type": "display_data",
          "data": {
            "image/png": "[encoded data removed]",
            "text/plain": [
              "<Figure size 432x288 with 1 Axes>"
            ]
          },
          "metadata": {
            "tags": [],
            "needs_background": "light"
          }
        }
      ]
    },
    {
      "cell_type": "code",
      "metadata": {
        "id": "3QzWQfWo22Uo",
        "colab_type": "code",
        "colab": {
          "base_uri": "https://localhost:8080/",
          "height": 295
        },
        "outputId": "29888972-b07b-4e26-b38a-abd1820a2151"
      },
      "source": [
        "df_sample[\"n_daily_data_points\"].plot.hist(color='blue')\n",
        "#Giving a title to our Histogram\n",
        "plt.title(' Histogram showing the distribution of Daily Data Points')\n",
        "#Labelling our X Axis\n",
        "plt.xlabel(\"Daily Data Points\")\n",
        "#Labelling the Y Axis\n",
        "plt.ylabel(\"Frequency\")\n",
        "#Displaying our Chart\n",
        "plt.show()"
      ],
      "execution_count": 148,
      "outputs": [
        {
          "output_type": "display_data",
          "data": {
            "image/png": "[encoded data removed]",
            "text/plain": [
              "<Figure size 432x288 with 1 Axes>"
            ]
          },
          "metadata": {
            "tags": [],
            "needs_background": "light"
          }
        }
      ]
    },
    {
      "cell_type": "markdown",
      "metadata": {
        "id": "8He6SiTH3q-6",
        "colab_type": "text"
      },
      "source": [
        "Boxplots"
      ]
    },
    {
      "cell_type": "code",
      "metadata": {
        "id": "ZDdiyD9W3s1o",
        "colab_type": "code",
        "colab": {
          "base_uri": "https://localhost:8080/",
          "height": 298
        },
        "outputId": "4eaa1a73-68a7-4598-e9a7-702fc718302d"
      },
      "source": [
        "sns.boxplot(df[\"n_daily_data_points\"], showmeans=True)"
      ],
      "execution_count": 149,
      "outputs": [
        {
          "output_type": "execute_result",
          "data": {
            "text/plain": [
              "<matplotlib.axes._subplots.AxesSubplot at 0x7fccb36fadd8>"
            ]
          },
          "metadata": {
            "tags": []
          },
          "execution_count": 149
        },
        {
          "output_type": "display_data",
          "data": {
            "image/png": "[encoded data removed]",
            "text/plain": [
              "<Figure size 432x288 with 1 Axes>"
            ]
          },
          "metadata": {
            "tags": [],
            "needs_background": "light"
          }
        }
      ]
    },
    {
      "cell_type": "code",
      "metadata": {
        "id": "vltNWTH94H3r",
        "colab_type": "code",
        "colab": {
          "base_uri": "https://localhost:8080/",
          "height": 295
        },
        "outputId": "8ce25b77-ede1-4594-8219-ff3d332ff0c0"
      },
      "source": [
        "sns.boxplot(df[\"BlueCars_taken_sum\"], showmeans=True)\n",
        "plt.title(' Boxplot showing the distribution of Taken Blue Cars')\n",
        "#Labelling our X Axis\n",
        "plt.xlabel(\"Taken Blue Cars\")\n",
        "#Labelling the Y Axis\n",
        "plt.ylabel(\"Frequency\")\n",
        "#Displaying our Chart\n",
        "plt.show()"
      ],
      "execution_count": 150,
      "outputs": [
        {
          "output_type": "display_data",
          "data": {
            "image/png": "[encoded data removed]",
            "text/plain": [
              "<Figure size 432x288 with 1 Axes>"
            ]
          },
          "metadata": {
            "tags": [],
            "needs_background": "light"
          }
        }
      ]
    },
    {
      "cell_type": "code",
      "metadata": {
        "id": "O9xhzM3U4ej0",
        "colab_type": "code",
        "colab": {
          "base_uri": "https://localhost:8080/",
          "height": 298
        },
        "outputId": "a0e5d52e-3c5b-40e3-d895-bd244973afca"
      },
      "source": [
        "sns.boxplot(df[\"BlueCars_returned_sum\"], showmeans=True)"
      ],
      "execution_count": 151,
      "outputs": [
        {
          "output_type": "execute_result",
          "data": {
            "text/plain": [
              "<matplotlib.axes._subplots.AxesSubplot at 0x7fccb375b6d8>"
            ]
          },
          "metadata": {
            "tags": []
          },
          "execution_count": 151
        },
        {
          "output_type": "display_data",
          "data": {
            "image/png": "[encoded data removed]",
            "text/plain": [
              "<Figure size 432x288 with 1 Axes>"
            ]
          },
          "metadata": {
            "tags": [],
            "needs_background": "light"
          }
        }
      ]
    },
    {
      "cell_type": "code",
      "metadata": {
        "id": "IvdCQkiY4i0s",
        "colab_type": "code",
        "colab": {
          "base_uri": "https://localhost:8080/",
          "height": 298
        },
        "outputId": "b4e37df4-8a95-4da0-9cc3-681895d2e4c7"
      },
      "source": [
        "sns.boxplot(df[\"Utilib_14_returned_sum\"], showmeans=True)"
      ],
      "execution_count": 152,
      "outputs": [
        {
          "output_type": "execute_result",
          "data": {
            "text/plain": [
              "<matplotlib.axes._subplots.AxesSubplot at 0x7fccb34763c8>"
            ]
          },
          "metadata": {
            "tags": []
          },
          "execution_count": 152
        },
        {
          "output_type": "display_data",
          "data": {
            "image/png": "[encoded data removed]",
            "text/plain": [
              "<Figure size 432x288 with 1 Axes>"
            ]
          },
          "metadata": {
            "tags": [],
            "needs_background": "light"
          }
        }
      ]
    },
    {
      "cell_type": "code",
      "metadata": {
        "id": "4t_CQtkZ40Tn",
        "colab_type": "code",
        "colab": {
          "base_uri": "https://localhost:8080/",
          "height": 298
        },
        "outputId": "d9b6eadf-ede2-4d61-ba7e-8326818cbccc"
      },
      "source": [
        "sns.boxplot(df[\"Utilib_14_taken_sum\"], showmeans=True)"
      ],
      "execution_count": 153,
      "outputs": [
        {
          "output_type": "execute_result",
          "data": {
            "text/plain": [
              "<matplotlib.axes._subplots.AxesSubplot at 0x7fccb332c630>"
            ]
          },
          "metadata": {
            "tags": []
          },
          "execution_count": 153
        },
        {
          "output_type": "display_data",
          "data": {
            "image/png": "[encoded data removed]",
            "text/plain": [
              "<Figure size 432x288 with 1 Axes>"
            ]
          },
          "metadata": {
            "tags": [],
            "needs_background": "light"
          }
        }
      ]
    },
    {
      "cell_type": "code",
      "metadata": {
        "id": "i56IlZW34_-D",
        "colab_type": "code",
        "colab": {
          "base_uri": "https://localhost:8080/",
          "height": 298
        },
        "outputId": "60b3fa35-c26b-47bb-a7b5-5ad100124774"
      },
      "source": [
        "\n",
        "sns.boxplot(df[\"Slots_freed_sum\"], showmeans=True)"
      ],
      "execution_count": 154,
      "outputs": [
        {
          "output_type": "execute_result",
          "data": {
            "text/plain": [
              "<matplotlib.axes._subplots.AxesSubplot at 0x7fccb3291be0>"
            ]
          },
          "metadata": {
            "tags": []
          },
          "execution_count": 154
        },
        {
          "output_type": "display_data",
          "data": {
            "image/png": "[encoded data removed]",
            "text/plain": [
              "<Figure size 432x288 with 1 Axes>"
            ]
          },
          "metadata": {
            "tags": [],
            "needs_background": "light"
          }
        }
      ]
    },
    {
      "cell_type": "code",
      "metadata": {
        "id": "PeUZfzOi5MJS",
        "colab_type": "code",
        "colab": {
          "base_uri": "https://localhost:8080/",
          "height": 298
        },
        "outputId": "b3690841-f503-4f51-9345-4f7cc265bdbf"
      },
      "source": [
        "sns.boxplot(df[\"Slots_taken_sum\"], showmeans=True)"
      ],
      "execution_count": 155,
      "outputs": [
        {
          "output_type": "execute_result",
          "data": {
            "text/plain": [
              "<matplotlib.axes._subplots.AxesSubplot at 0x7fccb3209240>"
            ]
          },
          "metadata": {
            "tags": []
          },
          "execution_count": 155
        },
        {
          "output_type": "display_data",
          "data": {
            "image/png": "[encoded data removed]",
            "text/plain": [
              "<Figure size 432x288 with 1 Axes>"
            ]
          },
          "metadata": {
            "tags": [],
            "needs_background": "light"
          }
        }
      ]
    },
    {
      "cell_type": "markdown",
      "metadata": {
        "id": "dYgAeTmC5UHJ",
        "colab_type": "text"
      },
      "source": [
        "# Exploratory Data Analysis"
      ]
    },
    {
      "cell_type": "code",
      "metadata": {
        "id": "ygcvJpiW8aG-",
        "colab_type": "code",
        "colab": {
          "base_uri": "https://localhost:8080/",
          "height": 35
        },
        "outputId": "203d3f2b-3059-460f-e427-d8c134308f6c"
      },
      "source": [
        "#Checking for missing values\n",
        "df_sample.isnull().values.any()\n",
        "# There are no missing values as the code above returns FALSE"
      ],
      "execution_count": 156,
      "outputs": [
        {
          "output_type": "execute_result",
          "data": {
            "text/plain": [
              "False"
            ]
          },
          "metadata": {
            "tags": []
          },
          "execution_count": 156
        }
      ]
    },
    {
      "cell_type": "code",
      "metadata": {
        "id": "kgoQ4SHA8mVN",
        "colab_type": "code",
        "colab": {
          "base_uri": "https://localhost:8080/",
          "height": 1000
        },
        "outputId": "74c73a77-6945-4526-c321-f3d85880b702"
      },
      "source": [
        "#Outlier Detection\n",
        "col_names = ['n_daily_data_points', 'dayOfWeek', 'BlueCars_taken_sum', 'BlueCars_returned_sum','Utilib_taken_sum','Utilib_returned_sum','Utilib_14_returned_sum','Utilib_14_taken_sum','Slots_freed_sum','Slots_taken_sum']\n",
        "\n",
        "fig, ax = plt.subplots(len(col_names), figsize=(8,40))\n",
        "\n",
        "for i, col_val in enumerate(col_names):\n",
        "\n",
        "    sns.boxplot(y=df_sample[col_val], ax=ax[i])\n",
        "    ax[i].set_title('Box plot - {}'.format(col_val), fontsize=10)\n",
        "    ax[i].set_xlabel(col_val, fontsize=8)\n",
        "\n",
        "plt.show()\n",
        "#Outliers are present in all other columns apart from the Daily Data points column."
      ],
      "execution_count": 157,
      "outputs": [
        {
          "output_type": "display_data",
          "data": {
            "image/png": "[encoded data removed]",
            "text/plain": [
              "<Figure size 576x2880 with 10 Axes>"
            ]
          },
          "metadata": {
            "tags": [],
            "needs_background": "light"
          }
        }
      ]
    },
    {
      "cell_type": "markdown",
      "metadata": {
        "id": "hJyrx38z866U",
        "colab_type": "text"
      },
      "source": [
        "# Bivariate Analysis"
      ]
    },
    {
      "cell_type": "markdown",
      "metadata": {
        "id": "WZ3WV2Io9DQT",
        "colab_type": "text"
      },
      "source": [
        "Categorical and Numerical"
      ]
    },
    {
      "cell_type": "code",
      "metadata": {
        "id": "Pqt-1yIk8942",
        "colab_type": "code",
        "colab": {
          "base_uri": "https://localhost:8080/",
          "height": 301
        },
        "outputId": "6d1cda8b-7655-45a6-cde1-fd9b6f254f26"
      },
      "source": [
        "# Plotting our line graph\n",
        "df_sample[['n_daily_data_points','day_type']].plot()\n",
        "\n",
        "# Giving a title to our line graph\n",
        "plt.title(\"Daily data pointd for the different day types\", fontsize=14, y=1.015)\n",
        "\n",
        "# Labelling the y-axis\n",
        "plt.ylabel('day_type')\n",
        "\n",
        "# Labelling the x-axis\n",
        "plt.xlabel('n_daily_data_points')\n",
        "\n",
        "# Displaying our graph\n",
        "plt.show()"
      ],
      "execution_count": 158,
      "outputs": [
        {
          "output_type": "display_data",
          "data": {
            "image/png": "[encoded data removed]",
            "text/plain": [
              "<Figure size 432x288 with 1 Axes>"
            ]
          },
          "metadata": {
            "tags": [],
            "needs_background": "light"
          }
        }
      ]
    },
    {
      "cell_type": "code",
      "metadata": {
        "id": "KPOnDPZn-iAp",
        "colab_type": "code",
        "colab": {
          "base_uri": "https://localhost:8080/",
          "height": 300
        },
        "outputId": "911df62e-20b1-4dcf-8a9c-e39dd6600645"
      },
      "source": [
        "# Plotting our line graph\n",
        "df_sample[['BlueCars_returned_sum','day_type']].plot()\n",
        "\n",
        "# Giving a title to our line graph\n",
        "plt.title(\"Sum of Blue Cars Returned for the different day types\", fontsize=14, y=1.015)\n",
        "\n",
        "# Labelling the y-axis\n",
        "plt.ylabel('day_type')\n",
        "\n",
        "# Labelling the x-axis\n",
        "plt.xlabel('Blue Cars Returned')\n",
        "\n",
        "# Displaying our graph\n",
        "plt.show()"
      ],
      "execution_count": 159,
      "outputs": [
        {
          "output_type": "display_data",
          "data": {
            "image/png": "[encoded data removed]",
            "text/plain": [
              "<Figure size 432x288 with 1 Axes>"
            ]
          },
          "metadata": {
            "tags": [],
            "needs_background": "light"
          }
        }
      ]
    },
    {
      "cell_type": "code",
      "metadata": {
        "id": "HNmB2bDG-3uv",
        "colab_type": "code",
        "colab": {
          "base_uri": "https://localhost:8080/",
          "height": 300
        },
        "outputId": "dc539b8f-8de0-4d40-bd40-1c79d03ca656"
      },
      "source": [
        "# Plotting our line graph\n",
        "df_sample[['BlueCars_taken_sum','day_type']].plot()\n",
        "\n",
        "# Giving a title to our line graph\n",
        "plt.title(\"Sum of Blue Cars taken for the different day types\", fontsize=14, y=1.015)\n",
        "\n",
        "# Labelling the y-axis\n",
        "plt.ylabel('day_type')\n",
        "\n",
        "# Labelling the x-axis\n",
        "plt.xlabel('Blue Cars Taken')\n",
        "\n",
        "# Displaying our graph\n",
        "plt.show()"
      ],
      "execution_count": 160,
      "outputs": [
        {
          "output_type": "display_data",
          "data": {
            "image/png": "[encoded data removed]",
            "text/plain": [
              "<Figure size 432x288 with 1 Axes>"
            ]
          },
          "metadata": {
            "tags": [],
            "needs_background": "light"
          }
        }
      ]
    },
    {
      "cell_type": "code",
      "metadata": {
        "id": "Xbtdzqcc_A0a",
        "colab_type": "code",
        "colab": {
          "base_uri": "https://localhost:8080/",
          "height": 300
        },
        "outputId": "59c5802b-bac1-4ce3-b103-45cee7fa60c2"
      },
      "source": [
        "# Plotting our line graph\n",
        "import matplotlib.pyplot as plt\n",
        "df_sample[['Utilib_14_taken_sum','Utilib_14_returned_sum']]\n",
        "\n",
        "# Giving a title to our line graph\n",
        "plt.title(\"Sum of Utilib 14 Cars taken for the different day types\", fontsize=14, y=1.015)\n",
        "\n",
        "# Labelling the y-axis\n",
        "plt.ylabel('day_type')\n",
        "\n",
        "# Labelling the x-axis\n",
        "plt.xlabel('Utilib 14 Cars Taken')\n",
        "\n",
        "# Displaying our graph\n",
        "plt.show()"
      ],
      "execution_count": 161,
      "outputs": [
        {
          "output_type": "display_data",
          "data": {
            "image/png": "[encoded data removed]",
            "text/plain": [
              "<Figure size 432x288 with 1 Axes>"
            ]
          },
          "metadata": {
            "tags": [],
            "needs_background": "light"
          }
        }
      ]
    },
    {
      "cell_type": "code",
      "metadata": {
        "id": "lM6kjGcd_U_k",
        "colab_type": "code",
        "colab": {
          "base_uri": "https://localhost:8080/",
          "height": 300
        },
        "outputId": "887710c3-fa36-4758-ff4d-9a8e2042dcd6"
      },
      "source": [
        "# Plotting our line graph\n",
        "df_sample[['Utilib_14_returned_sum','day_type']].plot()\n",
        "\n",
        "# Giving a title to our line graph\n",
        "plt.title(\"Sum of Utilib 14 Cars returned for the different day types\", fontsize=14, y=1.015)\n",
        "\n",
        "# Labelling the y-axis\n",
        "plt.ylabel('day_type')\n",
        "\n",
        "# Labelling the x-axis\n",
        "plt.xlabel('Utilib 14 Cars Returned')\n",
        "\n",
        "# Displaying our graph\n",
        "plt.show()"
      ],
      "execution_count": 162,
      "outputs": [
        {
          "output_type": "display_data",
          "data": {
            "image/png": "[encoded data removed]",
            "text/plain": [
              "<Figure size 432x288 with 1 Axes>"
            ]
          },
          "metadata": {
            "tags": [],
            "needs_background": "light"
          }
        }
      ]
    },
    {
      "cell_type": "markdown",
      "metadata": {
        "id": "FaW4r9gx_o-Y",
        "colab_type": "text"
      },
      "source": [
        "# Numerical and Numerical"
      ]
    },
    {
      "cell_type": "code",
      "metadata": {
        "id": "l2CCw20W_ssR",
        "colab_type": "code",
        "colab": {
          "base_uri": "https://localhost:8080/",
          "height": 319
        },
        "outputId": "f01f1524-140f-4b07-c567-bd811eaa39ef"
      },
      "source": [
        "# Using Pandas: Plotting our scatterplot to compare the variables\n",
        "df_sample.plot(x = 'BlueCars_returned_sum', y = 'BlueCars_taken_sum', kind='scatter')\n",
        "plt.title(\"Scatter plot showing the relationship between taken and returned Blu Cars\", fontsize=14, y=1.015)\n",
        "#There is a perfect positive relationship between the two variables which indicates the expected results for the other variables."
      ],
      "execution_count": 163,
      "outputs": [
        {
          "output_type": "execute_result",
          "data": {
            "text/plain": [
              "Text(0.5, 1.015, 'Scatter plot showing the relationship between taken and returned Blu Cars')"
            ]
          },
          "metadata": {
            "tags": []
          },
          "execution_count": 163
        },
        {
          "output_type": "display_data",
          "data": {
            "image/png": "[encoded data removed]",
            "text/plain": [
              "<Figure size 432x288 with 1 Axes>"
            ]
          },
          "metadata": {
            "tags": [],
            "needs_background": "light"
          }
        }
      ]
    },
    {
      "cell_type": "markdown",
      "metadata": {
        "id": "vatUrD8bDAIQ",
        "colab_type": "text"
      },
      "source": [
        "# Hypothesis Testing"
      ]
    },
    {
      "cell_type": "markdown",
      "metadata": {
        "id": "fUK6mBcScyJa",
        "colab_type": "text"
      },
      "source": [
        "#Test:Is the number of Blue cars taken on 1/2/2018 different from the cars taken 0n 1/6/2018"
      ]
    },
    {
      "cell_type": "code",
      "metadata": {
        "id": "sE7rThPrDDYO",
        "colab_type": "code",
        "colab": {
          "base_uri": "https://localhost:8080/",
          "height": 181
        },
        "outputId": "940c0120-bc4f-436d-dc28-2c112fc5b491"
      },
      "source": [
        "#H0:Day 1=Day 2\n",
        "#H1 :Day1=!Day 2\n",
        "#Extracting the first data frame for the first day\n",
        "newdf = df_sample.loc[(df_sample.date == '1/2/2018','BlueCars_taken_sum')]\n",
        "newdf\n",
        "newdf.describe()\n"
      ],
      "execution_count": 176,
      "outputs": [
        {
          "output_type": "execute_result",
          "data": {
            "text/plain": [
              "count     37.000000\n",
              "mean      82.351351\n",
              "std      107.092695\n",
              "min        1.000000\n",
              "25%       22.000000\n",
              "50%       34.000000\n",
              "75%      101.000000\n",
              "max      406.000000\n",
              "Name: BlueCars_taken_sum, dtype: float64"
            ]
          },
          "metadata": {
            "tags": []
          },
          "execution_count": 176
        }
      ]
    },
    {
      "cell_type": "code",
      "metadata": {
        "id": "NTZxSw9PcmpY",
        "colab_type": "code",
        "colab": {
          "base_uri": "https://localhost:8080/",
          "height": 181
        },
        "outputId": "698b311a-a3f3-48fa-c0b5-1c375a9e0b44"
      },
      "source": [
        "#Extracting the second data frame for the fifth day\n",
        "newdf1 = df_sample.loc[(df_sample.date == '1/6/2018','BlueCars_taken_sum')]\n",
        "newdf1\n",
        "newdf1.describe()"
      ],
      "execution_count": 177,
      "outputs": [
        {
          "output_type": "execute_result",
          "data": {
            "text/plain": [
              "count     26.000000\n",
              "mean     213.115385\n",
              "std      256.568171\n",
              "min        3.000000\n",
              "25%       25.000000\n",
              "50%       95.000000\n",
              "75%      350.500000\n",
              "max      928.000000\n",
              "Name: BlueCars_taken_sum, dtype: float64"
            ]
          },
          "metadata": {
            "tags": []
          },
          "execution_count": 177
        }
      ]
    },
    {
      "cell_type": "code",
      "metadata": {
        "id": "e7AbKkSvdKsW",
        "colab_type": "code",
        "colab": {
          "base_uri": "https://localhost:8080/",
          "height": 298
        },
        "outputId": "2dfd5ecc-8feb-479f-9c19-076a54239761"
      },
      "source": [
        "#The number of observations in each of the days are below 3o thus we will use the t test\n",
        "#Assumptions Taken:-\n",
        "#That the population variances from both days are equal, \n",
        "#constructing and interpreting a 95% confidence interval estimate of the difference between the means in the two days.\n",
        "#The data is discrete\n",
        "#The data follow the normal probability distribution. \n",
        "#The two samples are independent. \n",
        "sns.distplot(newdf)\n",
        "sns.distplot(newdf1)\n",
        "#There is some form of skewdness in the data"
      ],
      "execution_count": 185,
      "outputs": [
        {
          "output_type": "execute_result",
          "data": {
            "text/plain": [
              "<matplotlib.axes._subplots.AxesSubplot at 0x7fccb337cba8>"
            ]
          },
          "metadata": {
            "tags": []
          },
          "execution_count": 185
        },
        {
          "output_type": "display_data",
          "data": {
            "image/png": "[encoded data removed]",
            "text/plain": [
              "<Figure size 432x288 with 1 Axes>"
            ]
          },
          "metadata": {
            "tags": [],
            "needs_background": "light"
          }
        }
      ]
    },
    {
      "cell_type": "code",
      "metadata": {
        "id": "qHJsNEAFe9I_",
        "colab_type": "code",
        "colab": {
          "base_uri": "https://localhost:8080/",
          "height": 90
        },
        "outputId": "1a2fed59-60bb-4436-a062-90ce390f44a0"
      },
      "source": [
        "#Checking for skewness\n",
        "from scipy.stats import skew \n",
        "import numpy as np  \n",
        "import pylab as p  \n",
        "  \n",
        "print( '\\nSkewness for data : ', skew(newdf)) \n",
        "print( '\\nSkewness for data : ', skew(newdf1)) "
      ],
      "execution_count": 184,
      "outputs": [
        {
          "output_type": "stream",
          "text": [
            "\n",
            "Skewness for data :  1.8449122351519949\n",
            "\n",
            "Skewness for data :  1.303203436836496\n"
          ],
          "name": "stdout"
        }
      ]
    },
    {
      "cell_type": "code",
      "metadata": {
        "id": "H7L7pnPMfO-q",
        "colab_type": "code",
        "colab": {
          "base_uri": "https://localhost:8080/",
          "height": 54
        },
        "outputId": "db332066-28d6-4215-f49a-e5c394e5fd08"
      },
      "source": [
        "#checking for randomness\n",
        "np.sort(newdf)\n",
        "np.sort(newdf1)\n"
      ],
      "execution_count": 183,
      "outputs": [
        {
          "output_type": "execute_result",
          "data": {
            "text/plain": [
              "array([  3,   6,  10,  14,  16,  20,  25,  25,  36,  52,  56,  60,  95,\n",
              "        95, 111, 125, 152, 331, 331, 357, 365, 397, 619, 624, 688, 928])"
            ]
          },
          "metadata": {
            "tags": []
          },
          "execution_count": 183
        }
      ]
    },
    {
      "cell_type": "code",
      "metadata": {
        "id": "DeIN4PBLfUx6",
        "colab_type": "code",
        "colab": {
          "base_uri": "https://localhost:8080/",
          "height": 35
        },
        "outputId": "00441bbc-829d-41f6-d9e9-5705292536c9"
      },
      "source": [
        "\n",
        "average1 = sum(newdf)/len(newdf)\n",
        "average1\n",
        "np.std(newdf)\n"
      ],
      "execution_count": 169,
      "outputs": [
        {
          "output_type": "execute_result",
          "data": {
            "text/plain": [
              "105.63558374065012"
            ]
          },
          "metadata": {
            "tags": []
          },
          "execution_count": 169
        }
      ]
    },
    {
      "cell_type": "code",
      "metadata": {
        "id": "4bUq2Q2gfuks",
        "colab_type": "code",
        "colab": {
          "base_uri": "https://localhost:8080/",
          "height": 35
        },
        "outputId": "f8c777a8-57ba-4413-8a1b-55a7a889c238"
      },
      "source": [
        "average2 = sum(newdf1)/len(newdf1)\n",
        "average2\n",
        "np.std(newdf1)"
      ],
      "execution_count": 170,
      "outputs": [
        {
          "output_type": "execute_result",
          "data": {
            "text/plain": [
              "251.58579006635807"
            ]
          },
          "metadata": {
            "tags": []
          },
          "execution_count": 170
        }
      ]
    },
    {
      "cell_type": "code",
      "metadata": {
        "id": "5_d_KoAltb5f",
        "colab_type": "code",
        "colab": {
          "base_uri": "https://localhost:8080/",
          "height": 35
        },
        "outputId": "1aca0a25-32fb-4a81-bdf2-18517661b05e"
      },
      "source": [
        "#calculate the p value\n",
        "from scipy.stats import ttest_ind\n",
        "ttest,pval = ttest_ind(newdf,newdf1)\n",
        "print(pval)\n",
        "#The p value is 0.3878 which is greater than the the alpha value of 0.05 thus we fail to reject the null hypothesis."
      ],
      "execution_count": 173,
      "outputs": [
        {
          "output_type": "stream",
          "text": [
            "0.007187705835343974\n"
          ],
          "name": "stdout"
        }
      ]
    },
    {
      "cell_type": "code",
      "metadata": {
        "id": "DxvldtaZtJqO",
        "colab_type": "code",
        "colab": {}
      },
      "source": [
        "#Alteratively using the t statistic method we have the following\n",
        "# Student's t-test for independent samples\n",
        "from numpy.random import seed\n",
        "from numpy.random import randn\n",
        "from scipy.stats import ttest_ind\n",
        "# seed the random number generator\n",
        "seed(1)\n",
        "# compare samples\n",
        "stat, p = ttest_ind(newdf, newdf1)\n",
        "print('t=%.4f, p=%.4f' % (stat, p))\n",
        "# t=-0.8710 is the t stastitic\n",
        "# DF=53 (df = N-1)and the correpsondeing cv at 95% confidence level or 0.05 level of significance is 2.048\n",
        "# -0.8710 < 2.048 therefore we accept the null"
      ],
      "execution_count": null,
      "outputs": []
    },
    {
      "cell_type": "code",
      "metadata": {
        "id": "0QN1Cf-aYE5T",
        "colab_type": "code",
        "colab": {
          "base_uri": "https://localhost:8080/",
          "height": 35
        },
        "outputId": "7b12c8d7-fec4-4c87-ce3e-871837f5ec83"
      },
      "source": [
        "newdf2 = df.loc[(df.date == '1/2/2018','BlueCars_taken_sum')]\n",
        "newdf2\n",
        "average3 = sum(newdf2)/len(newdf2)\n",
        "average3"
      ],
      "execution_count": 174,
      "outputs": [
        {
          "output_type": "execute_result",
          "data": {
            "text/plain": [
              "97.45631067961165"
            ]
          },
          "metadata": {
            "tags": []
          },
          "execution_count": 174
        }
      ]
    },
    {
      "cell_type": "code",
      "metadata": {
        "id": "WQDMkaIXYfnP",
        "colab_type": "code",
        "colab": {
          "base_uri": "https://localhost:8080/",
          "height": 35
        },
        "outputId": "8136d617-3dad-4c3e-acc3-97dbe449cabe"
      },
      "source": [
        "newdf3 = df.loc[(df.date == '1/6/2018','BlueCars_taken_sum')]\n",
        "newdf3\n",
        "average4 = sum(newdf3)/len(newdf3)\n",
        "average4"
      ],
      "execution_count": 175,
      "outputs": [
        {
          "output_type": "execute_result",
          "data": {
            "text/plain": [
              "153.81553398058253"
            ]
          },
          "metadata": {
            "tags": []
          },
          "execution_count": 175
        }
      ]
    },
    {
      "cell_type": "code",
      "metadata": {
        "id": "Gx_hogdUaP3_",
        "colab_type": "code",
        "colab": {
          "base_uri": "https://localhost:8080/",
          "height": 35
        },
        "outputId": "8d9484e5-6037-43dd-d872-9bb3622fe9cc"
      },
      "source": [
        "#Sensitivity of the test\n",
        "PE1=average3-average1\n",
        "PE1\n"
      ],
      "execution_count": 181,
      "outputs": [
        {
          "output_type": "execute_result",
          "data": {
            "text/plain": [
              "15.104959328260293"
            ]
          },
          "metadata": {
            "tags": []
          },
          "execution_count": 181
        }
      ]
    },
    {
      "cell_type": "code",
      "metadata": {
        "id": "sCr0DuzYa2cl",
        "colab_type": "code",
        "colab": {
          "base_uri": "https://localhost:8080/",
          "height": 35
        },
        "outputId": "21d615a0-4556-4f18-87eb-38e96b6452ab"
      },
      "source": [
        "PE2=average4-average2\n",
        "PE2\n"
      ],
      "execution_count": 182,
      "outputs": [
        {
          "output_type": "execute_result",
          "data": {
            "text/plain": [
              "-59.299850634802084"
            ]
          },
          "metadata": {
            "tags": []
          },
          "execution_count": 182
        }
      ]
    }
  ]
}